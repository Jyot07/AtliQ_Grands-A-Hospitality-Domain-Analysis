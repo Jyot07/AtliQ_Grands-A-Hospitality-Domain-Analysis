{
 "cells": [
  {
   "cell_type": "markdown",
   "id": "9e41ff69-bd96-4ad4-9934-1a0f0b793365",
   "metadata": {},
   "source": [
    "<h2 align=\"center\">AtliQ Hotels Data Analysis Project<h2>"
   ]
  },
  {
   "cell_type": "code",
   "execution_count": 1,
   "id": "bca549e1-7e87-4229-815f-943376068a10",
   "metadata": {},
   "outputs": [],
   "source": [
    "import pandas as pd\n"
   ]
  },
  {
   "cell_type": "markdown",
   "id": "0e34be70-ce8f-4797-b7c1-dc5e01ddb121",
   "metadata": {},
   "source": [
    "# **==>1. Data Import and Data Exploration**"
   ]
  },
  {
   "cell_type": "markdown",
   "id": "f7a12373-e284-4ca5-aa80-9c73c77a3f5d",
   "metadata": {},
   "source": [
    "### Datasets\n",
    "We have 5 csv file \n",
    "\n",
    "   - dim_date.csv  \n",
    "   - dim_hotels.csv\n",
    "   - dim_rooms.csv\n",
    "   - fact_aggregated_bookings\n",
    "   - fact_bookings.csv"
   ]
  },
  {
   "cell_type": "markdown",
   "id": "d510f507-1988-4fa2-a70c-06e8bc744a9a",
   "metadata": {},
   "source": [
    "**Read bookings data in a datagrame**"
   ]
  },
  {
   "cell_type": "code",
   "execution_count": 4,
   "id": "6fc57bd3-b873-4bda-9f2e-b43f3c809cfd",
   "metadata": {},
   "outputs": [],
   "source": [
    "df_bookings = pd.read_csv(\"datasets/fact_bookings.csv\")\n"
   ]
  },
  {
   "cell_type": "markdown",
   "id": "de2d9fa5-0c1a-4af3-9b45-bc61caa17c2c",
   "metadata": {},
   "source": [
    "**Explore bookings data**"
   ]
  },
  {
   "cell_type": "code",
   "execution_count": 5,
   "id": "76563ad3-f7a2-4745-ab7d-db0a412694ad",
   "metadata": {},
   "outputs": [
    {
     "data": {
      "text/html": [
       "<div>\n",
       "<style scoped>\n",
       "    .dataframe tbody tr th:only-of-type {\n",
       "        vertical-align: middle;\n",
       "    }\n",
       "\n",
       "    .dataframe tbody tr th {\n",
       "        vertical-align: top;\n",
       "    }\n",
       "\n",
       "    .dataframe thead th {\n",
       "        text-align: right;\n",
       "    }\n",
       "</style>\n",
       "<table border=\"1\" class=\"dataframe\">\n",
       "  <thead>\n",
       "    <tr style=\"text-align: right;\">\n",
       "      <th></th>\n",
       "      <th>booking_id</th>\n",
       "      <th>property_id</th>\n",
       "      <th>booking_date</th>\n",
       "      <th>check_in_date</th>\n",
       "      <th>checkout_date</th>\n",
       "      <th>no_guests</th>\n",
       "      <th>room_category</th>\n",
       "      <th>booking_platform</th>\n",
       "      <th>ratings_given</th>\n",
       "      <th>booking_status</th>\n",
       "      <th>revenue_generated</th>\n",
       "      <th>revenue_realized</th>\n",
       "    </tr>\n",
       "  </thead>\n",
       "  <tbody>\n",
       "    <tr>\n",
       "      <th>0</th>\n",
       "      <td>May012216558RT11</td>\n",
       "      <td>16558</td>\n",
       "      <td>27-04-22</td>\n",
       "      <td>1/5/2022</td>\n",
       "      <td>2/5/2022</td>\n",
       "      <td>-3.0</td>\n",
       "      <td>RT1</td>\n",
       "      <td>direct online</td>\n",
       "      <td>1.0</td>\n",
       "      <td>Checked Out</td>\n",
       "      <td>10010</td>\n",
       "      <td>10010</td>\n",
       "    </tr>\n",
       "    <tr>\n",
       "      <th>1</th>\n",
       "      <td>May012216558RT12</td>\n",
       "      <td>16558</td>\n",
       "      <td>30-04-22</td>\n",
       "      <td>1/5/2022</td>\n",
       "      <td>2/5/2022</td>\n",
       "      <td>2.0</td>\n",
       "      <td>RT1</td>\n",
       "      <td>others</td>\n",
       "      <td>NaN</td>\n",
       "      <td>Cancelled</td>\n",
       "      <td>9100</td>\n",
       "      <td>3640</td>\n",
       "    </tr>\n",
       "    <tr>\n",
       "      <th>2</th>\n",
       "      <td>May012216558RT13</td>\n",
       "      <td>16558</td>\n",
       "      <td>28-04-22</td>\n",
       "      <td>1/5/2022</td>\n",
       "      <td>4/5/2022</td>\n",
       "      <td>2.0</td>\n",
       "      <td>RT1</td>\n",
       "      <td>logtrip</td>\n",
       "      <td>5.0</td>\n",
       "      <td>Checked Out</td>\n",
       "      <td>9100000</td>\n",
       "      <td>9100</td>\n",
       "    </tr>\n",
       "    <tr>\n",
       "      <th>3</th>\n",
       "      <td>May012216558RT14</td>\n",
       "      <td>16558</td>\n",
       "      <td>28-04-22</td>\n",
       "      <td>1/5/2022</td>\n",
       "      <td>2/5/2022</td>\n",
       "      <td>-2.0</td>\n",
       "      <td>RT1</td>\n",
       "      <td>others</td>\n",
       "      <td>NaN</td>\n",
       "      <td>Cancelled</td>\n",
       "      <td>9100</td>\n",
       "      <td>3640</td>\n",
       "    </tr>\n",
       "  </tbody>\n",
       "</table>\n",
       "</div>"
      ],
      "text/plain": [
       "         booking_id  property_id booking_date check_in_date checkout_date  \\\n",
       "0  May012216558RT11        16558     27-04-22      1/5/2022      2/5/2022   \n",
       "1  May012216558RT12        16558     30-04-22      1/5/2022      2/5/2022   \n",
       "2  May012216558RT13        16558     28-04-22      1/5/2022      4/5/2022   \n",
       "3  May012216558RT14        16558     28-04-22      1/5/2022      2/5/2022   \n",
       "\n",
       "   no_guests room_category booking_platform  ratings_given booking_status  \\\n",
       "0       -3.0           RT1    direct online            1.0    Checked Out   \n",
       "1        2.0           RT1           others            NaN      Cancelled   \n",
       "2        2.0           RT1          logtrip            5.0    Checked Out   \n",
       "3       -2.0           RT1           others            NaN      Cancelled   \n",
       "\n",
       "   revenue_generated  revenue_realized  \n",
       "0              10010             10010  \n",
       "1               9100              3640  \n",
       "2            9100000              9100  \n",
       "3               9100              3640  "
      ]
     },
     "execution_count": 5,
     "metadata": {},
     "output_type": "execute_result"
    }
   ],
   "source": [
    "df_bookings.head(4)"
   ]
  },
  {
   "cell_type": "code",
   "execution_count": 7,
   "id": "eff01ba3-ec52-4128-9ab5-e852a5feab99",
   "metadata": {},
   "outputs": [
    {
     "data": {
      "text/plain": [
       "(134590, 12)"
      ]
     },
     "execution_count": 7,
     "metadata": {},
     "output_type": "execute_result"
    }
   ],
   "source": [
    "df_bookings.shape"
   ]
  },
  {
   "cell_type": "code",
   "execution_count": 8,
   "id": "d2c78e12-06a9-4942-a7a4-612bb341764a",
   "metadata": {},
   "outputs": [
    {
     "data": {
      "text/plain": [
       "array(['RT1', 'RT2', 'RT3', 'RT4'], dtype=object)"
      ]
     },
     "execution_count": 8,
     "metadata": {},
     "output_type": "execute_result"
    }
   ],
   "source": [
    "df_bookings.room_category.unique()"
   ]
  },
  {
   "cell_type": "code",
   "execution_count": 4,
   "id": "c0a4cc32-4c6b-4a96-88c7-f64db7a33b0e",
   "metadata": {},
   "outputs": [
    {
     "data": {
      "text/plain": [
       "array(['direct online', 'others', 'logtrip', 'tripster', 'makeyourtrip',\n",
       "       'journey', 'direct offline'], dtype=object)"
      ]
     },
     "execution_count": 4,
     "metadata": {},
     "output_type": "execute_result"
    }
   ],
   "source": [
    "df_bookings.booking_platform.unique()"
   ]
  },
  {
   "cell_type": "code",
   "execution_count": 25,
   "id": "01bc8461-8d5f-49df-989e-db3d9e3b66b4",
   "metadata": {},
   "outputs": [
    {
     "data": {
      "text/plain": [
       "booking_platform\n",
       "direct offline     6755\n",
       "journey            8106\n",
       "tripster           9630\n",
       "direct online     13379\n",
       "logtrip           14756\n",
       "makeyourtrip      26898\n",
       "others            55066\n",
       "Name: count, dtype: int64"
      ]
     },
     "execution_count": 25,
     "metadata": {},
     "output_type": "execute_result"
    }
   ],
   "source": [
    "df_bookings.booking_platform.value_counts().sort_values(ascending= True)"
   ]
  },
  {
   "cell_type": "code",
   "execution_count": 8,
   "id": "3cd19adb-a476-4cf3-b067-d88cfbcb6454",
   "metadata": {},
   "outputs": [
    {
     "data": {
      "text/plain": [
       "<Axes: ylabel='booking_platform'>"
      ]
     },
     "execution_count": 8,
     "metadata": {},
     "output_type": "execute_result"
    },
    {
     "data": {
      "image/png": "[encoded data removed]",
      "text/plain": [
       "<Figure size 640x480 with 1 Axes>"
      ]
     },
     "metadata": {},
     "output_type": "display_data"
    }
   ],
   "source": [
    "df_bookings.booking_platform.value_counts().plot(kind=\"barh\")"
   ]
  },
  {
   "cell_type": "code",
   "execution_count": 9,
   "id": "a3b138d8-2011-4da4-a1b2-01a23cb455c5",
   "metadata": {},
   "outputs": [
    {
     "data": {
      "text/html": [
       "<div>\n",
       "<style scoped>\n",
       "    .dataframe tbody tr th:only-of-type {\n",
       "        vertical-align: middle;\n",
       "    }\n",
       "\n",
       "    .dataframe tbody tr th {\n",
       "        vertical-align: top;\n",
       "    }\n",
       "\n",
       "    .dataframe thead th {\n",
       "        text-align: right;\n",
       "    }\n",
       "</style>\n",
       "<table border=\"1\" class=\"dataframe\">\n",
       "  <thead>\n",
       "    <tr style=\"text-align: right;\">\n",
       "      <th></th>\n",
       "      <th>property_id</th>\n",
       "      <th>no_guests</th>\n",
       "      <th>ratings_given</th>\n",
       "      <th>revenue_generated</th>\n",
       "      <th>revenue_realized</th>\n",
       "    </tr>\n",
       "  </thead>\n",
       "  <tbody>\n",
       "    <tr>\n",
       "      <th>count</th>\n",
       "      <td>134590.000000</td>\n",
       "      <td>134587.000000</td>\n",
       "      <td>56683.000000</td>\n",
       "      <td>1.345900e+05</td>\n",
       "      <td>134590.000000</td>\n",
       "    </tr>\n",
       "    <tr>\n",
       "      <th>mean</th>\n",
       "      <td>18061.113493</td>\n",
       "      <td>2.036170</td>\n",
       "      <td>3.619004</td>\n",
       "      <td>1.537805e+04</td>\n",
       "      <td>12696.123256</td>\n",
       "    </tr>\n",
       "    <tr>\n",
       "      <th>std</th>\n",
       "      <td>1093.055847</td>\n",
       "      <td>1.034885</td>\n",
       "      <td>1.235009</td>\n",
       "      <td>9.303604e+04</td>\n",
       "      <td>6928.108124</td>\n",
       "    </tr>\n",
       "    <tr>\n",
       "      <th>min</th>\n",
       "      <td>16558.000000</td>\n",
       "      <td>-17.000000</td>\n",
       "      <td>1.000000</td>\n",
       "      <td>6.500000e+03</td>\n",
       "      <td>2600.000000</td>\n",
       "    </tr>\n",
       "    <tr>\n",
       "      <th>25%</th>\n",
       "      <td>17558.000000</td>\n",
       "      <td>1.000000</td>\n",
       "      <td>3.000000</td>\n",
       "      <td>9.900000e+03</td>\n",
       "      <td>7600.000000</td>\n",
       "    </tr>\n",
       "    <tr>\n",
       "      <th>50%</th>\n",
       "      <td>17564.000000</td>\n",
       "      <td>2.000000</td>\n",
       "      <td>4.000000</td>\n",
       "      <td>1.350000e+04</td>\n",
       "      <td>11700.000000</td>\n",
       "    </tr>\n",
       "    <tr>\n",
       "      <th>75%</th>\n",
       "      <td>18563.000000</td>\n",
       "      <td>2.000000</td>\n",
       "      <td>5.000000</td>\n",
       "      <td>1.800000e+04</td>\n",
       "      <td>15300.000000</td>\n",
       "    </tr>\n",
       "    <tr>\n",
       "      <th>max</th>\n",
       "      <td>19563.000000</td>\n",
       "      <td>6.000000</td>\n",
       "      <td>5.000000</td>\n",
       "      <td>2.856000e+07</td>\n",
       "      <td>45220.000000</td>\n",
       "    </tr>\n",
       "  </tbody>\n",
       "</table>\n",
       "</div>"
      ],
      "text/plain": [
       "         property_id      no_guests  ratings_given  revenue_generated  \\\n",
       "count  134590.000000  134587.000000   56683.000000       1.345900e+05   \n",
       "mean    18061.113493       2.036170       3.619004       1.537805e+04   \n",
       "std      1093.055847       1.034885       1.235009       9.303604e+04   \n",
       "min     16558.000000     -17.000000       1.000000       6.500000e+03   \n",
       "25%     17558.000000       1.000000       3.000000       9.900000e+03   \n",
       "50%     17564.000000       2.000000       4.000000       1.350000e+04   \n",
       "75%     18563.000000       2.000000       5.000000       1.800000e+04   \n",
       "max     19563.000000       6.000000       5.000000       2.856000e+07   \n",
       "\n",
       "       revenue_realized  \n",
       "count     134590.000000  \n",
       "mean       12696.123256  \n",
       "std         6928.108124  \n",
       "min         2600.000000  \n",
       "25%         7600.000000  \n",
       "50%        11700.000000  \n",
       "75%        15300.000000  \n",
       "max        45220.000000  "
      ]
     },
     "execution_count": 9,
     "metadata": {},
     "output_type": "execute_result"
    }
   ],
   "source": [
    "df_bookings.describe()"
   ]
  },
  {
   "cell_type": "code",
   "execution_count": 10,
   "id": "8341ca1d-e558-4b92-8897-91a5489018c6",
   "metadata": {},
   "outputs": [
    {
     "data": {
      "text/plain": [
       "(6500, 28560000)"
      ]
     },
     "execution_count": 10,
     "metadata": {},
     "output_type": "execute_result"
    }
   ],
   "source": [
    "df_bookings.revenue_generated.min(), df_bookings.revenue_generated.max()"
   ]
  },
  {
   "cell_type": "code",
   "execution_count": 11,
   "id": "0dfc88f0-a7e3-493f-92bc-7a46abb02487",
   "metadata": {},
   "outputs": [],
   "source": [
    "df_date = pd.read_csv('datasets/dim_date.csv')\n",
    "df_hotels = pd.read_csv('datasets/dim_hotels.csv')\n",
    "df_rooms = pd.read_csv('datasets/dim_rooms.csv')\n",
    "df_agg_bookings = pd.read_csv('datasets/fact_aggregated_bookings.csv')"
   ]
  },
  {
   "cell_type": "code",
   "execution_count": 14,
   "id": "6e07b580-93b7-4ffe-b0b4-21eded7cc012",
   "metadata": {},
   "outputs": [
    {
     "data": {
      "text/plain": [
       "(25, 4)"
      ]
     },
     "execution_count": 14,
     "metadata": {},
     "output_type": "execute_result"
    }
   ],
   "source": [
    "df_hotels.shape"
   ]
  },
  {
   "cell_type": "code",
   "execution_count": 15,
   "id": "0e8650e3-97ad-4450-9728-14fd52bda436",
   "metadata": {},
   "outputs": [
    {
     "data": {
      "text/html": [
       "<div>\n",
       "<style scoped>\n",
       "    .dataframe tbody tr th:only-of-type {\n",
       "        vertical-align: middle;\n",
       "    }\n",
       "\n",
       "    .dataframe tbody tr th {\n",
       "        vertical-align: top;\n",
       "    }\n",
       "\n",
       "    .dataframe thead th {\n",
       "        text-align: right;\n",
       "    }\n",
       "</style>\n",
       "<table border=\"1\" class=\"dataframe\">\n",
       "  <thead>\n",
       "    <tr style=\"text-align: right;\">\n",
       "      <th></th>\n",
       "      <th>property_id</th>\n",
       "      <th>property_name</th>\n",
       "      <th>category</th>\n",
       "      <th>city</th>\n",
       "    </tr>\n",
       "  </thead>\n",
       "  <tbody>\n",
       "    <tr>\n",
       "      <th>0</th>\n",
       "      <td>16558</td>\n",
       "      <td>Atliq Grands</td>\n",
       "      <td>Luxury</td>\n",
       "      <td>Delhi</td>\n",
       "    </tr>\n",
       "    <tr>\n",
       "      <th>1</th>\n",
       "      <td>16559</td>\n",
       "      <td>Atliq Exotica</td>\n",
       "      <td>Luxury</td>\n",
       "      <td>Mumbai</td>\n",
       "    </tr>\n",
       "    <tr>\n",
       "      <th>2</th>\n",
       "      <td>16560</td>\n",
       "      <td>Atliq City</td>\n",
       "      <td>Business</td>\n",
       "      <td>Delhi</td>\n",
       "    </tr>\n",
       "    <tr>\n",
       "      <th>3</th>\n",
       "      <td>16561</td>\n",
       "      <td>Atliq Blu</td>\n",
       "      <td>Luxury</td>\n",
       "      <td>Delhi</td>\n",
       "    </tr>\n",
       "  </tbody>\n",
       "</table>\n",
       "</div>"
      ],
      "text/plain": [
       "   property_id  property_name  category    city\n",
       "0        16558   Atliq Grands    Luxury   Delhi\n",
       "1        16559  Atliq Exotica    Luxury  Mumbai\n",
       "2        16560     Atliq City  Business   Delhi\n",
       "3        16561      Atliq Blu    Luxury   Delhi"
      ]
     },
     "execution_count": 15,
     "metadata": {},
     "output_type": "execute_result"
    }
   ],
   "source": [
    "df_hotels.head(4)"
   ]
  },
  {
   "cell_type": "code",
   "execution_count": 18,
   "id": "a20e1400-18be-4372-822e-8dae8e6c37f8",
   "metadata": {},
   "outputs": [
    {
     "data": {
      "text/plain": [
       "category\n",
       "Luxury      16\n",
       "Business     9\n",
       "Name: count, dtype: int64"
      ]
     },
     "execution_count": 18,
     "metadata": {},
     "output_type": "execute_result"
    }
   ],
   "source": [
    "df_hotels.category.value_counts()"
   ]
  },
  {
   "cell_type": "code",
   "execution_count": 19,
   "id": "15a3ba4c-4d8d-4158-ade7-c275363f40d1",
   "metadata": {},
   "outputs": [
    {
     "data": {
      "text/plain": [
       "city\n",
       "Mumbai       8\n",
       "Hyderabad    6\n",
       "Bangalore    6\n",
       "Delhi        5\n",
       "Name: count, dtype: int64"
      ]
     },
     "execution_count": 19,
     "metadata": {},
     "output_type": "execute_result"
    }
   ],
   "source": [
    "df_hotels.city.value_counts()"
   ]
  },
  {
   "cell_type": "code",
   "execution_count": 26,
   "id": "fdef3a62-4896-4cf8-bce0-fc400365b9e3",
   "metadata": {},
   "outputs": [
    {
     "data": {
      "text/plain": [
       "<Axes: xlabel='city'>"
      ]
     },
     "execution_count": 26,
     "metadata": {},
     "output_type": "execute_result"
    },
    {
     "data": {
      "image/png": "[encoded data removed]",
      "text/plain": [
       "<Figure size 640x480 with 1 Axes>"
      ]
     },
     "metadata": {},
     "output_type": "display_data"
    }
   ],
   "source": [
    "df_hotels.city.value_counts().sort_values().plot(kind=\"bar\")"
   ]
  },
  {
   "cell_type": "markdown",
   "id": "ee4533e0-16e4-454f-aac8-add852a1f155",
   "metadata": {},
   "source": [
    "## **Exercise: Explore aggregate bookings**"
   ]
  },
  {
   "cell_type": "code",
   "execution_count": 28,
   "id": "052f9b5c-989e-44ff-91fa-d2db8abc0e6b",
   "metadata": {},
   "outputs": [
    {
     "data": {
      "text/html": [
       "<div>\n",
       "<style scoped>\n",
       "    .dataframe tbody tr th:only-of-type {\n",
       "        vertical-align: middle;\n",
       "    }\n",
       "\n",
       "    .dataframe tbody tr th {\n",
       "        vertical-align: top;\n",
       "    }\n",
       "\n",
       "    .dataframe thead th {\n",
       "        text-align: right;\n",
       "    }\n",
       "</style>\n",
       "<table border=\"1\" class=\"dataframe\">\n",
       "  <thead>\n",
       "    <tr style=\"text-align: right;\">\n",
       "      <th></th>\n",
       "      <th>property_id</th>\n",
       "      <th>check_in_date</th>\n",
       "      <th>room_category</th>\n",
       "      <th>successful_bookings</th>\n",
       "      <th>capacity</th>\n",
       "    </tr>\n",
       "  </thead>\n",
       "  <tbody>\n",
       "    <tr>\n",
       "      <th>0</th>\n",
       "      <td>16559</td>\n",
       "      <td>1-May-22</td>\n",
       "      <td>RT1</td>\n",
       "      <td>25</td>\n",
       "      <td>30.0</td>\n",
       "    </tr>\n",
       "    <tr>\n",
       "      <th>1</th>\n",
       "      <td>19562</td>\n",
       "      <td>1-May-22</td>\n",
       "      <td>RT1</td>\n",
       "      <td>28</td>\n",
       "      <td>30.0</td>\n",
       "    </tr>\n",
       "    <tr>\n",
       "      <th>2</th>\n",
       "      <td>19563</td>\n",
       "      <td>1-May-22</td>\n",
       "      <td>RT1</td>\n",
       "      <td>23</td>\n",
       "      <td>30.0</td>\n",
       "    </tr>\n",
       "    <tr>\n",
       "      <th>3</th>\n",
       "      <td>17558</td>\n",
       "      <td>1-May-22</td>\n",
       "      <td>RT1</td>\n",
       "      <td>30</td>\n",
       "      <td>19.0</td>\n",
       "    </tr>\n",
       "  </tbody>\n",
       "</table>\n",
       "</div>"
      ],
      "text/plain": [
       "   property_id check_in_date room_category  successful_bookings  capacity\n",
       "0        16559      1-May-22           RT1                   25      30.0\n",
       "1        19562      1-May-22           RT1                   28      30.0\n",
       "2        19563      1-May-22           RT1                   23      30.0\n",
       "3        17558      1-May-22           RT1                   30      19.0"
      ]
     },
     "execution_count": 28,
     "metadata": {},
     "output_type": "execute_result"
    }
   ],
   "source": [
    "df_agg_bookings.head(4)"
   ]
  },
  {
   "cell_type": "markdown",
   "id": "d1cbb82c-0cd9-4b25-88d5-e15f7682aceb",
   "metadata": {},
   "source": [
    "**1. Find out unique property ids in aggregate bookings dataset**\r\n"
   ]
  },
  {
   "cell_type": "code",
   "execution_count": 29,
   "id": "ca05cb12-7c62-4350-9c7e-07c3e403bdd7",
   "metadata": {},
   "outputs": [
    {
     "data": {
      "text/plain": [
       "array([16559, 19562, 19563, 17558, 16558, 17560, 19558, 19560, 17561,\n",
       "       16560, 16561, 16562, 16563, 17559, 17562, 17563, 18558, 18559,\n",
       "       18561, 18562, 18563, 19559, 19561, 17564, 18560], dtype=int64)"
      ]
     },
     "execution_count": 29,
     "metadata": {},
     "output_type": "execute_result"
    }
   ],
   "source": [
    "df_agg_bookings.property_id.unique()"
   ]
  },
  {
   "cell_type": "markdown",
   "id": "48ada47d-65b1-4e98-8a20-fcf5dae9b981",
   "metadata": {},
   "source": [
    "**2. Find out total bookings per property_id**\r\n"
   ]
  },
  {
   "cell_type": "code",
   "execution_count": 30,
   "id": "e0be540f-15d0-47b4-baa1-10d80fa0fc4c",
   "metadata": {},
   "outputs": [
    {
     "data": {
      "text/plain": [
       "property_id\n",
       "16559    368\n",
       "17559    368\n",
       "17564    368\n",
       "19561    368\n",
       "19559    368\n",
       "18563    368\n",
       "18562    368\n",
       "18561    368\n",
       "18559    368\n",
       "18558    368\n",
       "17563    368\n",
       "17562    368\n",
       "16563    368\n",
       "19562    368\n",
       "16562    368\n",
       "16561    368\n",
       "16560    368\n",
       "17561    368\n",
       "19560    368\n",
       "19558    368\n",
       "17560    368\n",
       "16558    368\n",
       "17558    368\n",
       "19563    368\n",
       "18560    368\n",
       "Name: count, dtype: int64"
      ]
     },
     "execution_count": 30,
     "metadata": {},
     "output_type": "execute_result"
    }
   ],
   "source": [
    "df_agg_bookings.property_id.value_counts()"
   ]
  },
  {
   "cell_type": "markdown",
   "id": "e2af05b6-9274-4070-b4ba-c1a4ae7a49cc",
   "metadata": {},
   "source": [
    "**2.1 Successful Bookings per property_id:-**"
   ]
  },
  {
   "cell_type": "code",
   "execution_count": 32,
   "id": "6ad9ad78-c80d-4bd9-983d-9dd3782089d7",
   "metadata": {},
   "outputs": [
    {
     "data": {
      "text/plain": [
       "property_id\n",
       "16558    3153\n",
       "16559    7338\n",
       "16560    4693\n",
       "16561    4418\n",
       "16562    4820\n",
       "16563    7211\n",
       "17558    5053\n",
       "17559    6142\n",
       "17560    6013\n",
       "17561    5183\n",
       "17562    3424\n",
       "17563    6337\n",
       "17564    3982\n",
       "18558    4475\n",
       "18559    5256\n",
       "18560    6638\n",
       "18561    6458\n",
       "18562    7333\n",
       "18563    4737\n",
       "19558    4400\n",
       "19559    4729\n",
       "19560    6079\n",
       "19561    5736\n",
       "19562    5812\n",
       "19563    5413\n",
       "Name: successful_bookings, dtype: int64"
      ]
     },
     "execution_count": 32,
     "metadata": {},
     "output_type": "execute_result"
    }
   ],
   "source": [
    "df_agg_bookings.groupby(\"property_id\")[\"successful_bookings\"].sum()"
   ]
  },
  {
   "cell_type": "markdown",
   "id": "295e446a-03a9-4fe2-8dc1-0efdeb7198d7",
   "metadata": {},
   "source": [
    "**3. Find out days on which bookings are greater than capacity**"
   ]
  },
  {
   "cell_type": "code",
   "execution_count": 33,
   "id": "22ee6b06-b2fb-4e5f-b641-ed31fa178596",
   "metadata": {},
   "outputs": [
    {
     "data": {
      "text/html": [
       "<div>\n",
       "<style scoped>\n",
       "    .dataframe tbody tr th:only-of-type {\n",
       "        vertical-align: middle;\n",
       "    }\n",
       "\n",
       "    .dataframe tbody tr th {\n",
       "        vertical-align: top;\n",
       "    }\n",
       "\n",
       "    .dataframe thead th {\n",
       "        text-align: right;\n",
       "    }\n",
       "</style>\n",
       "<table border=\"1\" class=\"dataframe\">\n",
       "  <thead>\n",
       "    <tr style=\"text-align: right;\">\n",
       "      <th></th>\n",
       "      <th>property_id</th>\n",
       "      <th>check_in_date</th>\n",
       "      <th>room_category</th>\n",
       "      <th>successful_bookings</th>\n",
       "      <th>capacity</th>\n",
       "    </tr>\n",
       "  </thead>\n",
       "  <tbody>\n",
       "    <tr>\n",
       "      <th>3</th>\n",
       "      <td>17558</td>\n",
       "      <td>1-May-22</td>\n",
       "      <td>RT1</td>\n",
       "      <td>30</td>\n",
       "      <td>19.0</td>\n",
       "    </tr>\n",
       "    <tr>\n",
       "      <th>12</th>\n",
       "      <td>16563</td>\n",
       "      <td>1-May-22</td>\n",
       "      <td>RT1</td>\n",
       "      <td>100</td>\n",
       "      <td>41.0</td>\n",
       "    </tr>\n",
       "    <tr>\n",
       "      <th>4136</th>\n",
       "      <td>19558</td>\n",
       "      <td>11-Jun-22</td>\n",
       "      <td>RT2</td>\n",
       "      <td>50</td>\n",
       "      <td>39.0</td>\n",
       "    </tr>\n",
       "    <tr>\n",
       "      <th>6209</th>\n",
       "      <td>19560</td>\n",
       "      <td>2-Jul-22</td>\n",
       "      <td>RT1</td>\n",
       "      <td>123</td>\n",
       "      <td>26.0</td>\n",
       "    </tr>\n",
       "    <tr>\n",
       "      <th>8522</th>\n",
       "      <td>19559</td>\n",
       "      <td>25-Jul-22</td>\n",
       "      <td>RT1</td>\n",
       "      <td>35</td>\n",
       "      <td>24.0</td>\n",
       "    </tr>\n",
       "    <tr>\n",
       "      <th>9194</th>\n",
       "      <td>18563</td>\n",
       "      <td>31-Jul-22</td>\n",
       "      <td>RT4</td>\n",
       "      <td>20</td>\n",
       "      <td>18.0</td>\n",
       "    </tr>\n",
       "  </tbody>\n",
       "</table>\n",
       "</div>"
      ],
      "text/plain": [
       "      property_id check_in_date room_category  successful_bookings  capacity\n",
       "3           17558      1-May-22           RT1                   30      19.0\n",
       "12          16563      1-May-22           RT1                  100      41.0\n",
       "4136        19558     11-Jun-22           RT2                   50      39.0\n",
       "6209        19560      2-Jul-22           RT1                  123      26.0\n",
       "8522        19559     25-Jul-22           RT1                   35      24.0\n",
       "9194        18563     31-Jul-22           RT4                   20      18.0"
      ]
     },
     "execution_count": 33,
     "metadata": {},
     "output_type": "execute_result"
    }
   ],
   "source": [
    "df_agg_bookings[df_agg_bookings.successful_bookings>df_agg_bookings.capacity]"
   ]
  },
  {
   "cell_type": "markdown",
   "id": "bd5d92c7-f520-41e9-ac48-356adc7ac7ea",
   "metadata": {},
   "source": [
    "**4. Find out properties that have highest capacity**\r\n"
   ]
  },
  {
   "cell_type": "code",
   "execution_count": 34,
   "id": "eb9e99ef-1ce9-42d3-b91a-b208fa5fc952",
   "metadata": {},
   "outputs": [
    {
     "data": {
      "text/plain": [
       "50.0"
      ]
     },
     "execution_count": 34,
     "metadata": {},
     "output_type": "execute_result"
    }
   ],
   "source": [
    "df_agg_bookings.capacity.max()"
   ]
  },
  {
   "cell_type": "code",
   "execution_count": 35,
   "id": "25d95190-1478-4431-b08e-19d5d6b99a82",
   "metadata": {},
   "outputs": [
    {
     "data": {
      "text/html": [
       "<div>\n",
       "<style scoped>\n",
       "    .dataframe tbody tr th:only-of-type {\n",
       "        vertical-align: middle;\n",
       "    }\n",
       "\n",
       "    .dataframe tbody tr th {\n",
       "        vertical-align: top;\n",
       "    }\n",
       "\n",
       "    .dataframe thead th {\n",
       "        text-align: right;\n",
       "    }\n",
       "</style>\n",
       "<table border=\"1\" class=\"dataframe\">\n",
       "  <thead>\n",
       "    <tr style=\"text-align: right;\">\n",
       "      <th></th>\n",
       "      <th>property_id</th>\n",
       "      <th>check_in_date</th>\n",
       "      <th>room_category</th>\n",
       "      <th>successful_bookings</th>\n",
       "      <th>capacity</th>\n",
       "    </tr>\n",
       "  </thead>\n",
       "  <tbody>\n",
       "    <tr>\n",
       "      <th>27</th>\n",
       "      <td>17558</td>\n",
       "      <td>1-May-22</td>\n",
       "      <td>RT2</td>\n",
       "      <td>38</td>\n",
       "      <td>50.0</td>\n",
       "    </tr>\n",
       "    <tr>\n",
       "      <th>128</th>\n",
       "      <td>17558</td>\n",
       "      <td>2-May-22</td>\n",
       "      <td>RT2</td>\n",
       "      <td>27</td>\n",
       "      <td>50.0</td>\n",
       "    </tr>\n",
       "    <tr>\n",
       "      <th>229</th>\n",
       "      <td>17558</td>\n",
       "      <td>3-May-22</td>\n",
       "      <td>RT2</td>\n",
       "      <td>26</td>\n",
       "      <td>50.0</td>\n",
       "    </tr>\n",
       "    <tr>\n",
       "      <th>328</th>\n",
       "      <td>17558</td>\n",
       "      <td>4-May-22</td>\n",
       "      <td>RT2</td>\n",
       "      <td>27</td>\n",
       "      <td>50.0</td>\n",
       "    </tr>\n",
       "    <tr>\n",
       "      <th>428</th>\n",
       "      <td>17558</td>\n",
       "      <td>5-May-22</td>\n",
       "      <td>RT2</td>\n",
       "      <td>29</td>\n",
       "      <td>50.0</td>\n",
       "    </tr>\n",
       "    <tr>\n",
       "      <th>...</th>\n",
       "      <td>...</td>\n",
       "      <td>...</td>\n",
       "      <td>...</td>\n",
       "      <td>...</td>\n",
       "      <td>...</td>\n",
       "    </tr>\n",
       "    <tr>\n",
       "      <th>8728</th>\n",
       "      <td>17558</td>\n",
       "      <td>27-Jul-22</td>\n",
       "      <td>RT2</td>\n",
       "      <td>22</td>\n",
       "      <td>50.0</td>\n",
       "    </tr>\n",
       "    <tr>\n",
       "      <th>8828</th>\n",
       "      <td>17558</td>\n",
       "      <td>28-Jul-22</td>\n",
       "      <td>RT2</td>\n",
       "      <td>21</td>\n",
       "      <td>50.0</td>\n",
       "    </tr>\n",
       "    <tr>\n",
       "      <th>8928</th>\n",
       "      <td>17558</td>\n",
       "      <td>29-Jul-22</td>\n",
       "      <td>RT2</td>\n",
       "      <td>23</td>\n",
       "      <td>50.0</td>\n",
       "    </tr>\n",
       "    <tr>\n",
       "      <th>9028</th>\n",
       "      <td>17558</td>\n",
       "      <td>30-Jul-22</td>\n",
       "      <td>RT2</td>\n",
       "      <td>32</td>\n",
       "      <td>50.0</td>\n",
       "    </tr>\n",
       "    <tr>\n",
       "      <th>9128</th>\n",
       "      <td>17558</td>\n",
       "      <td>31-Jul-22</td>\n",
       "      <td>RT2</td>\n",
       "      <td>30</td>\n",
       "      <td>50.0</td>\n",
       "    </tr>\n",
       "  </tbody>\n",
       "</table>\n",
       "<p>92 rows × 5 columns</p>\n",
       "</div>"
      ],
      "text/plain": [
       "      property_id check_in_date room_category  successful_bookings  capacity\n",
       "27          17558      1-May-22           RT2                   38      50.0\n",
       "128         17558      2-May-22           RT2                   27      50.0\n",
       "229         17558      3-May-22           RT2                   26      50.0\n",
       "328         17558      4-May-22           RT2                   27      50.0\n",
       "428         17558      5-May-22           RT2                   29      50.0\n",
       "...           ...           ...           ...                  ...       ...\n",
       "8728        17558     27-Jul-22           RT2                   22      50.0\n",
       "8828        17558     28-Jul-22           RT2                   21      50.0\n",
       "8928        17558     29-Jul-22           RT2                   23      50.0\n",
       "9028        17558     30-Jul-22           RT2                   32      50.0\n",
       "9128        17558     31-Jul-22           RT2                   30      50.0\n",
       "\n",
       "[92 rows x 5 columns]"
      ]
     },
     "execution_count": 35,
     "metadata": {},
     "output_type": "execute_result"
    }
   ],
   "source": [
    "df_agg_bookings[df_agg_bookings.capacity==df_agg_bookings.capacity.max()]"
   ]
  },
  {
   "cell_type": "markdown",
   "id": "2117371d-9a81-48a8-8340-aa2d62c5f3a1",
   "metadata": {},
   "source": [
    "# ==>**2. Data Cleaning**"
   ]
  },
  {
   "cell_type": "code",
   "execution_count": 36,
   "id": "ab37b998-dfe0-4881-a61e-d28d46915728",
   "metadata": {},
   "outputs": [
    {
     "data": {
      "text/html": [
       "<div>\n",
       "<style scoped>\n",
       "    .dataframe tbody tr th:only-of-type {\n",
       "        vertical-align: middle;\n",
       "    }\n",
       "\n",
       "    .dataframe tbody tr th {\n",
       "        vertical-align: top;\n",
       "    }\n",
       "\n",
       "    .dataframe thead th {\n",
       "        text-align: right;\n",
       "    }\n",
       "</style>\n",
       "<table border=\"1\" class=\"dataframe\">\n",
       "  <thead>\n",
       "    <tr style=\"text-align: right;\">\n",
       "      <th></th>\n",
       "      <th>property_id</th>\n",
       "      <th>no_guests</th>\n",
       "      <th>ratings_given</th>\n",
       "      <th>revenue_generated</th>\n",
       "      <th>revenue_realized</th>\n",
       "    </tr>\n",
       "  </thead>\n",
       "  <tbody>\n",
       "    <tr>\n",
       "      <th>count</th>\n",
       "      <td>134590.000000</td>\n",
       "      <td>134587.000000</td>\n",
       "      <td>56683.000000</td>\n",
       "      <td>1.345900e+05</td>\n",
       "      <td>134590.000000</td>\n",
       "    </tr>\n",
       "    <tr>\n",
       "      <th>mean</th>\n",
       "      <td>18061.113493</td>\n",
       "      <td>2.036170</td>\n",
       "      <td>3.619004</td>\n",
       "      <td>1.537805e+04</td>\n",
       "      <td>12696.123256</td>\n",
       "    </tr>\n",
       "    <tr>\n",
       "      <th>std</th>\n",
       "      <td>1093.055847</td>\n",
       "      <td>1.034885</td>\n",
       "      <td>1.235009</td>\n",
       "      <td>9.303604e+04</td>\n",
       "      <td>6928.108124</td>\n",
       "    </tr>\n",
       "    <tr>\n",
       "      <th>min</th>\n",
       "      <td>16558.000000</td>\n",
       "      <td>-17.000000</td>\n",
       "      <td>1.000000</td>\n",
       "      <td>6.500000e+03</td>\n",
       "      <td>2600.000000</td>\n",
       "    </tr>\n",
       "    <tr>\n",
       "      <th>25%</th>\n",
       "      <td>17558.000000</td>\n",
       "      <td>1.000000</td>\n",
       "      <td>3.000000</td>\n",
       "      <td>9.900000e+03</td>\n",
       "      <td>7600.000000</td>\n",
       "    </tr>\n",
       "    <tr>\n",
       "      <th>50%</th>\n",
       "      <td>17564.000000</td>\n",
       "      <td>2.000000</td>\n",
       "      <td>4.000000</td>\n",
       "      <td>1.350000e+04</td>\n",
       "      <td>11700.000000</td>\n",
       "    </tr>\n",
       "    <tr>\n",
       "      <th>75%</th>\n",
       "      <td>18563.000000</td>\n",
       "      <td>2.000000</td>\n",
       "      <td>5.000000</td>\n",
       "      <td>1.800000e+04</td>\n",
       "      <td>15300.000000</td>\n",
       "    </tr>\n",
       "    <tr>\n",
       "      <th>max</th>\n",
       "      <td>19563.000000</td>\n",
       "      <td>6.000000</td>\n",
       "      <td>5.000000</td>\n",
       "      <td>2.856000e+07</td>\n",
       "      <td>45220.000000</td>\n",
       "    </tr>\n",
       "  </tbody>\n",
       "</table>\n",
       "</div>"
      ],
      "text/plain": [
       "         property_id      no_guests  ratings_given  revenue_generated  \\\n",
       "count  134590.000000  134587.000000   56683.000000       1.345900e+05   \n",
       "mean    18061.113493       2.036170       3.619004       1.537805e+04   \n",
       "std      1093.055847       1.034885       1.235009       9.303604e+04   \n",
       "min     16558.000000     -17.000000       1.000000       6.500000e+03   \n",
       "25%     17558.000000       1.000000       3.000000       9.900000e+03   \n",
       "50%     17564.000000       2.000000       4.000000       1.350000e+04   \n",
       "75%     18563.000000       2.000000       5.000000       1.800000e+04   \n",
       "max     19563.000000       6.000000       5.000000       2.856000e+07   \n",
       "\n",
       "       revenue_realized  \n",
       "count     134590.000000  \n",
       "mean       12696.123256  \n",
       "std         6928.108124  \n",
       "min         2600.000000  \n",
       "25%         7600.000000  \n",
       "50%        11700.000000  \n",
       "75%        15300.000000  \n",
       "max        45220.000000  "
      ]
     },
     "execution_count": 36,
     "metadata": {},
     "output_type": "execute_result"
    }
   ],
   "source": [
    "df_bookings.describe()"
   ]
  },
  {
   "cell_type": "markdown",
   "id": "1467dc69-542c-4fe4-b365-a2fd2f122cbb",
   "metadata": {},
   "source": [
    "**1. Clean Invalid Guests**"
   ]
  },
  {
   "cell_type": "code",
   "execution_count": 40,
   "id": "51518697-69b0-4f5a-9302-28aa4806b35a",
   "metadata": {},
   "outputs": [
    {
     "data": {
      "text/plain": [
       "(134590, 12)"
      ]
     },
     "execution_count": 40,
     "metadata": {},
     "output_type": "execute_result"
    }
   ],
   "source": [
    "df_bookings.shape"
   ]
  },
  {
   "cell_type": "code",
   "execution_count": 39,
   "id": "d862ebc4-d352-4f57-b75a-721d2d65c0a5",
   "metadata": {},
   "outputs": [
    {
     "data": {
      "text/html": [
       "<div>\n",
       "<style scoped>\n",
       "    .dataframe tbody tr th:only-of-type {\n",
       "        vertical-align: middle;\n",
       "    }\n",
       "\n",
       "    .dataframe tbody tr th {\n",
       "        vertical-align: top;\n",
       "    }\n",
       "\n",
       "    .dataframe thead th {\n",
       "        text-align: right;\n",
       "    }\n",
       "</style>\n",
       "<table border=\"1\" class=\"dataframe\">\n",
       "  <thead>\n",
       "    <tr style=\"text-align: right;\">\n",
       "      <th></th>\n",
       "      <th>booking_id</th>\n",
       "      <th>property_id</th>\n",
       "      <th>booking_date</th>\n",
       "      <th>check_in_date</th>\n",
       "      <th>checkout_date</th>\n",
       "      <th>no_guests</th>\n",
       "      <th>room_category</th>\n",
       "      <th>booking_platform</th>\n",
       "      <th>ratings_given</th>\n",
       "      <th>booking_status</th>\n",
       "      <th>revenue_generated</th>\n",
       "      <th>revenue_realized</th>\n",
       "    </tr>\n",
       "  </thead>\n",
       "  <tbody>\n",
       "    <tr>\n",
       "      <th>0</th>\n",
       "      <td>May012216558RT11</td>\n",
       "      <td>16558</td>\n",
       "      <td>27-04-22</td>\n",
       "      <td>1/5/2022</td>\n",
       "      <td>2/5/2022</td>\n",
       "      <td>-3.0</td>\n",
       "      <td>RT1</td>\n",
       "      <td>direct online</td>\n",
       "      <td>1.0</td>\n",
       "      <td>Checked Out</td>\n",
       "      <td>10010</td>\n",
       "      <td>10010</td>\n",
       "    </tr>\n",
       "    <tr>\n",
       "      <th>3</th>\n",
       "      <td>May012216558RT14</td>\n",
       "      <td>16558</td>\n",
       "      <td>28-04-22</td>\n",
       "      <td>1/5/2022</td>\n",
       "      <td>2/5/2022</td>\n",
       "      <td>-2.0</td>\n",
       "      <td>RT1</td>\n",
       "      <td>others</td>\n",
       "      <td>NaN</td>\n",
       "      <td>Cancelled</td>\n",
       "      <td>9100</td>\n",
       "      <td>3640</td>\n",
       "    </tr>\n",
       "    <tr>\n",
       "      <th>17924</th>\n",
       "      <td>May122218559RT44</td>\n",
       "      <td>18559</td>\n",
       "      <td>12/5/2022</td>\n",
       "      <td>12/5/2022</td>\n",
       "      <td>14-05-22</td>\n",
       "      <td>-10.0</td>\n",
       "      <td>RT4</td>\n",
       "      <td>direct online</td>\n",
       "      <td>NaN</td>\n",
       "      <td>No Show</td>\n",
       "      <td>20900</td>\n",
       "      <td>20900</td>\n",
       "    </tr>\n",
       "    <tr>\n",
       "      <th>18020</th>\n",
       "      <td>May122218561RT22</td>\n",
       "      <td>18561</td>\n",
       "      <td>8/5/2022</td>\n",
       "      <td>12/5/2022</td>\n",
       "      <td>14-05-22</td>\n",
       "      <td>-12.0</td>\n",
       "      <td>RT2</td>\n",
       "      <td>makeyourtrip</td>\n",
       "      <td>NaN</td>\n",
       "      <td>Cancelled</td>\n",
       "      <td>9000</td>\n",
       "      <td>3600</td>\n",
       "    </tr>\n",
       "    <tr>\n",
       "      <th>18119</th>\n",
       "      <td>May122218562RT311</td>\n",
       "      <td>18562</td>\n",
       "      <td>5/5/2022</td>\n",
       "      <td>12/5/2022</td>\n",
       "      <td>17-05-22</td>\n",
       "      <td>-6.0</td>\n",
       "      <td>RT3</td>\n",
       "      <td>direct offline</td>\n",
       "      <td>5.0</td>\n",
       "      <td>Checked Out</td>\n",
       "      <td>16800</td>\n",
       "      <td>16800</td>\n",
       "    </tr>\n",
       "    <tr>\n",
       "      <th>18121</th>\n",
       "      <td>May122218562RT313</td>\n",
       "      <td>18562</td>\n",
       "      <td>10/5/2022</td>\n",
       "      <td>12/5/2022</td>\n",
       "      <td>17-05-22</td>\n",
       "      <td>-4.0</td>\n",
       "      <td>RT3</td>\n",
       "      <td>direct online</td>\n",
       "      <td>NaN</td>\n",
       "      <td>Cancelled</td>\n",
       "      <td>14400</td>\n",
       "      <td>5760</td>\n",
       "    </tr>\n",
       "    <tr>\n",
       "      <th>56715</th>\n",
       "      <td>Jun082218562RT12</td>\n",
       "      <td>18562</td>\n",
       "      <td>5/6/2022</td>\n",
       "      <td>8/6/2022</td>\n",
       "      <td>13-06-22</td>\n",
       "      <td>-17.0</td>\n",
       "      <td>RT1</td>\n",
       "      <td>others</td>\n",
       "      <td>NaN</td>\n",
       "      <td>Checked Out</td>\n",
       "      <td>6500</td>\n",
       "      <td>6500</td>\n",
       "    </tr>\n",
       "    <tr>\n",
       "      <th>119765</th>\n",
       "      <td>Jul202219560RT220</td>\n",
       "      <td>19560</td>\n",
       "      <td>19-07-22</td>\n",
       "      <td>20-07-22</td>\n",
       "      <td>22-07-22</td>\n",
       "      <td>-1.0</td>\n",
       "      <td>RT2</td>\n",
       "      <td>others</td>\n",
       "      <td>NaN</td>\n",
       "      <td>Checked Out</td>\n",
       "      <td>13500</td>\n",
       "      <td>13500</td>\n",
       "    </tr>\n",
       "    <tr>\n",
       "      <th>134586</th>\n",
       "      <td>Jul312217564RT47</td>\n",
       "      <td>17564</td>\n",
       "      <td>30-07-22</td>\n",
       "      <td>31-07-22</td>\n",
       "      <td>1/8/2022</td>\n",
       "      <td>-4.0</td>\n",
       "      <td>RT4</td>\n",
       "      <td>logtrip</td>\n",
       "      <td>2.0</td>\n",
       "      <td>Checked Out</td>\n",
       "      <td>38760</td>\n",
       "      <td>38760</td>\n",
       "    </tr>\n",
       "  </tbody>\n",
       "</table>\n",
       "</div>"
      ],
      "text/plain": [
       "               booking_id  property_id booking_date check_in_date  \\\n",
       "0        May012216558RT11        16558     27-04-22      1/5/2022   \n",
       "3        May012216558RT14        16558     28-04-22      1/5/2022   \n",
       "17924    May122218559RT44        18559    12/5/2022     12/5/2022   \n",
       "18020    May122218561RT22        18561     8/5/2022     12/5/2022   \n",
       "18119   May122218562RT311        18562     5/5/2022     12/5/2022   \n",
       "18121   May122218562RT313        18562    10/5/2022     12/5/2022   \n",
       "56715    Jun082218562RT12        18562     5/6/2022      8/6/2022   \n",
       "119765  Jul202219560RT220        19560     19-07-22      20-07-22   \n",
       "134586   Jul312217564RT47        17564     30-07-22      31-07-22   \n",
       "\n",
       "       checkout_date  no_guests room_category booking_platform  ratings_given  \\\n",
       "0           2/5/2022       -3.0           RT1    direct online            1.0   \n",
       "3           2/5/2022       -2.0           RT1           others            NaN   \n",
       "17924       14-05-22      -10.0           RT4    direct online            NaN   \n",
       "18020       14-05-22      -12.0           RT2     makeyourtrip            NaN   \n",
       "18119       17-05-22       -6.0           RT3   direct offline            5.0   \n",
       "18121       17-05-22       -4.0           RT3    direct online            NaN   \n",
       "56715       13-06-22      -17.0           RT1           others            NaN   \n",
       "119765      22-07-22       -1.0           RT2           others            NaN   \n",
       "134586      1/8/2022       -4.0           RT4          logtrip            2.0   \n",
       "\n",
       "       booking_status  revenue_generated  revenue_realized  \n",
       "0         Checked Out              10010             10010  \n",
       "3           Cancelled               9100              3640  \n",
       "17924         No Show              20900             20900  \n",
       "18020       Cancelled               9000              3600  \n",
       "18119     Checked Out              16800             16800  \n",
       "18121       Cancelled              14400              5760  \n",
       "56715     Checked Out               6500              6500  \n",
       "119765    Checked Out              13500             13500  \n",
       "134586    Checked Out              38760             38760  "
      ]
     },
     "execution_count": 39,
     "metadata": {},
     "output_type": "execute_result"
    }
   ],
   "source": [
    "df_bookings[df_bookings.no_guests<=0]"
   ]
  },
  {
   "cell_type": "code",
   "execution_count": 43,
   "id": "80dec944-6139-4e93-b784-a3f7916555f8",
   "metadata": {},
   "outputs": [
    {
     "data": {
      "text/html": [
       "<div>\n",
       "<style scoped>\n",
       "    .dataframe tbody tr th:only-of-type {\n",
       "        vertical-align: middle;\n",
       "    }\n",
       "\n",
       "    .dataframe tbody tr th {\n",
       "        vertical-align: top;\n",
       "    }\n",
       "\n",
       "    .dataframe thead th {\n",
       "        text-align: right;\n",
       "    }\n",
       "</style>\n",
       "<table border=\"1\" class=\"dataframe\">\n",
       "  <thead>\n",
       "    <tr style=\"text-align: right;\">\n",
       "      <th></th>\n",
       "      <th>booking_id</th>\n",
       "      <th>property_id</th>\n",
       "      <th>booking_date</th>\n",
       "      <th>check_in_date</th>\n",
       "      <th>checkout_date</th>\n",
       "      <th>no_guests</th>\n",
       "      <th>room_category</th>\n",
       "      <th>booking_platform</th>\n",
       "      <th>ratings_given</th>\n",
       "      <th>booking_status</th>\n",
       "      <th>revenue_generated</th>\n",
       "      <th>revenue_realized</th>\n",
       "    </tr>\n",
       "  </thead>\n",
       "  <tbody>\n",
       "    <tr>\n",
       "      <th>1</th>\n",
       "      <td>May012216558RT12</td>\n",
       "      <td>16558</td>\n",
       "      <td>30-04-22</td>\n",
       "      <td>1/5/2022</td>\n",
       "      <td>2/5/2022</td>\n",
       "      <td>2.0</td>\n",
       "      <td>RT1</td>\n",
       "      <td>others</td>\n",
       "      <td>NaN</td>\n",
       "      <td>Cancelled</td>\n",
       "      <td>9100</td>\n",
       "      <td>3640</td>\n",
       "    </tr>\n",
       "    <tr>\n",
       "      <th>2</th>\n",
       "      <td>May012216558RT13</td>\n",
       "      <td>16558</td>\n",
       "      <td>28-04-22</td>\n",
       "      <td>1/5/2022</td>\n",
       "      <td>4/5/2022</td>\n",
       "      <td>2.0</td>\n",
       "      <td>RT1</td>\n",
       "      <td>logtrip</td>\n",
       "      <td>5.0</td>\n",
       "      <td>Checked Out</td>\n",
       "      <td>9100000</td>\n",
       "      <td>9100</td>\n",
       "    </tr>\n",
       "    <tr>\n",
       "      <th>4</th>\n",
       "      <td>May012216558RT15</td>\n",
       "      <td>16558</td>\n",
       "      <td>27-04-22</td>\n",
       "      <td>1/5/2022</td>\n",
       "      <td>2/5/2022</td>\n",
       "      <td>4.0</td>\n",
       "      <td>RT1</td>\n",
       "      <td>direct online</td>\n",
       "      <td>5.0</td>\n",
       "      <td>Checked Out</td>\n",
       "      <td>10920</td>\n",
       "      <td>10920</td>\n",
       "    </tr>\n",
       "    <tr>\n",
       "      <th>5</th>\n",
       "      <td>May012216558RT16</td>\n",
       "      <td>16558</td>\n",
       "      <td>1/5/2022</td>\n",
       "      <td>1/5/2022</td>\n",
       "      <td>3/5/2022</td>\n",
       "      <td>2.0</td>\n",
       "      <td>RT1</td>\n",
       "      <td>others</td>\n",
       "      <td>4.0</td>\n",
       "      <td>Checked Out</td>\n",
       "      <td>9100</td>\n",
       "      <td>9100</td>\n",
       "    </tr>\n",
       "    <tr>\n",
       "      <th>6</th>\n",
       "      <td>May012216558RT17</td>\n",
       "      <td>16558</td>\n",
       "      <td>28-04-22</td>\n",
       "      <td>1/5/2022</td>\n",
       "      <td>6/5/2022</td>\n",
       "      <td>2.0</td>\n",
       "      <td>RT1</td>\n",
       "      <td>others</td>\n",
       "      <td>NaN</td>\n",
       "      <td>Cancelled</td>\n",
       "      <td>9100</td>\n",
       "      <td>3640</td>\n",
       "    </tr>\n",
       "    <tr>\n",
       "      <th>...</th>\n",
       "      <td>...</td>\n",
       "      <td>...</td>\n",
       "      <td>...</td>\n",
       "      <td>...</td>\n",
       "      <td>...</td>\n",
       "      <td>...</td>\n",
       "      <td>...</td>\n",
       "      <td>...</td>\n",
       "      <td>...</td>\n",
       "      <td>...</td>\n",
       "      <td>...</td>\n",
       "      <td>...</td>\n",
       "    </tr>\n",
       "    <tr>\n",
       "      <th>134584</th>\n",
       "      <td>Jul312217564RT45</td>\n",
       "      <td>17564</td>\n",
       "      <td>30-07-22</td>\n",
       "      <td>31-07-22</td>\n",
       "      <td>1/8/2022</td>\n",
       "      <td>2.0</td>\n",
       "      <td>RT4</td>\n",
       "      <td>others</td>\n",
       "      <td>2.0</td>\n",
       "      <td>Checked Out</td>\n",
       "      <td>32300</td>\n",
       "      <td>32300</td>\n",
       "    </tr>\n",
       "    <tr>\n",
       "      <th>134585</th>\n",
       "      <td>Jul312217564RT46</td>\n",
       "      <td>17564</td>\n",
       "      <td>29-07-22</td>\n",
       "      <td>31-07-22</td>\n",
       "      <td>3/8/2022</td>\n",
       "      <td>1.0</td>\n",
       "      <td>RT4</td>\n",
       "      <td>makeyourtrip</td>\n",
       "      <td>2.0</td>\n",
       "      <td>Checked Out</td>\n",
       "      <td>32300</td>\n",
       "      <td>32300</td>\n",
       "    </tr>\n",
       "    <tr>\n",
       "      <th>134587</th>\n",
       "      <td>Jul312217564RT48</td>\n",
       "      <td>17564</td>\n",
       "      <td>30-07-22</td>\n",
       "      <td>31-07-22</td>\n",
       "      <td>2/8/2022</td>\n",
       "      <td>1.0</td>\n",
       "      <td>RT4</td>\n",
       "      <td>tripster</td>\n",
       "      <td>NaN</td>\n",
       "      <td>Cancelled</td>\n",
       "      <td>32300</td>\n",
       "      <td>12920</td>\n",
       "    </tr>\n",
       "    <tr>\n",
       "      <th>134588</th>\n",
       "      <td>Jul312217564RT49</td>\n",
       "      <td>17564</td>\n",
       "      <td>29-07-22</td>\n",
       "      <td>31-07-22</td>\n",
       "      <td>1/8/2022</td>\n",
       "      <td>2.0</td>\n",
       "      <td>RT4</td>\n",
       "      <td>logtrip</td>\n",
       "      <td>2.0</td>\n",
       "      <td>Checked Out</td>\n",
       "      <td>32300</td>\n",
       "      <td>32300</td>\n",
       "    </tr>\n",
       "    <tr>\n",
       "      <th>134589</th>\n",
       "      <td>Jul312217564RT410</td>\n",
       "      <td>17564</td>\n",
       "      <td>31-07-22</td>\n",
       "      <td>31-07-22</td>\n",
       "      <td>1/8/2022</td>\n",
       "      <td>2.0</td>\n",
       "      <td>RT4</td>\n",
       "      <td>makeyourtrip</td>\n",
       "      <td>NaN</td>\n",
       "      <td>Cancelled</td>\n",
       "      <td>32300</td>\n",
       "      <td>12920</td>\n",
       "    </tr>\n",
       "  </tbody>\n",
       "</table>\n",
       "<p>134578 rows × 12 columns</p>\n",
       "</div>"
      ],
      "text/plain": [
       "               booking_id  property_id booking_date check_in_date  \\\n",
       "1        May012216558RT12        16558     30-04-22      1/5/2022   \n",
       "2        May012216558RT13        16558     28-04-22      1/5/2022   \n",
       "4        May012216558RT15        16558     27-04-22      1/5/2022   \n",
       "5        May012216558RT16        16558     1/5/2022      1/5/2022   \n",
       "6        May012216558RT17        16558     28-04-22      1/5/2022   \n",
       "...                   ...          ...          ...           ...   \n",
       "134584   Jul312217564RT45        17564     30-07-22      31-07-22   \n",
       "134585   Jul312217564RT46        17564     29-07-22      31-07-22   \n",
       "134587   Jul312217564RT48        17564     30-07-22      31-07-22   \n",
       "134588   Jul312217564RT49        17564     29-07-22      31-07-22   \n",
       "134589  Jul312217564RT410        17564     31-07-22      31-07-22   \n",
       "\n",
       "       checkout_date  no_guests room_category booking_platform  ratings_given  \\\n",
       "1           2/5/2022        2.0           RT1           others            NaN   \n",
       "2           4/5/2022        2.0           RT1          logtrip            5.0   \n",
       "4           2/5/2022        4.0           RT1    direct online            5.0   \n",
       "5           3/5/2022        2.0           RT1           others            4.0   \n",
       "6           6/5/2022        2.0           RT1           others            NaN   \n",
       "...              ...        ...           ...              ...            ...   \n",
       "134584      1/8/2022        2.0           RT4           others            2.0   \n",
       "134585      3/8/2022        1.0           RT4     makeyourtrip            2.0   \n",
       "134587      2/8/2022        1.0           RT4         tripster            NaN   \n",
       "134588      1/8/2022        2.0           RT4          logtrip            2.0   \n",
       "134589      1/8/2022        2.0           RT4     makeyourtrip            NaN   \n",
       "\n",
       "       booking_status  revenue_generated  revenue_realized  \n",
       "1           Cancelled               9100              3640  \n",
       "2         Checked Out            9100000              9100  \n",
       "4         Checked Out              10920             10920  \n",
       "5         Checked Out               9100              9100  \n",
       "6           Cancelled               9100              3640  \n",
       "...               ...                ...               ...  \n",
       "134584    Checked Out              32300             32300  \n",
       "134585    Checked Out              32300             32300  \n",
       "134587      Cancelled              32300             12920  \n",
       "134588    Checked Out              32300             32300  \n",
       "134589      Cancelled              32300             12920  \n",
       "\n",
       "[134578 rows x 12 columns]"
      ]
     },
     "execution_count": 43,
     "metadata": {},
     "output_type": "execute_result"
    }
   ],
   "source": [
    "df_bookings= df_bookings[df_bookings.no_guests>=0]\n",
    "df_bookings"
   ]
  },
  {
   "cell_type": "code",
   "execution_count": 45,
   "id": "1eb811ed-bd2a-435f-858a-d0ac36e5ae98",
   "metadata": {},
   "outputs": [
    {
     "data": {
      "text/plain": [
       "(134578, 12)"
      ]
     },
     "execution_count": 45,
     "metadata": {},
     "output_type": "execute_result"
    }
   ],
   "source": [
    "df_bookings.shape"
   ]
  },
  {
   "cell_type": "markdown",
   "id": "6c7c85a7-d797-43a4-8e47-25e86ea167f6",
   "metadata": {},
   "source": [
    "**2. Outlier removal in Revenue Generated**"
   ]
  },
  {
   "cell_type": "code",
   "execution_count": 46,
   "id": "1adaefac-9950-459d-8e4f-31f60eea1277",
   "metadata": {},
   "outputs": [
    {
     "data": {
      "text/plain": [
       "(6500, 28560000)"
      ]
     },
     "execution_count": 46,
     "metadata": {},
     "output_type": "execute_result"
    }
   ],
   "source": [
    "df_bookings.revenue_generated.min(), df_bookings.revenue_generated.max()"
   ]
  },
  {
   "cell_type": "code",
   "execution_count": 50,
   "id": "041bb6d4-4b8d-4f61-a4e9-4b3ba74b30c8",
   "metadata": {},
   "outputs": [],
   "source": [
    "avg, std = df_bookings.revenue_generated.mean(), df_bookings.revenue_generated.std()"
   ]
  },
  {
   "cell_type": "code",
   "execution_count": 51,
   "id": "906bf06a-74bf-4c58-908f-925019b962df",
   "metadata": {},
   "outputs": [
    {
     "data": {
      "text/plain": [
       "(15378.036937686695, 93040.15493143328)"
      ]
     },
     "execution_count": 51,
     "metadata": {},
     "output_type": "execute_result"
    }
   ],
   "source": [
    "avg, std"
   ]
  },
  {
   "cell_type": "code",
   "execution_count": 55,
   "id": "e0d510e9-1d52-4415-b80c-72fa04cb1dbc",
   "metadata": {},
   "outputs": [
    {
     "data": {
      "text/plain": [
       "294498.50173198653"
      ]
     },
     "execution_count": 55,
     "metadata": {},
     "output_type": "execute_result"
    }
   ],
   "source": [
    "higher_limit = avg + 3*std\n",
    "higher_limit"
   ]
  },
  {
   "cell_type": "code",
   "execution_count": 56,
   "id": "5d82b953-f9a8-41ee-839d-f504d6637993",
   "metadata": {},
   "outputs": [
    {
     "data": {
      "text/plain": [
       "-263742.4278566132"
      ]
     },
     "execution_count": 56,
     "metadata": {},
     "output_type": "execute_result"
    }
   ],
   "source": [
    "lower_limit = avg - 3*std\n",
    "lower_limit"
   ]
  },
  {
   "cell_type": "code",
   "execution_count": 58,
   "id": "a54d364c-3918-4feb-aacb-b95db34dcabf",
   "metadata": {},
   "outputs": [
    {
     "data": {
      "text/html": [
       "<div>\n",
       "<style scoped>\n",
       "    .dataframe tbody tr th:only-of-type {\n",
       "        vertical-align: middle;\n",
       "    }\n",
       "\n",
       "    .dataframe tbody tr th {\n",
       "        vertical-align: top;\n",
       "    }\n",
       "\n",
       "    .dataframe thead th {\n",
       "        text-align: right;\n",
       "    }\n",
       "</style>\n",
       "<table border=\"1\" class=\"dataframe\">\n",
       "  <thead>\n",
       "    <tr style=\"text-align: right;\">\n",
       "      <th></th>\n",
       "      <th>booking_id</th>\n",
       "      <th>property_id</th>\n",
       "      <th>booking_date</th>\n",
       "      <th>check_in_date</th>\n",
       "      <th>checkout_date</th>\n",
       "      <th>no_guests</th>\n",
       "      <th>room_category</th>\n",
       "      <th>booking_platform</th>\n",
       "      <th>ratings_given</th>\n",
       "      <th>booking_status</th>\n",
       "      <th>revenue_generated</th>\n",
       "      <th>revenue_realized</th>\n",
       "    </tr>\n",
       "  </thead>\n",
       "  <tbody>\n",
       "  </tbody>\n",
       "</table>\n",
       "</div>"
      ],
      "text/plain": [
       "Empty DataFrame\n",
       "Columns: [booking_id, property_id, booking_date, check_in_date, checkout_date, no_guests, room_category, booking_platform, ratings_given, booking_status, revenue_generated, revenue_realized]\n",
       "Index: []"
      ]
     },
     "execution_count": 58,
     "metadata": {},
     "output_type": "execute_result"
    }
   ],
   "source": [
    "df_bookings[df_bookings.revenue_generated <= 0]"
   ]
  },
  {
   "cell_type": "code",
   "execution_count": 59,
   "id": "b8872a14-ae61-4839-961f-ad92a70276cd",
   "metadata": {},
   "outputs": [
    {
     "data": {
      "text/html": [
       "<div>\n",
       "<style scoped>\n",
       "    .dataframe tbody tr th:only-of-type {\n",
       "        vertical-align: middle;\n",
       "    }\n",
       "\n",
       "    .dataframe tbody tr th {\n",
       "        vertical-align: top;\n",
       "    }\n",
       "\n",
       "    .dataframe thead th {\n",
       "        text-align: right;\n",
       "    }\n",
       "</style>\n",
       "<table border=\"1\" class=\"dataframe\">\n",
       "  <thead>\n",
       "    <tr style=\"text-align: right;\">\n",
       "      <th></th>\n",
       "      <th>booking_id</th>\n",
       "      <th>property_id</th>\n",
       "      <th>booking_date</th>\n",
       "      <th>check_in_date</th>\n",
       "      <th>checkout_date</th>\n",
       "      <th>no_guests</th>\n",
       "      <th>room_category</th>\n",
       "      <th>booking_platform</th>\n",
       "      <th>ratings_given</th>\n",
       "      <th>booking_status</th>\n",
       "      <th>revenue_generated</th>\n",
       "      <th>revenue_realized</th>\n",
       "    </tr>\n",
       "  </thead>\n",
       "  <tbody>\n",
       "    <tr>\n",
       "      <th>2</th>\n",
       "      <td>May012216558RT13</td>\n",
       "      <td>16558</td>\n",
       "      <td>28-04-22</td>\n",
       "      <td>1/5/2022</td>\n",
       "      <td>4/5/2022</td>\n",
       "      <td>2.0</td>\n",
       "      <td>RT1</td>\n",
       "      <td>logtrip</td>\n",
       "      <td>5.0</td>\n",
       "      <td>Checked Out</td>\n",
       "      <td>9100000</td>\n",
       "      <td>9100</td>\n",
       "    </tr>\n",
       "    <tr>\n",
       "      <th>111</th>\n",
       "      <td>May012216559RT32</td>\n",
       "      <td>16559</td>\n",
       "      <td>29-04-22</td>\n",
       "      <td>1/5/2022</td>\n",
       "      <td>2/5/2022</td>\n",
       "      <td>6.0</td>\n",
       "      <td>RT3</td>\n",
       "      <td>direct online</td>\n",
       "      <td>NaN</td>\n",
       "      <td>Checked Out</td>\n",
       "      <td>28560000</td>\n",
       "      <td>28560</td>\n",
       "    </tr>\n",
       "    <tr>\n",
       "      <th>315</th>\n",
       "      <td>May012216562RT22</td>\n",
       "      <td>16562</td>\n",
       "      <td>28-04-22</td>\n",
       "      <td>1/5/2022</td>\n",
       "      <td>4/5/2022</td>\n",
       "      <td>2.0</td>\n",
       "      <td>RT2</td>\n",
       "      <td>direct offline</td>\n",
       "      <td>3.0</td>\n",
       "      <td>Checked Out</td>\n",
       "      <td>12600000</td>\n",
       "      <td>12600</td>\n",
       "    </tr>\n",
       "    <tr>\n",
       "      <th>562</th>\n",
       "      <td>May012217559RT118</td>\n",
       "      <td>17559</td>\n",
       "      <td>26-04-22</td>\n",
       "      <td>1/5/2022</td>\n",
       "      <td>2/5/2022</td>\n",
       "      <td>2.0</td>\n",
       "      <td>RT1</td>\n",
       "      <td>others</td>\n",
       "      <td>NaN</td>\n",
       "      <td>Cancelled</td>\n",
       "      <td>2000000</td>\n",
       "      <td>4420</td>\n",
       "    </tr>\n",
       "    <tr>\n",
       "      <th>129176</th>\n",
       "      <td>Jul282216562RT26</td>\n",
       "      <td>16562</td>\n",
       "      <td>21-07-22</td>\n",
       "      <td>28-07-22</td>\n",
       "      <td>29-07-22</td>\n",
       "      <td>2.0</td>\n",
       "      <td>RT2</td>\n",
       "      <td>direct online</td>\n",
       "      <td>3.0</td>\n",
       "      <td>Checked Out</td>\n",
       "      <td>10000000</td>\n",
       "      <td>12600</td>\n",
       "    </tr>\n",
       "  </tbody>\n",
       "</table>\n",
       "</div>"
      ],
      "text/plain": [
       "               booking_id  property_id booking_date check_in_date  \\\n",
       "2        May012216558RT13        16558     28-04-22      1/5/2022   \n",
       "111      May012216559RT32        16559     29-04-22      1/5/2022   \n",
       "315      May012216562RT22        16562     28-04-22      1/5/2022   \n",
       "562     May012217559RT118        17559     26-04-22      1/5/2022   \n",
       "129176   Jul282216562RT26        16562     21-07-22      28-07-22   \n",
       "\n",
       "       checkout_date  no_guests room_category booking_platform  ratings_given  \\\n",
       "2           4/5/2022        2.0           RT1          logtrip            5.0   \n",
       "111         2/5/2022        6.0           RT3    direct online            NaN   \n",
       "315         4/5/2022        2.0           RT2   direct offline            3.0   \n",
       "562         2/5/2022        2.0           RT1           others            NaN   \n",
       "129176      29-07-22        2.0           RT2    direct online            3.0   \n",
       "\n",
       "       booking_status  revenue_generated  revenue_realized  \n",
       "2         Checked Out            9100000              9100  \n",
       "111       Checked Out           28560000             28560  \n",
       "315       Checked Out           12600000             12600  \n",
       "562         Cancelled            2000000              4420  \n",
       "129176    Checked Out           10000000             12600  "
      ]
     },
     "execution_count": 59,
     "metadata": {},
     "output_type": "execute_result"
    }
   ],
   "source": [
    "df_bookings[df_bookings.revenue_generated > higher_limit]"
   ]
  },
  {
   "cell_type": "code",
   "execution_count": 61,
   "id": "8535f689-a659-4f46-86da-7968da8ef331",
   "metadata": {},
   "outputs": [
    {
     "data": {
      "text/html": [
       "<div>\n",
       "<style scoped>\n",
       "    .dataframe tbody tr th:only-of-type {\n",
       "        vertical-align: middle;\n",
       "    }\n",
       "\n",
       "    .dataframe tbody tr th {\n",
       "        vertical-align: top;\n",
       "    }\n",
       "\n",
       "    .dataframe thead th {\n",
       "        text-align: right;\n",
       "    }\n",
       "</style>\n",
       "<table border=\"1\" class=\"dataframe\">\n",
       "  <thead>\n",
       "    <tr style=\"text-align: right;\">\n",
       "      <th></th>\n",
       "      <th>booking_id</th>\n",
       "      <th>property_id</th>\n",
       "      <th>booking_date</th>\n",
       "      <th>check_in_date</th>\n",
       "      <th>checkout_date</th>\n",
       "      <th>no_guests</th>\n",
       "      <th>room_category</th>\n",
       "      <th>booking_platform</th>\n",
       "      <th>ratings_given</th>\n",
       "      <th>booking_status</th>\n",
       "      <th>revenue_generated</th>\n",
       "      <th>revenue_realized</th>\n",
       "    </tr>\n",
       "  </thead>\n",
       "  <tbody>\n",
       "    <tr>\n",
       "      <th>1</th>\n",
       "      <td>May012216558RT12</td>\n",
       "      <td>16558</td>\n",
       "      <td>30-04-22</td>\n",
       "      <td>1/5/2022</td>\n",
       "      <td>2/5/2022</td>\n",
       "      <td>2.0</td>\n",
       "      <td>RT1</td>\n",
       "      <td>others</td>\n",
       "      <td>NaN</td>\n",
       "      <td>Cancelled</td>\n",
       "      <td>9100</td>\n",
       "      <td>3640</td>\n",
       "    </tr>\n",
       "    <tr>\n",
       "      <th>4</th>\n",
       "      <td>May012216558RT15</td>\n",
       "      <td>16558</td>\n",
       "      <td>27-04-22</td>\n",
       "      <td>1/5/2022</td>\n",
       "      <td>2/5/2022</td>\n",
       "      <td>4.0</td>\n",
       "      <td>RT1</td>\n",
       "      <td>direct online</td>\n",
       "      <td>5.0</td>\n",
       "      <td>Checked Out</td>\n",
       "      <td>10920</td>\n",
       "      <td>10920</td>\n",
       "    </tr>\n",
       "    <tr>\n",
       "      <th>5</th>\n",
       "      <td>May012216558RT16</td>\n",
       "      <td>16558</td>\n",
       "      <td>1/5/2022</td>\n",
       "      <td>1/5/2022</td>\n",
       "      <td>3/5/2022</td>\n",
       "      <td>2.0</td>\n",
       "      <td>RT1</td>\n",
       "      <td>others</td>\n",
       "      <td>4.0</td>\n",
       "      <td>Checked Out</td>\n",
       "      <td>9100</td>\n",
       "      <td>9100</td>\n",
       "    </tr>\n",
       "    <tr>\n",
       "      <th>6</th>\n",
       "      <td>May012216558RT17</td>\n",
       "      <td>16558</td>\n",
       "      <td>28-04-22</td>\n",
       "      <td>1/5/2022</td>\n",
       "      <td>6/5/2022</td>\n",
       "      <td>2.0</td>\n",
       "      <td>RT1</td>\n",
       "      <td>others</td>\n",
       "      <td>NaN</td>\n",
       "      <td>Cancelled</td>\n",
       "      <td>9100</td>\n",
       "      <td>3640</td>\n",
       "    </tr>\n",
       "    <tr>\n",
       "      <th>7</th>\n",
       "      <td>May012216558RT18</td>\n",
       "      <td>16558</td>\n",
       "      <td>26-04-22</td>\n",
       "      <td>1/5/2022</td>\n",
       "      <td>3/5/2022</td>\n",
       "      <td>2.0</td>\n",
       "      <td>RT1</td>\n",
       "      <td>logtrip</td>\n",
       "      <td>NaN</td>\n",
       "      <td>No Show</td>\n",
       "      <td>9100</td>\n",
       "      <td>9100</td>\n",
       "    </tr>\n",
       "    <tr>\n",
       "      <th>...</th>\n",
       "      <td>...</td>\n",
       "      <td>...</td>\n",
       "      <td>...</td>\n",
       "      <td>...</td>\n",
       "      <td>...</td>\n",
       "      <td>...</td>\n",
       "      <td>...</td>\n",
       "      <td>...</td>\n",
       "      <td>...</td>\n",
       "      <td>...</td>\n",
       "      <td>...</td>\n",
       "      <td>...</td>\n",
       "    </tr>\n",
       "    <tr>\n",
       "      <th>134584</th>\n",
       "      <td>Jul312217564RT45</td>\n",
       "      <td>17564</td>\n",
       "      <td>30-07-22</td>\n",
       "      <td>31-07-22</td>\n",
       "      <td>1/8/2022</td>\n",
       "      <td>2.0</td>\n",
       "      <td>RT4</td>\n",
       "      <td>others</td>\n",
       "      <td>2.0</td>\n",
       "      <td>Checked Out</td>\n",
       "      <td>32300</td>\n",
       "      <td>32300</td>\n",
       "    </tr>\n",
       "    <tr>\n",
       "      <th>134585</th>\n",
       "      <td>Jul312217564RT46</td>\n",
       "      <td>17564</td>\n",
       "      <td>29-07-22</td>\n",
       "      <td>31-07-22</td>\n",
       "      <td>3/8/2022</td>\n",
       "      <td>1.0</td>\n",
       "      <td>RT4</td>\n",
       "      <td>makeyourtrip</td>\n",
       "      <td>2.0</td>\n",
       "      <td>Checked Out</td>\n",
       "      <td>32300</td>\n",
       "      <td>32300</td>\n",
       "    </tr>\n",
       "    <tr>\n",
       "      <th>134587</th>\n",
       "      <td>Jul312217564RT48</td>\n",
       "      <td>17564</td>\n",
       "      <td>30-07-22</td>\n",
       "      <td>31-07-22</td>\n",
       "      <td>2/8/2022</td>\n",
       "      <td>1.0</td>\n",
       "      <td>RT4</td>\n",
       "      <td>tripster</td>\n",
       "      <td>NaN</td>\n",
       "      <td>Cancelled</td>\n",
       "      <td>32300</td>\n",
       "      <td>12920</td>\n",
       "    </tr>\n",
       "    <tr>\n",
       "      <th>134588</th>\n",
       "      <td>Jul312217564RT49</td>\n",
       "      <td>17564</td>\n",
       "      <td>29-07-22</td>\n",
       "      <td>31-07-22</td>\n",
       "      <td>1/8/2022</td>\n",
       "      <td>2.0</td>\n",
       "      <td>RT4</td>\n",
       "      <td>logtrip</td>\n",
       "      <td>2.0</td>\n",
       "      <td>Checked Out</td>\n",
       "      <td>32300</td>\n",
       "      <td>32300</td>\n",
       "    </tr>\n",
       "    <tr>\n",
       "      <th>134589</th>\n",
       "      <td>Jul312217564RT410</td>\n",
       "      <td>17564</td>\n",
       "      <td>31-07-22</td>\n",
       "      <td>31-07-22</td>\n",
       "      <td>1/8/2022</td>\n",
       "      <td>2.0</td>\n",
       "      <td>RT4</td>\n",
       "      <td>makeyourtrip</td>\n",
       "      <td>NaN</td>\n",
       "      <td>Cancelled</td>\n",
       "      <td>32300</td>\n",
       "      <td>12920</td>\n",
       "    </tr>\n",
       "  </tbody>\n",
       "</table>\n",
       "<p>134573 rows × 12 columns</p>\n",
       "</div>"
      ],
      "text/plain": [
       "               booking_id  property_id booking_date check_in_date  \\\n",
       "1        May012216558RT12        16558     30-04-22      1/5/2022   \n",
       "4        May012216558RT15        16558     27-04-22      1/5/2022   \n",
       "5        May012216558RT16        16558     1/5/2022      1/5/2022   \n",
       "6        May012216558RT17        16558     28-04-22      1/5/2022   \n",
       "7        May012216558RT18        16558     26-04-22      1/5/2022   \n",
       "...                   ...          ...          ...           ...   \n",
       "134584   Jul312217564RT45        17564     30-07-22      31-07-22   \n",
       "134585   Jul312217564RT46        17564     29-07-22      31-07-22   \n",
       "134587   Jul312217564RT48        17564     30-07-22      31-07-22   \n",
       "134588   Jul312217564RT49        17564     29-07-22      31-07-22   \n",
       "134589  Jul312217564RT410        17564     31-07-22      31-07-22   \n",
       "\n",
       "       checkout_date  no_guests room_category booking_platform  ratings_given  \\\n",
       "1           2/5/2022        2.0           RT1           others            NaN   \n",
       "4           2/5/2022        4.0           RT1    direct online            5.0   \n",
       "5           3/5/2022        2.0           RT1           others            4.0   \n",
       "6           6/5/2022        2.0           RT1           others            NaN   \n",
       "7           3/5/2022        2.0           RT1          logtrip            NaN   \n",
       "...              ...        ...           ...              ...            ...   \n",
       "134584      1/8/2022        2.0           RT4           others            2.0   \n",
       "134585      3/8/2022        1.0           RT4     makeyourtrip            2.0   \n",
       "134587      2/8/2022        1.0           RT4         tripster            NaN   \n",
       "134588      1/8/2022        2.0           RT4          logtrip            2.0   \n",
       "134589      1/8/2022        2.0           RT4     makeyourtrip            NaN   \n",
       "\n",
       "       booking_status  revenue_generated  revenue_realized  \n",
       "1           Cancelled               9100              3640  \n",
       "4         Checked Out              10920             10920  \n",
       "5         Checked Out               9100              9100  \n",
       "6           Cancelled               9100              3640  \n",
       "7             No Show               9100              9100  \n",
       "...               ...                ...               ...  \n",
       "134584    Checked Out              32300             32300  \n",
       "134585    Checked Out              32300             32300  \n",
       "134587      Cancelled              32300             12920  \n",
       "134588    Checked Out              32300             32300  \n",
       "134589      Cancelled              32300             12920  \n",
       "\n",
       "[134573 rows x 12 columns]"
      ]
     },
     "execution_count": 61,
     "metadata": {},
     "output_type": "execute_result"
    }
   ],
   "source": [
    "df_bookings = df_bookings[df_bookings.revenue_generated < higher_limit]\n",
    "df_bookings"
   ]
  },
  {
   "cell_type": "code",
   "execution_count": 62,
   "id": "29052c88-ef93-4e49-b02f-c9ce20f604c2",
   "metadata": {},
   "outputs": [
    {
     "data": {
      "text/plain": [
       "(134573, 12)"
      ]
     },
     "execution_count": 62,
     "metadata": {},
     "output_type": "execute_result"
    }
   ],
   "source": [
    "df_bookings.shape"
   ]
  },
  {
   "cell_type": "code",
   "execution_count": 63,
   "id": "60b57959-58b3-4383-b4d4-33eb00d9ced6",
   "metadata": {},
   "outputs": [
    {
     "data": {
      "text/plain": [
       "count    134573.000000\n",
       "mean      12695.983585\n",
       "std        6927.791692\n",
       "min        2600.000000\n",
       "25%        7600.000000\n",
       "50%       11700.000000\n",
       "75%       15300.000000\n",
       "max       45220.000000\n",
       "Name: revenue_realized, dtype: float64"
      ]
     },
     "execution_count": 63,
     "metadata": {},
     "output_type": "execute_result"
    }
   ],
   "source": [
    "df_bookings.revenue_realized.describe()"
   ]
  },
  {
   "cell_type": "code",
   "execution_count": 64,
   "id": "47211d29-1b88-4f1f-a632-25a6c296362b",
   "metadata": {},
   "outputs": [
    {
     "data": {
      "text/plain": [
       "33479.3586618449"
      ]
     },
     "execution_count": 64,
     "metadata": {},
     "output_type": "execute_result"
    }
   ],
   "source": [
    "higher_limit = df_bookings.revenue_realized.mean() + 3 * df_bookings.revenue_realized.std()\n",
    "higher_limit"
   ]
  },
  {
   "cell_type": "code",
   "execution_count": 66,
   "id": "cdc577a9-07ec-4b8a-880a-88a1456f5a49",
   "metadata": {},
   "outputs": [
    {
     "data": {
      "text/html": [
       "<div>\n",
       "<style scoped>\n",
       "    .dataframe tbody tr th:only-of-type {\n",
       "        vertical-align: middle;\n",
       "    }\n",
       "\n",
       "    .dataframe tbody tr th {\n",
       "        vertical-align: top;\n",
       "    }\n",
       "\n",
       "    .dataframe thead th {\n",
       "        text-align: right;\n",
       "    }\n",
       "</style>\n",
       "<table border=\"1\" class=\"dataframe\">\n",
       "  <thead>\n",
       "    <tr style=\"text-align: right;\">\n",
       "      <th></th>\n",
       "      <th>booking_id</th>\n",
       "      <th>property_id</th>\n",
       "      <th>booking_date</th>\n",
       "      <th>check_in_date</th>\n",
       "      <th>checkout_date</th>\n",
       "      <th>no_guests</th>\n",
       "      <th>room_category</th>\n",
       "      <th>booking_platform</th>\n",
       "      <th>ratings_given</th>\n",
       "      <th>booking_status</th>\n",
       "      <th>revenue_generated</th>\n",
       "      <th>revenue_realized</th>\n",
       "    </tr>\n",
       "  </thead>\n",
       "  <tbody>\n",
       "    <tr>\n",
       "      <th>137</th>\n",
       "      <td>May012216559RT41</td>\n",
       "      <td>16559</td>\n",
       "      <td>27-04-22</td>\n",
       "      <td>1/5/2022</td>\n",
       "      <td>7/5/2022</td>\n",
       "      <td>4.0</td>\n",
       "      <td>RT4</td>\n",
       "      <td>others</td>\n",
       "      <td>NaN</td>\n",
       "      <td>Checked Out</td>\n",
       "      <td>38760</td>\n",
       "      <td>38760</td>\n",
       "    </tr>\n",
       "    <tr>\n",
       "      <th>139</th>\n",
       "      <td>May012216559RT43</td>\n",
       "      <td>16559</td>\n",
       "      <td>1/5/2022</td>\n",
       "      <td>1/5/2022</td>\n",
       "      <td>2/5/2022</td>\n",
       "      <td>6.0</td>\n",
       "      <td>RT4</td>\n",
       "      <td>tripster</td>\n",
       "      <td>3.0</td>\n",
       "      <td>Checked Out</td>\n",
       "      <td>45220</td>\n",
       "      <td>45220</td>\n",
       "    </tr>\n",
       "    <tr>\n",
       "      <th>143</th>\n",
       "      <td>May012216559RT47</td>\n",
       "      <td>16559</td>\n",
       "      <td>28-04-22</td>\n",
       "      <td>1/5/2022</td>\n",
       "      <td>3/5/2022</td>\n",
       "      <td>3.0</td>\n",
       "      <td>RT4</td>\n",
       "      <td>others</td>\n",
       "      <td>5.0</td>\n",
       "      <td>Checked Out</td>\n",
       "      <td>35530</td>\n",
       "      <td>35530</td>\n",
       "    </tr>\n",
       "    <tr>\n",
       "      <th>149</th>\n",
       "      <td>May012216559RT413</td>\n",
       "      <td>16559</td>\n",
       "      <td>24-04-22</td>\n",
       "      <td>1/5/2022</td>\n",
       "      <td>7/5/2022</td>\n",
       "      <td>5.0</td>\n",
       "      <td>RT4</td>\n",
       "      <td>logtrip</td>\n",
       "      <td>NaN</td>\n",
       "      <td>Checked Out</td>\n",
       "      <td>41990</td>\n",
       "      <td>41990</td>\n",
       "    </tr>\n",
       "    <tr>\n",
       "      <th>222</th>\n",
       "      <td>May012216560RT45</td>\n",
       "      <td>16560</td>\n",
       "      <td>30-04-22</td>\n",
       "      <td>1/5/2022</td>\n",
       "      <td>3/5/2022</td>\n",
       "      <td>5.0</td>\n",
       "      <td>RT4</td>\n",
       "      <td>others</td>\n",
       "      <td>3.0</td>\n",
       "      <td>Checked Out</td>\n",
       "      <td>34580</td>\n",
       "      <td>34580</td>\n",
       "    </tr>\n",
       "    <tr>\n",
       "      <th>...</th>\n",
       "      <td>...</td>\n",
       "      <td>...</td>\n",
       "      <td>...</td>\n",
       "      <td>...</td>\n",
       "      <td>...</td>\n",
       "      <td>...</td>\n",
       "      <td>...</td>\n",
       "      <td>...</td>\n",
       "      <td>...</td>\n",
       "      <td>...</td>\n",
       "      <td>...</td>\n",
       "      <td>...</td>\n",
       "    </tr>\n",
       "    <tr>\n",
       "      <th>134328</th>\n",
       "      <td>Jul312219560RT49</td>\n",
       "      <td>19560</td>\n",
       "      <td>31-07-22</td>\n",
       "      <td>31-07-22</td>\n",
       "      <td>2/8/2022</td>\n",
       "      <td>6.0</td>\n",
       "      <td>RT4</td>\n",
       "      <td>direct online</td>\n",
       "      <td>5.0</td>\n",
       "      <td>Checked Out</td>\n",
       "      <td>39900</td>\n",
       "      <td>39900</td>\n",
       "    </tr>\n",
       "    <tr>\n",
       "      <th>134331</th>\n",
       "      <td>Jul312219560RT412</td>\n",
       "      <td>19560</td>\n",
       "      <td>31-07-22</td>\n",
       "      <td>31-07-22</td>\n",
       "      <td>1/8/2022</td>\n",
       "      <td>6.0</td>\n",
       "      <td>RT4</td>\n",
       "      <td>others</td>\n",
       "      <td>2.0</td>\n",
       "      <td>Checked Out</td>\n",
       "      <td>39900</td>\n",
       "      <td>39900</td>\n",
       "    </tr>\n",
       "    <tr>\n",
       "      <th>134467</th>\n",
       "      <td>Jul312219562RT45</td>\n",
       "      <td>19562</td>\n",
       "      <td>28-07-22</td>\n",
       "      <td>31-07-22</td>\n",
       "      <td>1/8/2022</td>\n",
       "      <td>6.0</td>\n",
       "      <td>RT4</td>\n",
       "      <td>makeyourtrip</td>\n",
       "      <td>4.0</td>\n",
       "      <td>Checked Out</td>\n",
       "      <td>39900</td>\n",
       "      <td>39900</td>\n",
       "    </tr>\n",
       "    <tr>\n",
       "      <th>134474</th>\n",
       "      <td>Jul312219562RT412</td>\n",
       "      <td>19562</td>\n",
       "      <td>25-07-22</td>\n",
       "      <td>31-07-22</td>\n",
       "      <td>6/8/2022</td>\n",
       "      <td>5.0</td>\n",
       "      <td>RT4</td>\n",
       "      <td>direct offline</td>\n",
       "      <td>5.0</td>\n",
       "      <td>Checked Out</td>\n",
       "      <td>37050</td>\n",
       "      <td>37050</td>\n",
       "    </tr>\n",
       "    <tr>\n",
       "      <th>134581</th>\n",
       "      <td>Jul312217564RT42</td>\n",
       "      <td>17564</td>\n",
       "      <td>31-07-22</td>\n",
       "      <td>31-07-22</td>\n",
       "      <td>1/8/2022</td>\n",
       "      <td>4.0</td>\n",
       "      <td>RT4</td>\n",
       "      <td>makeyourtrip</td>\n",
       "      <td>4.0</td>\n",
       "      <td>Checked Out</td>\n",
       "      <td>38760</td>\n",
       "      <td>38760</td>\n",
       "    </tr>\n",
       "  </tbody>\n",
       "</table>\n",
       "<p>1299 rows × 12 columns</p>\n",
       "</div>"
      ],
      "text/plain": [
       "               booking_id  property_id booking_date check_in_date  \\\n",
       "137      May012216559RT41        16559     27-04-22      1/5/2022   \n",
       "139      May012216559RT43        16559     1/5/2022      1/5/2022   \n",
       "143      May012216559RT47        16559     28-04-22      1/5/2022   \n",
       "149     May012216559RT413        16559     24-04-22      1/5/2022   \n",
       "222      May012216560RT45        16560     30-04-22      1/5/2022   \n",
       "...                   ...          ...          ...           ...   \n",
       "134328   Jul312219560RT49        19560     31-07-22      31-07-22   \n",
       "134331  Jul312219560RT412        19560     31-07-22      31-07-22   \n",
       "134467   Jul312219562RT45        19562     28-07-22      31-07-22   \n",
       "134474  Jul312219562RT412        19562     25-07-22      31-07-22   \n",
       "134581   Jul312217564RT42        17564     31-07-22      31-07-22   \n",
       "\n",
       "       checkout_date  no_guests room_category booking_platform  ratings_given  \\\n",
       "137         7/5/2022        4.0           RT4           others            NaN   \n",
       "139         2/5/2022        6.0           RT4         tripster            3.0   \n",
       "143         3/5/2022        3.0           RT4           others            5.0   \n",
       "149         7/5/2022        5.0           RT4          logtrip            NaN   \n",
       "222         3/5/2022        5.0           RT4           others            3.0   \n",
       "...              ...        ...           ...              ...            ...   \n",
       "134328      2/8/2022        6.0           RT4    direct online            5.0   \n",
       "134331      1/8/2022        6.0           RT4           others            2.0   \n",
       "134467      1/8/2022        6.0           RT4     makeyourtrip            4.0   \n",
       "134474      6/8/2022        5.0           RT4   direct offline            5.0   \n",
       "134581      1/8/2022        4.0           RT4     makeyourtrip            4.0   \n",
       "\n",
       "       booking_status  revenue_generated  revenue_realized  \n",
       "137       Checked Out              38760             38760  \n",
       "139       Checked Out              45220             45220  \n",
       "143       Checked Out              35530             35530  \n",
       "149       Checked Out              41990             41990  \n",
       "222       Checked Out              34580             34580  \n",
       "...               ...                ...               ...  \n",
       "134328    Checked Out              39900             39900  \n",
       "134331    Checked Out              39900             39900  \n",
       "134467    Checked Out              39900             39900  \n",
       "134474    Checked Out              37050             37050  \n",
       "134581    Checked Out              38760             38760  \n",
       "\n",
       "[1299 rows x 12 columns]"
      ]
     },
     "execution_count": 66,
     "metadata": {},
     "output_type": "execute_result"
    }
   ],
   "source": [
    "df_bookings[df_bookings.revenue_realized > higher_limit]"
   ]
  },
  {
   "cell_type": "code",
   "execution_count": 67,
   "id": "5b9c319d-f924-425d-858e-436554019f53",
   "metadata": {},
   "outputs": [
    {
     "data": {
      "text/html": [
       "<div>\n",
       "<style scoped>\n",
       "    .dataframe tbody tr th:only-of-type {\n",
       "        vertical-align: middle;\n",
       "    }\n",
       "\n",
       "    .dataframe tbody tr th {\n",
       "        vertical-align: top;\n",
       "    }\n",
       "\n",
       "    .dataframe thead th {\n",
       "        text-align: right;\n",
       "    }\n",
       "</style>\n",
       "<table border=\"1\" class=\"dataframe\">\n",
       "  <thead>\n",
       "    <tr style=\"text-align: right;\">\n",
       "      <th></th>\n",
       "      <th>room_id</th>\n",
       "      <th>room_class</th>\n",
       "    </tr>\n",
       "  </thead>\n",
       "  <tbody>\n",
       "    <tr>\n",
       "      <th>0</th>\n",
       "      <td>RT1</td>\n",
       "      <td>Standard</td>\n",
       "    </tr>\n",
       "    <tr>\n",
       "      <th>1</th>\n",
       "      <td>RT2</td>\n",
       "      <td>Elite</td>\n",
       "    </tr>\n",
       "    <tr>\n",
       "      <th>2</th>\n",
       "      <td>RT3</td>\n",
       "      <td>Premium</td>\n",
       "    </tr>\n",
       "    <tr>\n",
       "      <th>3</th>\n",
       "      <td>RT4</td>\n",
       "      <td>Presidential</td>\n",
       "    </tr>\n",
       "  </tbody>\n",
       "</table>\n",
       "</div>"
      ],
      "text/plain": [
       "  room_id    room_class\n",
       "0     RT1      Standard\n",
       "1     RT2         Elite\n",
       "2     RT3       Premium\n",
       "3     RT4  Presidential"
      ]
     },
     "execution_count": 67,
     "metadata": {},
     "output_type": "execute_result"
    }
   ],
   "source": [
    "df_rooms"
   ]
  },
  {
   "cell_type": "markdown",
   "id": "12f7507c-3aa7-401b-b16c-abee8127b7c8",
   "metadata": {},
   "source": [
    "**One observation we can have in above dataframe is that all rooms are RT4 which means presidential suit. Now since RT4 is a luxurious room it is likely their rent will be higher. To make a fair analysis, we need to do data analysis only on RT4 room types.**"
   ]
  },
  {
   "cell_type": "code",
   "execution_count": 70,
   "id": "74a7af7a-87c3-4bf5-bd13-f01f607e4fc4",
   "metadata": {},
   "outputs": [
    {
     "data": {
      "text/plain": [
       "count    16071.000000\n",
       "mean     23439.308444\n",
       "std       9048.599076\n",
       "min       7600.000000\n",
       "25%      19000.000000\n",
       "50%      26600.000000\n",
       "75%      32300.000000\n",
       "max      45220.000000\n",
       "Name: revenue_realized, dtype: float64"
      ]
     },
     "execution_count": 70,
     "metadata": {},
     "output_type": "execute_result"
    }
   ],
   "source": [
    "df_bookings[df_bookings.room_category==\"RT4\"].revenue_realized.describe()"
   ]
  },
  {
   "cell_type": "code",
   "execution_count": 76,
   "id": "e90cc26c-c27b-42de-b93e-905ae5e7e715",
   "metadata": {},
   "outputs": [
    {
     "data": {
      "text/plain": [
       "50585.105672000005"
      ]
     },
     "execution_count": 76,
     "metadata": {},
     "output_type": "execute_result"
    }
   ],
   "source": [
    "# mean + 3* standard deviation\n",
    "23439.308444 + 3 * 9048.599076"
   ]
  },
  {
   "cell_type": "markdown",
   "id": "6f5a0992-cf22-46b6-9db4-e5580c4d78de",
   "metadata": {},
   "source": [
    "**Here higher limit comes to be 50585 and in our dataframe above we can see that max value for revenue realized is 45220. Hence we can conclude that there is no outlier and we don't need to do any data cleaning on this particular column**"
   ]
  },
  {
   "cell_type": "code",
   "execution_count": 79,
   "id": "d91ad2cc-6ec1-437d-bb60-2651705fd536",
   "metadata": {},
   "outputs": [
    {
     "data": {
      "text/plain": [
       "booking_id               0\n",
       "property_id              0\n",
       "booking_date             0\n",
       "check_in_date            0\n",
       "checkout_date            0\n",
       "no_guests                0\n",
       "room_category            0\n",
       "booking_platform         0\n",
       "ratings_given        77897\n",
       "booking_status           0\n",
       "revenue_generated        0\n",
       "revenue_realized         0\n",
       "dtype: int64"
      ]
     },
     "execution_count": 79,
     "metadata": {},
     "output_type": "execute_result"
    }
   ],
   "source": [
    "df_bookings.isnull().sum()"
   ]
  },
  {
   "cell_type": "markdown",
   "id": "af40ea1c-98c9-4df5-af47-56f7cf2b8738",
   "metadata": {},
   "source": [
    "**Total values in our dataframe is 134576. Out of that 77899 rows has null rating. Since there are many rows with null rating, we should not filter these values. Also we should not replace this rating with a median or mean rating etc**"
   ]
  },
  {
   "cell_type": "markdown",
   "id": "9b8d2556-8b0b-4aa2-861e-1b4f8d59773f",
   "metadata": {},
   "source": [
    "# Excercise:-"
   ]
  },
  {
   "cell_type": "markdown",
   "id": "14279e12-4788-4093-a886-829dd210ad39",
   "metadata": {},
   "source": [
    "**1. In aggregate bookings find columns that have null values. Fill these null values with whatever you think is the appropriate subtitute (possible ways is to use mean or median)**\r\n",
    "\r\n"
   ]
  },
  {
   "cell_type": "code",
   "execution_count": 80,
   "id": "cb96ed1c-b253-4059-ad1c-3ad75b4d3816",
   "metadata": {},
   "outputs": [
    {
     "data": {
      "text/plain": [
       "property_id            0\n",
       "check_in_date          0\n",
       "room_category          0\n",
       "successful_bookings    0\n",
       "capacity               2\n",
       "dtype: int64"
      ]
     },
     "execution_count": 80,
     "metadata": {},
     "output_type": "execute_result"
    }
   ],
   "source": [
    "df_agg_bookings.isnull().sum()"
   ]
  },
  {
   "cell_type": "code",
   "execution_count": 81,
   "id": "1fddf8b4-4794-4548-aed7-6ef151891c2d",
   "metadata": {},
   "outputs": [
    {
     "data": {
      "text/html": [
       "<div>\n",
       "<style scoped>\n",
       "    .dataframe tbody tr th:only-of-type {\n",
       "        vertical-align: middle;\n",
       "    }\n",
       "\n",
       "    .dataframe tbody tr th {\n",
       "        vertical-align: top;\n",
       "    }\n",
       "\n",
       "    .dataframe thead th {\n",
       "        text-align: right;\n",
       "    }\n",
       "</style>\n",
       "<table border=\"1\" class=\"dataframe\">\n",
       "  <thead>\n",
       "    <tr style=\"text-align: right;\">\n",
       "      <th></th>\n",
       "      <th>property_id</th>\n",
       "      <th>check_in_date</th>\n",
       "      <th>room_category</th>\n",
       "      <th>successful_bookings</th>\n",
       "      <th>capacity</th>\n",
       "    </tr>\n",
       "  </thead>\n",
       "  <tbody>\n",
       "    <tr>\n",
       "      <th>8</th>\n",
       "      <td>17561</td>\n",
       "      <td>1-May-22</td>\n",
       "      <td>RT1</td>\n",
       "      <td>22</td>\n",
       "      <td>NaN</td>\n",
       "    </tr>\n",
       "    <tr>\n",
       "      <th>14</th>\n",
       "      <td>17562</td>\n",
       "      <td>1-May-22</td>\n",
       "      <td>RT1</td>\n",
       "      <td>12</td>\n",
       "      <td>NaN</td>\n",
       "    </tr>\n",
       "  </tbody>\n",
       "</table>\n",
       "</div>"
      ],
      "text/plain": [
       "    property_id check_in_date room_category  successful_bookings  capacity\n",
       "8         17561      1-May-22           RT1                   22       NaN\n",
       "14        17562      1-May-22           RT1                   12       NaN"
      ]
     },
     "execution_count": 81,
     "metadata": {},
     "output_type": "execute_result"
    }
   ],
   "source": [
    "df_agg_bookings[df_agg_bookings.capacity.isna()]"
   ]
  },
  {
   "cell_type": "code",
   "execution_count": 83,
   "id": "1f3429fd-9121-4cf3-921a-83b0e2f66f69",
   "metadata": {},
   "outputs": [
    {
     "data": {
      "text/plain": [
       "25.0"
      ]
     },
     "execution_count": 83,
     "metadata": {},
     "output_type": "execute_result"
    }
   ],
   "source": [
    "df_agg_bookings.capacity.median()"
   ]
  },
  {
   "cell_type": "code",
   "execution_count": 91,
   "id": "1ca86c91-3bae-4973-b4b8-2aabadce258a",
   "metadata": {},
   "outputs": [
    {
     "data": {
      "text/html": [
       "<div>\n",
       "<style scoped>\n",
       "    .dataframe tbody tr th:only-of-type {\n",
       "        vertical-align: middle;\n",
       "    }\n",
       "\n",
       "    .dataframe tbody tr th {\n",
       "        vertical-align: top;\n",
       "    }\n",
       "\n",
       "    .dataframe thead th {\n",
       "        text-align: right;\n",
       "    }\n",
       "</style>\n",
       "<table border=\"1\" class=\"dataframe\">\n",
       "  <thead>\n",
       "    <tr style=\"text-align: right;\">\n",
       "      <th></th>\n",
       "      <th>property_id</th>\n",
       "      <th>check_in_date</th>\n",
       "      <th>room_category</th>\n",
       "      <th>successful_bookings</th>\n",
       "      <th>capacity</th>\n",
       "    </tr>\n",
       "  </thead>\n",
       "  <tbody>\n",
       "    <tr>\n",
       "      <th>8</th>\n",
       "      <td>17561</td>\n",
       "      <td>1-May-22</td>\n",
       "      <td>RT1</td>\n",
       "      <td>22</td>\n",
       "      <td>25.0</td>\n",
       "    </tr>\n",
       "    <tr>\n",
       "      <th>15</th>\n",
       "      <td>17563</td>\n",
       "      <td>1-May-22</td>\n",
       "      <td>RT1</td>\n",
       "      <td>21</td>\n",
       "      <td>25.0</td>\n",
       "    </tr>\n",
       "  </tbody>\n",
       "</table>\n",
       "</div>"
      ],
      "text/plain": [
       "    property_id check_in_date room_category  successful_bookings  capacity\n",
       "8         17561      1-May-22           RT1                   22      25.0\n",
       "15        17563      1-May-22           RT1                   21      25.0"
      ]
     },
     "execution_count": 91,
     "metadata": {},
     "output_type": "execute_result"
    }
   ],
   "source": [
    "df_agg_bookings.loc[[8,15]]"
   ]
  },
  {
   "cell_type": "markdown",
   "id": "f61861dc-a28d-4434-8747-88e79a51ce70",
   "metadata": {},
   "source": [
    "**2. In aggregate bookings find out records that have successful_bookings value greater than capacity. Filter those records**"
   ]
  },
  {
   "cell_type": "code",
   "execution_count": 92,
   "id": "6ba9d508-5897-4d00-9e09-d18be1f99365",
   "metadata": {},
   "outputs": [
    {
     "data": {
      "text/html": [
       "<div>\n",
       "<style scoped>\n",
       "    .dataframe tbody tr th:only-of-type {\n",
       "        vertical-align: middle;\n",
       "    }\n",
       "\n",
       "    .dataframe tbody tr th {\n",
       "        vertical-align: top;\n",
       "    }\n",
       "\n",
       "    .dataframe thead th {\n",
       "        text-align: right;\n",
       "    }\n",
       "</style>\n",
       "<table border=\"1\" class=\"dataframe\">\n",
       "  <thead>\n",
       "    <tr style=\"text-align: right;\">\n",
       "      <th></th>\n",
       "      <th>property_id</th>\n",
       "      <th>check_in_date</th>\n",
       "      <th>room_category</th>\n",
       "      <th>successful_bookings</th>\n",
       "      <th>capacity</th>\n",
       "    </tr>\n",
       "  </thead>\n",
       "  <tbody>\n",
       "    <tr>\n",
       "      <th>3</th>\n",
       "      <td>17558</td>\n",
       "      <td>1-May-22</td>\n",
       "      <td>RT1</td>\n",
       "      <td>30</td>\n",
       "      <td>19.0</td>\n",
       "    </tr>\n",
       "    <tr>\n",
       "      <th>12</th>\n",
       "      <td>16563</td>\n",
       "      <td>1-May-22</td>\n",
       "      <td>RT1</td>\n",
       "      <td>100</td>\n",
       "      <td>41.0</td>\n",
       "    </tr>\n",
       "    <tr>\n",
       "      <th>4136</th>\n",
       "      <td>19558</td>\n",
       "      <td>11-Jun-22</td>\n",
       "      <td>RT2</td>\n",
       "      <td>50</td>\n",
       "      <td>39.0</td>\n",
       "    </tr>\n",
       "    <tr>\n",
       "      <th>6209</th>\n",
       "      <td>19560</td>\n",
       "      <td>2-Jul-22</td>\n",
       "      <td>RT1</td>\n",
       "      <td>123</td>\n",
       "      <td>26.0</td>\n",
       "    </tr>\n",
       "    <tr>\n",
       "      <th>8522</th>\n",
       "      <td>19559</td>\n",
       "      <td>25-Jul-22</td>\n",
       "      <td>RT1</td>\n",
       "      <td>35</td>\n",
       "      <td>24.0</td>\n",
       "    </tr>\n",
       "    <tr>\n",
       "      <th>9194</th>\n",
       "      <td>18563</td>\n",
       "      <td>31-Jul-22</td>\n",
       "      <td>RT4</td>\n",
       "      <td>20</td>\n",
       "      <td>18.0</td>\n",
       "    </tr>\n",
       "  </tbody>\n",
       "</table>\n",
       "</div>"
      ],
      "text/plain": [
       "      property_id check_in_date room_category  successful_bookings  capacity\n",
       "3           17558      1-May-22           RT1                   30      19.0\n",
       "12          16563      1-May-22           RT1                  100      41.0\n",
       "4136        19558     11-Jun-22           RT2                   50      39.0\n",
       "6209        19560      2-Jul-22           RT1                  123      26.0\n",
       "8522        19559     25-Jul-22           RT1                   35      24.0\n",
       "9194        18563     31-Jul-22           RT4                   20      18.0"
      ]
     },
     "execution_count": 92,
     "metadata": {},
     "output_type": "execute_result"
    }
   ],
   "source": [
    "df_agg_bookings[df_agg_bookings.successful_bookings>df_agg_bookings.capacity]"
   ]
  },
  {
   "cell_type": "markdown",
   "id": "5957e57a-8e3d-4640-827d-63d0d5cc8493",
   "metadata": {},
   "source": [
    "***\n",
    "# ==> 3. Data Transformation\n",
    "***"
   ]
  },
  {
   "cell_type": "markdown",
   "id": "88977bcc-5fe6-4593-a804-35ce00467742",
   "metadata": {},
   "source": [
    "**Create occupancy percentage column**"
   ]
  },
  {
   "cell_type": "code",
   "execution_count": 93,
   "id": "ee847e2f-32b5-40e6-b805-ef518597f08f",
   "metadata": {},
   "outputs": [
    {
     "data": {
      "text/html": [
       "<div>\n",
       "<style scoped>\n",
       "    .dataframe tbody tr th:only-of-type {\n",
       "        vertical-align: middle;\n",
       "    }\n",
       "\n",
       "    .dataframe tbody tr th {\n",
       "        vertical-align: top;\n",
       "    }\n",
       "\n",
       "    .dataframe thead th {\n",
       "        text-align: right;\n",
       "    }\n",
       "</style>\n",
       "<table border=\"1\" class=\"dataframe\">\n",
       "  <thead>\n",
       "    <tr style=\"text-align: right;\">\n",
       "      <th></th>\n",
       "      <th>property_id</th>\n",
       "      <th>check_in_date</th>\n",
       "      <th>room_category</th>\n",
       "      <th>successful_bookings</th>\n",
       "      <th>capacity</th>\n",
       "    </tr>\n",
       "  </thead>\n",
       "  <tbody>\n",
       "    <tr>\n",
       "      <th>0</th>\n",
       "      <td>16559</td>\n",
       "      <td>1-May-22</td>\n",
       "      <td>RT1</td>\n",
       "      <td>25</td>\n",
       "      <td>30.0</td>\n",
       "    </tr>\n",
       "    <tr>\n",
       "      <th>1</th>\n",
       "      <td>19562</td>\n",
       "      <td>1-May-22</td>\n",
       "      <td>RT1</td>\n",
       "      <td>28</td>\n",
       "      <td>30.0</td>\n",
       "    </tr>\n",
       "    <tr>\n",
       "      <th>2</th>\n",
       "      <td>19563</td>\n",
       "      <td>1-May-22</td>\n",
       "      <td>RT1</td>\n",
       "      <td>23</td>\n",
       "      <td>30.0</td>\n",
       "    </tr>\n",
       "  </tbody>\n",
       "</table>\n",
       "</div>"
      ],
      "text/plain": [
       "   property_id check_in_date room_category  successful_bookings  capacity\n",
       "0        16559      1-May-22           RT1                   25      30.0\n",
       "1        19562      1-May-22           RT1                   28      30.0\n",
       "2        19563      1-May-22           RT1                   23      30.0"
      ]
     },
     "execution_count": 93,
     "metadata": {},
     "output_type": "execute_result"
    }
   ],
   "source": [
    "df_agg_bookings.head(3)"
   ]
  },
  {
   "cell_type": "code",
   "execution_count": 95,
   "id": "320694f8-01cb-42a1-be82-d7743951a314",
   "metadata": {},
   "outputs": [],
   "source": [
    "df_agg_bookings['occ_pct'] = df_agg_bookings.apply(lambda row: row['successful_bookings']/row['capacity'], axis=1)"
   ]
  },
  {
   "cell_type": "markdown",
   "id": "d109ac70-1ed2-46d2-9109-7aabaf2a6162",
   "metadata": {},
   "source": [
    "You can use following approach to get rid of SettingWithCopyWarning"
   ]
  },
  {
   "cell_type": "code",
   "execution_count": 96,
   "id": "2da187cd-63de-4e26-8d59-b6e88523f3d5",
   "metadata": {},
   "outputs": [
    {
     "data": {
      "text/html": [
       "<div>\n",
       "<style scoped>\n",
       "    .dataframe tbody tr th:only-of-type {\n",
       "        vertical-align: middle;\n",
       "    }\n",
       "\n",
       "    .dataframe tbody tr th {\n",
       "        vertical-align: top;\n",
       "    }\n",
       "\n",
       "    .dataframe thead th {\n",
       "        text-align: right;\n",
       "    }\n",
       "</style>\n",
       "<table border=\"1\" class=\"dataframe\">\n",
       "  <thead>\n",
       "    <tr style=\"text-align: right;\">\n",
       "      <th></th>\n",
       "      <th>property_id</th>\n",
       "      <th>check_in_date</th>\n",
       "      <th>room_category</th>\n",
       "      <th>successful_bookings</th>\n",
       "      <th>capacity</th>\n",
       "      <th>occ_pct</th>\n",
       "    </tr>\n",
       "  </thead>\n",
       "  <tbody>\n",
       "    <tr>\n",
       "      <th>0</th>\n",
       "      <td>16559</td>\n",
       "      <td>1-May-22</td>\n",
       "      <td>RT1</td>\n",
       "      <td>25</td>\n",
       "      <td>30.0</td>\n",
       "      <td>0.833333</td>\n",
       "    </tr>\n",
       "    <tr>\n",
       "      <th>1</th>\n",
       "      <td>19562</td>\n",
       "      <td>1-May-22</td>\n",
       "      <td>RT1</td>\n",
       "      <td>28</td>\n",
       "      <td>30.0</td>\n",
       "      <td>0.933333</td>\n",
       "    </tr>\n",
       "    <tr>\n",
       "      <th>2</th>\n",
       "      <td>19563</td>\n",
       "      <td>1-May-22</td>\n",
       "      <td>RT1</td>\n",
       "      <td>23</td>\n",
       "      <td>30.0</td>\n",
       "      <td>0.766667</td>\n",
       "    </tr>\n",
       "  </tbody>\n",
       "</table>\n",
       "</div>"
      ],
      "text/plain": [
       "   property_id check_in_date room_category  successful_bookings  capacity  \\\n",
       "0        16559      1-May-22           RT1                   25      30.0   \n",
       "1        19562      1-May-22           RT1                   28      30.0   \n",
       "2        19563      1-May-22           RT1                   23      30.0   \n",
       "\n",
       "    occ_pct  \n",
       "0  0.833333  \n",
       "1  0.933333  \n",
       "2  0.766667  "
      ]
     },
     "execution_count": 96,
     "metadata": {},
     "output_type": "execute_result"
    }
   ],
   "source": [
    "new_col = df_agg_bookings.apply(lambda row: row['successful_bookings']/row['capacity'], axis=1)\n",
    "df_agg_bookings = df_agg_bookings.assign(occ_pct=new_col.values)\n",
    "df_agg_bookings.head(3)"
   ]
  },
  {
   "cell_type": "markdown",
   "id": "03c7837c-3faf-47a1-b69b-a6f460659ecd",
   "metadata": {},
   "source": [
    "Convert it to a percentage value"
   ]
  },
  {
   "cell_type": "code",
   "execution_count": 97,
   "id": "dae14f34-15f2-41ce-921c-bfa8512c8bfd",
   "metadata": {},
   "outputs": [
    {
     "data": {
      "text/html": [
       "<div>\n",
       "<style scoped>\n",
       "    .dataframe tbody tr th:only-of-type {\n",
       "        vertical-align: middle;\n",
       "    }\n",
       "\n",
       "    .dataframe tbody tr th {\n",
       "        vertical-align: top;\n",
       "    }\n",
       "\n",
       "    .dataframe thead th {\n",
       "        text-align: right;\n",
       "    }\n",
       "</style>\n",
       "<table border=\"1\" class=\"dataframe\">\n",
       "  <thead>\n",
       "    <tr style=\"text-align: right;\">\n",
       "      <th></th>\n",
       "      <th>property_id</th>\n",
       "      <th>check_in_date</th>\n",
       "      <th>room_category</th>\n",
       "      <th>successful_bookings</th>\n",
       "      <th>capacity</th>\n",
       "      <th>occ_pct</th>\n",
       "    </tr>\n",
       "  </thead>\n",
       "  <tbody>\n",
       "    <tr>\n",
       "      <th>0</th>\n",
       "      <td>16559</td>\n",
       "      <td>1-May-22</td>\n",
       "      <td>RT1</td>\n",
       "      <td>25</td>\n",
       "      <td>30.0</td>\n",
       "      <td>83.33</td>\n",
       "    </tr>\n",
       "    <tr>\n",
       "      <th>1</th>\n",
       "      <td>19562</td>\n",
       "      <td>1-May-22</td>\n",
       "      <td>RT1</td>\n",
       "      <td>28</td>\n",
       "      <td>30.0</td>\n",
       "      <td>93.33</td>\n",
       "    </tr>\n",
       "    <tr>\n",
       "      <th>2</th>\n",
       "      <td>19563</td>\n",
       "      <td>1-May-22</td>\n",
       "      <td>RT1</td>\n",
       "      <td>23</td>\n",
       "      <td>30.0</td>\n",
       "      <td>76.67</td>\n",
       "    </tr>\n",
       "  </tbody>\n",
       "</table>\n",
       "</div>"
      ],
      "text/plain": [
       "   property_id check_in_date room_category  successful_bookings  capacity  \\\n",
       "0        16559      1-May-22           RT1                   25      30.0   \n",
       "1        19562      1-May-22           RT1                   28      30.0   \n",
       "2        19563      1-May-22           RT1                   23      30.0   \n",
       "\n",
       "   occ_pct  \n",
       "0    83.33  \n",
       "1    93.33  \n",
       "2    76.67  "
      ]
     },
     "execution_count": 97,
     "metadata": {},
     "output_type": "execute_result"
    }
   ],
   "source": [
    "df_agg_bookings['occ_pct'] = df_agg_bookings['occ_pct'].apply(lambda x: round(x*100, 2))\n",
    "df_agg_bookings.head(3)"
   ]
  },
  {
   "cell_type": "code",
   "execution_count": 98,
   "id": "94206cf1-9fda-4378-b31e-be9ae81fc7e9",
   "metadata": {},
   "outputs": [
    {
     "data": {
      "text/html": [
       "<div>\n",
       "<style scoped>\n",
       "    .dataframe tbody tr th:only-of-type {\n",
       "        vertical-align: middle;\n",
       "    }\n",
       "\n",
       "    .dataframe tbody tr th {\n",
       "        vertical-align: top;\n",
       "    }\n",
       "\n",
       "    .dataframe thead th {\n",
       "        text-align: right;\n",
       "    }\n",
       "</style>\n",
       "<table border=\"1\" class=\"dataframe\">\n",
       "  <thead>\n",
       "    <tr style=\"text-align: right;\">\n",
       "      <th></th>\n",
       "      <th>booking_id</th>\n",
       "      <th>property_id</th>\n",
       "      <th>booking_date</th>\n",
       "      <th>check_in_date</th>\n",
       "      <th>checkout_date</th>\n",
       "      <th>no_guests</th>\n",
       "      <th>room_category</th>\n",
       "      <th>booking_platform</th>\n",
       "      <th>ratings_given</th>\n",
       "      <th>booking_status</th>\n",
       "      <th>revenue_generated</th>\n",
       "      <th>revenue_realized</th>\n",
       "    </tr>\n",
       "  </thead>\n",
       "  <tbody>\n",
       "    <tr>\n",
       "      <th>1</th>\n",
       "      <td>May012216558RT12</td>\n",
       "      <td>16558</td>\n",
       "      <td>30-04-22</td>\n",
       "      <td>1/5/2022</td>\n",
       "      <td>2/5/2022</td>\n",
       "      <td>2.0</td>\n",
       "      <td>RT1</td>\n",
       "      <td>others</td>\n",
       "      <td>NaN</td>\n",
       "      <td>Cancelled</td>\n",
       "      <td>9100</td>\n",
       "      <td>3640</td>\n",
       "    </tr>\n",
       "    <tr>\n",
       "      <th>4</th>\n",
       "      <td>May012216558RT15</td>\n",
       "      <td>16558</td>\n",
       "      <td>27-04-22</td>\n",
       "      <td>1/5/2022</td>\n",
       "      <td>2/5/2022</td>\n",
       "      <td>4.0</td>\n",
       "      <td>RT1</td>\n",
       "      <td>direct online</td>\n",
       "      <td>5.0</td>\n",
       "      <td>Checked Out</td>\n",
       "      <td>10920</td>\n",
       "      <td>10920</td>\n",
       "    </tr>\n",
       "    <tr>\n",
       "      <th>5</th>\n",
       "      <td>May012216558RT16</td>\n",
       "      <td>16558</td>\n",
       "      <td>1/5/2022</td>\n",
       "      <td>1/5/2022</td>\n",
       "      <td>3/5/2022</td>\n",
       "      <td>2.0</td>\n",
       "      <td>RT1</td>\n",
       "      <td>others</td>\n",
       "      <td>4.0</td>\n",
       "      <td>Checked Out</td>\n",
       "      <td>9100</td>\n",
       "      <td>9100</td>\n",
       "    </tr>\n",
       "    <tr>\n",
       "      <th>6</th>\n",
       "      <td>May012216558RT17</td>\n",
       "      <td>16558</td>\n",
       "      <td>28-04-22</td>\n",
       "      <td>1/5/2022</td>\n",
       "      <td>6/5/2022</td>\n",
       "      <td>2.0</td>\n",
       "      <td>RT1</td>\n",
       "      <td>others</td>\n",
       "      <td>NaN</td>\n",
       "      <td>Cancelled</td>\n",
       "      <td>9100</td>\n",
       "      <td>3640</td>\n",
       "    </tr>\n",
       "    <tr>\n",
       "      <th>7</th>\n",
       "      <td>May012216558RT18</td>\n",
       "      <td>16558</td>\n",
       "      <td>26-04-22</td>\n",
       "      <td>1/5/2022</td>\n",
       "      <td>3/5/2022</td>\n",
       "      <td>2.0</td>\n",
       "      <td>RT1</td>\n",
       "      <td>logtrip</td>\n",
       "      <td>NaN</td>\n",
       "      <td>No Show</td>\n",
       "      <td>9100</td>\n",
       "      <td>9100</td>\n",
       "    </tr>\n",
       "  </tbody>\n",
       "</table>\n",
       "</div>"
      ],
      "text/plain": [
       "         booking_id  property_id booking_date check_in_date checkout_date  \\\n",
       "1  May012216558RT12        16558     30-04-22      1/5/2022      2/5/2022   \n",
       "4  May012216558RT15        16558     27-04-22      1/5/2022      2/5/2022   \n",
       "5  May012216558RT16        16558     1/5/2022      1/5/2022      3/5/2022   \n",
       "6  May012216558RT17        16558     28-04-22      1/5/2022      6/5/2022   \n",
       "7  May012216558RT18        16558     26-04-22      1/5/2022      3/5/2022   \n",
       "\n",
       "   no_guests room_category booking_platform  ratings_given booking_status  \\\n",
       "1        2.0           RT1           others            NaN      Cancelled   \n",
       "4        4.0           RT1    direct online            5.0    Checked Out   \n",
       "5        2.0           RT1           others            4.0    Checked Out   \n",
       "6        2.0           RT1           others            NaN      Cancelled   \n",
       "7        2.0           RT1          logtrip            NaN        No Show   \n",
       "\n",
       "   revenue_generated  revenue_realized  \n",
       "1               9100              3640  \n",
       "4              10920             10920  \n",
       "5               9100              9100  \n",
       "6               9100              3640  \n",
       "7               9100              9100  "
      ]
     },
     "execution_count": 98,
     "metadata": {},
     "output_type": "execute_result"
    }
   ],
   "source": [
    "df_bookings.head()"
   ]
  },
  {
   "cell_type": "code",
   "execution_count": 99,
   "id": "b972f696-837f-40f5-b6af-bdc613afb262",
   "metadata": {},
   "outputs": [
    {
     "name": "stdout",
     "output_type": "stream",
     "text": [
      "<class 'pandas.core.frame.DataFrame'>\n",
      "RangeIndex: 9200 entries, 0 to 9199\n",
      "Data columns (total 6 columns):\n",
      " #   Column               Non-Null Count  Dtype  \n",
      "---  ------               --------------  -----  \n",
      " 0   property_id          9200 non-null   int64  \n",
      " 1   check_in_date        9200 non-null   object \n",
      " 2   room_category        9200 non-null   object \n",
      " 3   successful_bookings  9200 non-null   int64  \n",
      " 4   capacity             9200 non-null   float64\n",
      " 5   occ_pct              9200 non-null   float64\n",
      "dtypes: float64(2), int64(2), object(2)\n",
      "memory usage: 431.4+ KB\n"
     ]
    }
   ],
   "source": [
    "df_agg_bookings.info()"
   ]
  },
  {
   "cell_type": "markdown",
   "id": "dfa7d349-ee87-4985-b41f-7985f94cd73f",
   "metadata": {},
   "source": [
    "There are various types of data transformations that you may have to perform based on the need. Few examples of data transformations are,\n",
    "\n",
    "1. Creating new Columns\n",
    "2. Normalization\n",
    "3. Merging Data\n",
    "4. Aggregation"
   ]
  },
  {
   "cell_type": "markdown",
   "id": "73316438-6b8e-433d-b952-9d0d72931d2d",
   "metadata": {},
   "source": [
    "# **==> 4. Insights Generation**\r\n"
   ]
  },
  {
   "cell_type": "markdown",
   "id": "d3294d9b-77b0-4b6a-a24a-551428b1ecba",
   "metadata": {},
   "source": [
    "**1. What is an average occupancy rate in each of the room categories?**"
   ]
  },
  {
   "cell_type": "code",
   "execution_count": 103,
   "id": "d03b8fc4-1df4-4468-a7f4-7453e5288763",
   "metadata": {},
   "outputs": [
    {
     "data": {
      "text/html": [
       "<div>\n",
       "<style scoped>\n",
       "    .dataframe tbody tr th:only-of-type {\n",
       "        vertical-align: middle;\n",
       "    }\n",
       "\n",
       "    .dataframe tbody tr th {\n",
       "        vertical-align: top;\n",
       "    }\n",
       "\n",
       "    .dataframe thead th {\n",
       "        text-align: right;\n",
       "    }\n",
       "</style>\n",
       "<table border=\"1\" class=\"dataframe\">\n",
       "  <thead>\n",
       "    <tr style=\"text-align: right;\">\n",
       "      <th></th>\n",
       "      <th>property_id</th>\n",
       "      <th>check_in_date</th>\n",
       "      <th>room_category</th>\n",
       "      <th>successful_bookings</th>\n",
       "      <th>capacity</th>\n",
       "      <th>occ_pct</th>\n",
       "    </tr>\n",
       "  </thead>\n",
       "  <tbody>\n",
       "    <tr>\n",
       "      <th>0</th>\n",
       "      <td>16559</td>\n",
       "      <td>1-May-22</td>\n",
       "      <td>RT1</td>\n",
       "      <td>25</td>\n",
       "      <td>30.0</td>\n",
       "      <td>83.33</td>\n",
       "    </tr>\n",
       "    <tr>\n",
       "      <th>1</th>\n",
       "      <td>19562</td>\n",
       "      <td>1-May-22</td>\n",
       "      <td>RT1</td>\n",
       "      <td>28</td>\n",
       "      <td>30.0</td>\n",
       "      <td>93.33</td>\n",
       "    </tr>\n",
       "    <tr>\n",
       "      <th>2</th>\n",
       "      <td>19563</td>\n",
       "      <td>1-May-22</td>\n",
       "      <td>RT1</td>\n",
       "      <td>23</td>\n",
       "      <td>30.0</td>\n",
       "      <td>76.67</td>\n",
       "    </tr>\n",
       "  </tbody>\n",
       "</table>\n",
       "</div>"
      ],
      "text/plain": [
       "   property_id check_in_date room_category  successful_bookings  capacity  \\\n",
       "0        16559      1-May-22           RT1                   25      30.0   \n",
       "1        19562      1-May-22           RT1                   28      30.0   \n",
       "2        19563      1-May-22           RT1                   23      30.0   \n",
       "\n",
       "   occ_pct  \n",
       "0    83.33  \n",
       "1    93.33  \n",
       "2    76.67  "
      ]
     },
     "execution_count": 103,
     "metadata": {},
     "output_type": "execute_result"
    }
   ],
   "source": [
    "df_agg_bookings.head(3)"
   ]
  },
  {
   "cell_type": "code",
   "execution_count": 104,
   "id": "94ffe822-d696-4cb8-a80b-d72f4fa48281",
   "metadata": {},
   "outputs": [
    {
     "data": {
      "text/plain": [
       "room_category\n",
       "RT1    58.232748\n",
       "RT2    58.040278\n",
       "RT3    58.028213\n",
       "RT4    59.300461\n",
       "Name: occ_pct, dtype: float64"
      ]
     },
     "execution_count": 104,
     "metadata": {},
     "output_type": "execute_result"
    }
   ],
   "source": [
    "df_agg_bookings.groupby(\"room_category\")[\"occ_pct\"].mean()"
   ]
  },
  {
   "cell_type": "markdown",
   "id": "aeca8414-b593-4ecf-946a-16bbb3ddba52",
   "metadata": {},
   "source": [
    "**Print room categories such as Standard, Premium, Elite etc along with average occupancy percentage**"
   ]
  },
  {
   "cell_type": "code",
   "execution_count": 108,
   "id": "1cf14f53-6d8b-4f53-80b4-118b5ad49a9e",
   "metadata": {},
   "outputs": [
    {
     "data": {
      "text/html": [
       "<div>\n",
       "<style scoped>\n",
       "    .dataframe tbody tr th:only-of-type {\n",
       "        vertical-align: middle;\n",
       "    }\n",
       "\n",
       "    .dataframe tbody tr th {\n",
       "        vertical-align: top;\n",
       "    }\n",
       "\n",
       "    .dataframe thead th {\n",
       "        text-align: right;\n",
       "    }\n",
       "</style>\n",
       "<table border=\"1\" class=\"dataframe\">\n",
       "  <thead>\n",
       "    <tr style=\"text-align: right;\">\n",
       "      <th></th>\n",
       "      <th>property_id</th>\n",
       "      <th>check_in_date</th>\n",
       "      <th>room_category</th>\n",
       "      <th>successful_bookings</th>\n",
       "      <th>capacity</th>\n",
       "      <th>occ_pct</th>\n",
       "      <th>room_id</th>\n",
       "      <th>room_class</th>\n",
       "    </tr>\n",
       "  </thead>\n",
       "  <tbody>\n",
       "    <tr>\n",
       "      <th>0</th>\n",
       "      <td>16559</td>\n",
       "      <td>1-May-22</td>\n",
       "      <td>RT1</td>\n",
       "      <td>25</td>\n",
       "      <td>30.0</td>\n",
       "      <td>83.33</td>\n",
       "      <td>RT1</td>\n",
       "      <td>Standard</td>\n",
       "    </tr>\n",
       "    <tr>\n",
       "      <th>1</th>\n",
       "      <td>19562</td>\n",
       "      <td>1-May-22</td>\n",
       "      <td>RT1</td>\n",
       "      <td>28</td>\n",
       "      <td>30.0</td>\n",
       "      <td>93.33</td>\n",
       "      <td>RT1</td>\n",
       "      <td>Standard</td>\n",
       "    </tr>\n",
       "    <tr>\n",
       "      <th>2</th>\n",
       "      <td>19563</td>\n",
       "      <td>1-May-22</td>\n",
       "      <td>RT1</td>\n",
       "      <td>23</td>\n",
       "      <td>30.0</td>\n",
       "      <td>76.67</td>\n",
       "      <td>RT1</td>\n",
       "      <td>Standard</td>\n",
       "    </tr>\n",
       "    <tr>\n",
       "      <th>3</th>\n",
       "      <td>17558</td>\n",
       "      <td>1-May-22</td>\n",
       "      <td>RT1</td>\n",
       "      <td>30</td>\n",
       "      <td>19.0</td>\n",
       "      <td>157.89</td>\n",
       "      <td>RT1</td>\n",
       "      <td>Standard</td>\n",
       "    </tr>\n",
       "  </tbody>\n",
       "</table>\n",
       "</div>"
      ],
      "text/plain": [
       "   property_id check_in_date room_category  successful_bookings  capacity  \\\n",
       "0        16559      1-May-22           RT1                   25      30.0   \n",
       "1        19562      1-May-22           RT1                   28      30.0   \n",
       "2        19563      1-May-22           RT1                   23      30.0   \n",
       "3        17558      1-May-22           RT1                   30      19.0   \n",
       "\n",
       "   occ_pct room_id room_class  \n",
       "0    83.33     RT1   Standard  \n",
       "1    93.33     RT1   Standard  \n",
       "2    76.67     RT1   Standard  \n",
       "3   157.89     RT1   Standard  "
      ]
     },
     "execution_count": 108,
     "metadata": {},
     "output_type": "execute_result"
    }
   ],
   "source": [
    "df = pd.merge(df_agg_bookings, df_rooms, left_on=\"room_category\", right_on=\"room_id\")\n",
    "df.head(4)"
   ]
  },
  {
   "cell_type": "code",
   "execution_count": 106,
   "id": "0d9e3e79-5038-4e70-94b7-52cd04e50d1b",
   "metadata": {},
   "outputs": [
    {
     "data": {
      "text/html": [
       "<div>\n",
       "<style scoped>\n",
       "    .dataframe tbody tr th:only-of-type {\n",
       "        vertical-align: middle;\n",
       "    }\n",
       "\n",
       "    .dataframe tbody tr th {\n",
       "        vertical-align: top;\n",
       "    }\n",
       "\n",
       "    .dataframe thead th {\n",
       "        text-align: right;\n",
       "    }\n",
       "</style>\n",
       "<table border=\"1\" class=\"dataframe\">\n",
       "  <thead>\n",
       "    <tr style=\"text-align: right;\">\n",
       "      <th></th>\n",
       "      <th>property_id</th>\n",
       "      <th>check_in_date</th>\n",
       "      <th>room_category</th>\n",
       "      <th>successful_bookings</th>\n",
       "      <th>capacity</th>\n",
       "      <th>occ_pct</th>\n",
       "      <th>room_class</th>\n",
       "    </tr>\n",
       "  </thead>\n",
       "  <tbody>\n",
       "    <tr>\n",
       "      <th>0</th>\n",
       "      <td>16559</td>\n",
       "      <td>1-May-22</td>\n",
       "      <td>RT1</td>\n",
       "      <td>25</td>\n",
       "      <td>30.0</td>\n",
       "      <td>83.33</td>\n",
       "      <td>Standard</td>\n",
       "    </tr>\n",
       "    <tr>\n",
       "      <th>1</th>\n",
       "      <td>19562</td>\n",
       "      <td>1-May-22</td>\n",
       "      <td>RT1</td>\n",
       "      <td>28</td>\n",
       "      <td>30.0</td>\n",
       "      <td>93.33</td>\n",
       "      <td>Standard</td>\n",
       "    </tr>\n",
       "    <tr>\n",
       "      <th>2</th>\n",
       "      <td>19563</td>\n",
       "      <td>1-May-22</td>\n",
       "      <td>RT1</td>\n",
       "      <td>23</td>\n",
       "      <td>30.0</td>\n",
       "      <td>76.67</td>\n",
       "      <td>Standard</td>\n",
       "    </tr>\n",
       "    <tr>\n",
       "      <th>3</th>\n",
       "      <td>17558</td>\n",
       "      <td>1-May-22</td>\n",
       "      <td>RT1</td>\n",
       "      <td>30</td>\n",
       "      <td>19.0</td>\n",
       "      <td>157.89</td>\n",
       "      <td>Standard</td>\n",
       "    </tr>\n",
       "  </tbody>\n",
       "</table>\n",
       "</div>"
      ],
      "text/plain": [
       "   property_id check_in_date room_category  successful_bookings  capacity  \\\n",
       "0        16559      1-May-22           RT1                   25      30.0   \n",
       "1        19562      1-May-22           RT1                   28      30.0   \n",
       "2        19563      1-May-22           RT1                   23      30.0   \n",
       "3        17558      1-May-22           RT1                   30      19.0   \n",
       "\n",
       "   occ_pct room_class  \n",
       "0    83.33   Standard  \n",
       "1    93.33   Standard  \n",
       "2    76.67   Standard  \n",
       "3   157.89   Standard  "
      ]
     },
     "execution_count": 106,
     "metadata": {},
     "output_type": "execute_result"
    }
   ],
   "source": [
    "df.drop(\"room_id\",axis=1, inplace=True)\n",
    "df.head(4)"
   ]
  },
  {
   "cell_type": "code",
   "execution_count": 107,
   "id": "61b2c0ec-e05a-4708-9b0d-e1503b797ca0",
   "metadata": {},
   "outputs": [
    {
     "data": {
      "text/plain": [
       "room_class\n",
       "Elite           58.040278\n",
       "Premium         58.028213\n",
       "Presidential    59.300461\n",
       "Standard        58.232748\n",
       "Name: occ_pct, dtype: float64"
      ]
     },
     "execution_count": 107,
     "metadata": {},
     "output_type": "execute_result"
    }
   ],
   "source": [
    "df.groupby(\"room_class\")[\"occ_pct\"].mean()"
   ]
  },
  {
   "cell_type": "code",
   "execution_count": 109,
   "id": "10eb6eed-7e33-4259-8c26-801242c6d2a9",
   "metadata": {},
   "outputs": [
    {
     "data": {
      "text/plain": [
       "58.23274782608696"
      ]
     },
     "execution_count": 109,
     "metadata": {},
     "output_type": "execute_result"
    }
   ],
   "source": [
    "df[df.room_class==\"Standard\"].occ_pct.mean()"
   ]
  },
  {
   "cell_type": "markdown",
   "id": "eca8ebf4-321a-427f-9293-f13c2a4298ab",
   "metadata": {},
   "source": [
    "**2. Print average occupancy rate per city**"
   ]
  },
  {
   "cell_type": "code",
   "execution_count": 110,
   "id": "a8d995af-653f-430b-a41a-6c45f6ab5daf",
   "metadata": {},
   "outputs": [
    {
     "data": {
      "text/html": [
       "<div>\n",
       "<style scoped>\n",
       "    .dataframe tbody tr th:only-of-type {\n",
       "        vertical-align: middle;\n",
       "    }\n",
       "\n",
       "    .dataframe tbody tr th {\n",
       "        vertical-align: top;\n",
       "    }\n",
       "\n",
       "    .dataframe thead th {\n",
       "        text-align: right;\n",
       "    }\n",
       "</style>\n",
       "<table border=\"1\" class=\"dataframe\">\n",
       "  <thead>\n",
       "    <tr style=\"text-align: right;\">\n",
       "      <th></th>\n",
       "      <th>property_id</th>\n",
       "      <th>property_name</th>\n",
       "      <th>category</th>\n",
       "      <th>city</th>\n",
       "    </tr>\n",
       "  </thead>\n",
       "  <tbody>\n",
       "    <tr>\n",
       "      <th>0</th>\n",
       "      <td>16558</td>\n",
       "      <td>Atliq Grands</td>\n",
       "      <td>Luxury</td>\n",
       "      <td>Delhi</td>\n",
       "    </tr>\n",
       "    <tr>\n",
       "      <th>1</th>\n",
       "      <td>16559</td>\n",
       "      <td>Atliq Exotica</td>\n",
       "      <td>Luxury</td>\n",
       "      <td>Mumbai</td>\n",
       "    </tr>\n",
       "    <tr>\n",
       "      <th>2</th>\n",
       "      <td>16560</td>\n",
       "      <td>Atliq City</td>\n",
       "      <td>Business</td>\n",
       "      <td>Delhi</td>\n",
       "    </tr>\n",
       "  </tbody>\n",
       "</table>\n",
       "</div>"
      ],
      "text/plain": [
       "   property_id  property_name  category    city\n",
       "0        16558   Atliq Grands    Luxury   Delhi\n",
       "1        16559  Atliq Exotica    Luxury  Mumbai\n",
       "2        16560     Atliq City  Business   Delhi"
      ]
     },
     "execution_count": 110,
     "metadata": {},
     "output_type": "execute_result"
    }
   ],
   "source": [
    "df_hotels.head(3)"
   ]
  },
  {
   "cell_type": "code",
   "execution_count": 113,
   "id": "5c7889ce-051f-48d6-a539-853c3e784cbb",
   "metadata": {},
   "outputs": [
    {
     "data": {
      "text/html": [
       "<div>\n",
       "<style scoped>\n",
       "    .dataframe tbody tr th:only-of-type {\n",
       "        vertical-align: middle;\n",
       "    }\n",
       "\n",
       "    .dataframe tbody tr th {\n",
       "        vertical-align: top;\n",
       "    }\n",
       "\n",
       "    .dataframe thead th {\n",
       "        text-align: right;\n",
       "    }\n",
       "</style>\n",
       "<table border=\"1\" class=\"dataframe\">\n",
       "  <thead>\n",
       "    <tr style=\"text-align: right;\">\n",
       "      <th></th>\n",
       "      <th>property_id</th>\n",
       "      <th>check_in_date</th>\n",
       "      <th>room_category</th>\n",
       "      <th>successful_bookings</th>\n",
       "      <th>capacity</th>\n",
       "      <th>occ_pct</th>\n",
       "      <th>room_id</th>\n",
       "      <th>room_class</th>\n",
       "      <th>property_name</th>\n",
       "      <th>category</th>\n",
       "      <th>city</th>\n",
       "    </tr>\n",
       "  </thead>\n",
       "  <tbody>\n",
       "    <tr>\n",
       "      <th>0</th>\n",
       "      <td>16559</td>\n",
       "      <td>1-May-22</td>\n",
       "      <td>RT1</td>\n",
       "      <td>25</td>\n",
       "      <td>30.0</td>\n",
       "      <td>83.33</td>\n",
       "      <td>RT1</td>\n",
       "      <td>Standard</td>\n",
       "      <td>Atliq Exotica</td>\n",
       "      <td>Luxury</td>\n",
       "      <td>Mumbai</td>\n",
       "    </tr>\n",
       "    <tr>\n",
       "      <th>1</th>\n",
       "      <td>19562</td>\n",
       "      <td>1-May-22</td>\n",
       "      <td>RT1</td>\n",
       "      <td>28</td>\n",
       "      <td>30.0</td>\n",
       "      <td>93.33</td>\n",
       "      <td>RT1</td>\n",
       "      <td>Standard</td>\n",
       "      <td>Atliq Bay</td>\n",
       "      <td>Luxury</td>\n",
       "      <td>Bangalore</td>\n",
       "    </tr>\n",
       "    <tr>\n",
       "      <th>2</th>\n",
       "      <td>19563</td>\n",
       "      <td>1-May-22</td>\n",
       "      <td>RT1</td>\n",
       "      <td>23</td>\n",
       "      <td>30.0</td>\n",
       "      <td>76.67</td>\n",
       "      <td>RT1</td>\n",
       "      <td>Standard</td>\n",
       "      <td>Atliq Palace</td>\n",
       "      <td>Business</td>\n",
       "      <td>Bangalore</td>\n",
       "    </tr>\n",
       "  </tbody>\n",
       "</table>\n",
       "</div>"
      ],
      "text/plain": [
       "   property_id check_in_date room_category  successful_bookings  capacity  \\\n",
       "0        16559      1-May-22           RT1                   25      30.0   \n",
       "1        19562      1-May-22           RT1                   28      30.0   \n",
       "2        19563      1-May-22           RT1                   23      30.0   \n",
       "\n",
       "   occ_pct room_id room_class  property_name  category       city  \n",
       "0    83.33     RT1   Standard  Atliq Exotica    Luxury     Mumbai  \n",
       "1    93.33     RT1   Standard      Atliq Bay    Luxury  Bangalore  \n",
       "2    76.67     RT1   Standard   Atliq Palace  Business  Bangalore  "
      ]
     },
     "execution_count": 113,
     "metadata": {},
     "output_type": "execute_result"
    }
   ],
   "source": [
    "df= pd.merge(df, df_hotels, on = \"property_id\")\n",
    "df.head(3)"
   ]
  },
  {
   "cell_type": "code",
   "execution_count": 114,
   "id": "f3d851b7-8c80-45ca-8a46-683db137d4d7",
   "metadata": {},
   "outputs": [
    {
     "data": {
      "text/plain": [
       "city\n",
       "Bangalore    56.594207\n",
       "Delhi        61.606467\n",
       "Hyderabad    58.144651\n",
       "Mumbai       57.943142\n",
       "Name: occ_pct, dtype: float64"
      ]
     },
     "execution_count": 114,
     "metadata": {},
     "output_type": "execute_result"
    }
   ],
   "source": [
    "df.groupby(\"city\")[\"occ_pct\"].mean()"
   ]
  },
  {
   "cell_type": "markdown",
   "id": "7af182cb-a591-4d17-b176-39dfc52fb159",
   "metadata": {},
   "source": [
    "**3. When was the occupancy better? Weekday or Weekend?**"
   ]
  },
  {
   "cell_type": "code",
   "execution_count": 115,
   "id": "a429ec63-d4da-4acd-b552-8ab09d05731a",
   "metadata": {},
   "outputs": [
    {
     "data": {
      "text/html": [
       "<div>\n",
       "<style scoped>\n",
       "    .dataframe tbody tr th:only-of-type {\n",
       "        vertical-align: middle;\n",
       "    }\n",
       "\n",
       "    .dataframe tbody tr th {\n",
       "        vertical-align: top;\n",
       "    }\n",
       "\n",
       "    .dataframe thead th {\n",
       "        text-align: right;\n",
       "    }\n",
       "</style>\n",
       "<table border=\"1\" class=\"dataframe\">\n",
       "  <thead>\n",
       "    <tr style=\"text-align: right;\">\n",
       "      <th></th>\n",
       "      <th>date</th>\n",
       "      <th>mmm yy</th>\n",
       "      <th>week no</th>\n",
       "      <th>day_type</th>\n",
       "    </tr>\n",
       "  </thead>\n",
       "  <tbody>\n",
       "    <tr>\n",
       "      <th>0</th>\n",
       "      <td>01-May-22</td>\n",
       "      <td>May 22</td>\n",
       "      <td>W 19</td>\n",
       "      <td>weekend</td>\n",
       "    </tr>\n",
       "    <tr>\n",
       "      <th>1</th>\n",
       "      <td>02-May-22</td>\n",
       "      <td>May 22</td>\n",
       "      <td>W 19</td>\n",
       "      <td>weekeday</td>\n",
       "    </tr>\n",
       "    <tr>\n",
       "      <th>2</th>\n",
       "      <td>03-May-22</td>\n",
       "      <td>May 22</td>\n",
       "      <td>W 19</td>\n",
       "      <td>weekeday</td>\n",
       "    </tr>\n",
       "  </tbody>\n",
       "</table>\n",
       "</div>"
      ],
      "text/plain": [
       "        date  mmm yy week no  day_type\n",
       "0  01-May-22  May 22    W 19   weekend\n",
       "1  02-May-22  May 22    W 19  weekeday\n",
       "2  03-May-22  May 22    W 19  weekeday"
      ]
     },
     "execution_count": 115,
     "metadata": {},
     "output_type": "execute_result"
    }
   ],
   "source": [
    "df_date.head(3)"
   ]
  },
  {
   "cell_type": "code",
   "execution_count": 116,
   "id": "a8146cde-c26e-4adf-8e9f-4d8ccf127efe",
   "metadata": {},
   "outputs": [
    {
     "data": {
      "text/html": [
       "<div>\n",
       "<style scoped>\n",
       "    .dataframe tbody tr th:only-of-type {\n",
       "        vertical-align: middle;\n",
       "    }\n",
       "\n",
       "    .dataframe tbody tr th {\n",
       "        vertical-align: top;\n",
       "    }\n",
       "\n",
       "    .dataframe thead th {\n",
       "        text-align: right;\n",
       "    }\n",
       "</style>\n",
       "<table border=\"1\" class=\"dataframe\">\n",
       "  <thead>\n",
       "    <tr style=\"text-align: right;\">\n",
       "      <th></th>\n",
       "      <th>property_id</th>\n",
       "      <th>check_in_date</th>\n",
       "      <th>room_category</th>\n",
       "      <th>successful_bookings</th>\n",
       "      <th>capacity</th>\n",
       "      <th>occ_pct</th>\n",
       "      <th>room_id</th>\n",
       "      <th>room_class</th>\n",
       "      <th>property_name</th>\n",
       "      <th>category</th>\n",
       "      <th>city</th>\n",
       "      <th>date</th>\n",
       "      <th>mmm yy</th>\n",
       "      <th>week no</th>\n",
       "      <th>day_type</th>\n",
       "    </tr>\n",
       "  </thead>\n",
       "  <tbody>\n",
       "    <tr>\n",
       "      <th>0</th>\n",
       "      <td>19563</td>\n",
       "      <td>10-May-22</td>\n",
       "      <td>RT3</td>\n",
       "      <td>15</td>\n",
       "      <td>29.0</td>\n",
       "      <td>51.72</td>\n",
       "      <td>RT3</td>\n",
       "      <td>Premium</td>\n",
       "      <td>Atliq Palace</td>\n",
       "      <td>Business</td>\n",
       "      <td>Bangalore</td>\n",
       "      <td>10-May-22</td>\n",
       "      <td>May 22</td>\n",
       "      <td>W 20</td>\n",
       "      <td>weekeday</td>\n",
       "    </tr>\n",
       "    <tr>\n",
       "      <th>1</th>\n",
       "      <td>18560</td>\n",
       "      <td>10-May-22</td>\n",
       "      <td>RT1</td>\n",
       "      <td>19</td>\n",
       "      <td>30.0</td>\n",
       "      <td>63.33</td>\n",
       "      <td>RT1</td>\n",
       "      <td>Standard</td>\n",
       "      <td>Atliq City</td>\n",
       "      <td>Business</td>\n",
       "      <td>Hyderabad</td>\n",
       "      <td>10-May-22</td>\n",
       "      <td>May 22</td>\n",
       "      <td>W 20</td>\n",
       "      <td>weekeday</td>\n",
       "    </tr>\n",
       "    <tr>\n",
       "      <th>2</th>\n",
       "      <td>19562</td>\n",
       "      <td>10-May-22</td>\n",
       "      <td>RT1</td>\n",
       "      <td>18</td>\n",
       "      <td>30.0</td>\n",
       "      <td>60.00</td>\n",
       "      <td>RT1</td>\n",
       "      <td>Standard</td>\n",
       "      <td>Atliq Bay</td>\n",
       "      <td>Luxury</td>\n",
       "      <td>Bangalore</td>\n",
       "      <td>10-May-22</td>\n",
       "      <td>May 22</td>\n",
       "      <td>W 20</td>\n",
       "      <td>weekeday</td>\n",
       "    </tr>\n",
       "  </tbody>\n",
       "</table>\n",
       "</div>"
      ],
      "text/plain": [
       "   property_id check_in_date room_category  successful_bookings  capacity  \\\n",
       "0        19563     10-May-22           RT3                   15      29.0   \n",
       "1        18560     10-May-22           RT1                   19      30.0   \n",
       "2        19562     10-May-22           RT1                   18      30.0   \n",
       "\n",
       "   occ_pct room_id room_class property_name  category       city       date  \\\n",
       "0    51.72     RT3    Premium  Atliq Palace  Business  Bangalore  10-May-22   \n",
       "1    63.33     RT1   Standard    Atliq City  Business  Hyderabad  10-May-22   \n",
       "2    60.00     RT1   Standard     Atliq Bay    Luxury  Bangalore  10-May-22   \n",
       "\n",
       "   mmm yy week no  day_type  \n",
       "0  May 22    W 20  weekeday  \n",
       "1  May 22    W 20  weekeday  \n",
       "2  May 22    W 20  weekeday  "
      ]
     },
     "execution_count": 116,
     "metadata": {},
     "output_type": "execute_result"
    }
   ],
   "source": [
    "df = pd.merge(df, df_date, left_on=\"check_in_date\", right_on=\"date\")\n",
    "df.head(3)"
   ]
  },
  {
   "cell_type": "code",
   "execution_count": 117,
   "id": "8fa39907-21f9-4b68-bfcd-85de623c36b1",
   "metadata": {},
   "outputs": [
    {
     "data": {
      "text/plain": [
       "day_type\n",
       "weekeday    50.90\n",
       "weekend     72.39\n",
       "Name: occ_pct, dtype: float64"
      ]
     },
     "execution_count": 117,
     "metadata": {},
     "output_type": "execute_result"
    }
   ],
   "source": [
    "df.groupby(\"day_type\")[\"occ_pct\"].mean().round(2)"
   ]
  },
  {
   "cell_type": "markdown",
   "id": "e823e608-f8f6-4dc0-abf1-0e9f40631b3c",
   "metadata": {},
   "source": [
    "**4: In the month of June, what is the occupancy for different cities**"
   ]
  },
  {
   "cell_type": "code",
   "execution_count": 118,
   "id": "4e9b1d3d-edd8-4564-9ca4-839cf78c717c",
   "metadata": {},
   "outputs": [
    {
     "data": {
      "text/html": [
       "<div>\n",
       "<style scoped>\n",
       "    .dataframe tbody tr th:only-of-type {\n",
       "        vertical-align: middle;\n",
       "    }\n",
       "\n",
       "    .dataframe tbody tr th {\n",
       "        vertical-align: top;\n",
       "    }\n",
       "\n",
       "    .dataframe thead th {\n",
       "        text-align: right;\n",
       "    }\n",
       "</style>\n",
       "<table border=\"1\" class=\"dataframe\">\n",
       "  <thead>\n",
       "    <tr style=\"text-align: right;\">\n",
       "      <th></th>\n",
       "      <th>property_id</th>\n",
       "      <th>check_in_date</th>\n",
       "      <th>room_category</th>\n",
       "      <th>successful_bookings</th>\n",
       "      <th>capacity</th>\n",
       "      <th>occ_pct</th>\n",
       "      <th>room_id</th>\n",
       "      <th>room_class</th>\n",
       "      <th>property_name</th>\n",
       "      <th>category</th>\n",
       "      <th>city</th>\n",
       "      <th>date</th>\n",
       "      <th>mmm yy</th>\n",
       "      <th>week no</th>\n",
       "      <th>day_type</th>\n",
       "    </tr>\n",
       "  </thead>\n",
       "  <tbody>\n",
       "    <tr>\n",
       "      <th>2200</th>\n",
       "      <td>16559</td>\n",
       "      <td>10-Jun-22</td>\n",
       "      <td>RT1</td>\n",
       "      <td>20</td>\n",
       "      <td>30.0</td>\n",
       "      <td>66.67</td>\n",
       "      <td>RT1</td>\n",
       "      <td>Standard</td>\n",
       "      <td>Atliq Exotica</td>\n",
       "      <td>Luxury</td>\n",
       "      <td>Mumbai</td>\n",
       "      <td>10-Jun-22</td>\n",
       "      <td>Jun 22</td>\n",
       "      <td>W 24</td>\n",
       "      <td>weekeday</td>\n",
       "    </tr>\n",
       "    <tr>\n",
       "      <th>2201</th>\n",
       "      <td>19562</td>\n",
       "      <td>10-Jun-22</td>\n",
       "      <td>RT1</td>\n",
       "      <td>19</td>\n",
       "      <td>30.0</td>\n",
       "      <td>63.33</td>\n",
       "      <td>RT1</td>\n",
       "      <td>Standard</td>\n",
       "      <td>Atliq Bay</td>\n",
       "      <td>Luxury</td>\n",
       "      <td>Bangalore</td>\n",
       "      <td>10-Jun-22</td>\n",
       "      <td>Jun 22</td>\n",
       "      <td>W 24</td>\n",
       "      <td>weekeday</td>\n",
       "    </tr>\n",
       "    <tr>\n",
       "      <th>2202</th>\n",
       "      <td>19563</td>\n",
       "      <td>10-Jun-22</td>\n",
       "      <td>RT1</td>\n",
       "      <td>17</td>\n",
       "      <td>30.0</td>\n",
       "      <td>56.67</td>\n",
       "      <td>RT1</td>\n",
       "      <td>Standard</td>\n",
       "      <td>Atliq Palace</td>\n",
       "      <td>Business</td>\n",
       "      <td>Bangalore</td>\n",
       "      <td>10-Jun-22</td>\n",
       "      <td>Jun 22</td>\n",
       "      <td>W 24</td>\n",
       "      <td>weekeday</td>\n",
       "    </tr>\n",
       "    <tr>\n",
       "      <th>2203</th>\n",
       "      <td>17558</td>\n",
       "      <td>10-Jun-22</td>\n",
       "      <td>RT1</td>\n",
       "      <td>9</td>\n",
       "      <td>19.0</td>\n",
       "      <td>47.37</td>\n",
       "      <td>RT1</td>\n",
       "      <td>Standard</td>\n",
       "      <td>Atliq Grands</td>\n",
       "      <td>Luxury</td>\n",
       "      <td>Mumbai</td>\n",
       "      <td>10-Jun-22</td>\n",
       "      <td>Jun 22</td>\n",
       "      <td>W 24</td>\n",
       "      <td>weekeday</td>\n",
       "    </tr>\n",
       "  </tbody>\n",
       "</table>\n",
       "</div>"
      ],
      "text/plain": [
       "      property_id check_in_date room_category  successful_bookings  capacity  \\\n",
       "2200        16559     10-Jun-22           RT1                   20      30.0   \n",
       "2201        19562     10-Jun-22           RT1                   19      30.0   \n",
       "2202        19563     10-Jun-22           RT1                   17      30.0   \n",
       "2203        17558     10-Jun-22           RT1                    9      19.0   \n",
       "\n",
       "      occ_pct room_id room_class  property_name  category       city  \\\n",
       "2200    66.67     RT1   Standard  Atliq Exotica    Luxury     Mumbai   \n",
       "2201    63.33     RT1   Standard      Atliq Bay    Luxury  Bangalore   \n",
       "2202    56.67     RT1   Standard   Atliq Palace  Business  Bangalore   \n",
       "2203    47.37     RT1   Standard   Atliq Grands    Luxury     Mumbai   \n",
       "\n",
       "           date  mmm yy week no  day_type  \n",
       "2200  10-Jun-22  Jun 22    W 24  weekeday  \n",
       "2201  10-Jun-22  Jun 22    W 24  weekeday  \n",
       "2202  10-Jun-22  Jun 22    W 24  weekeday  \n",
       "2203  10-Jun-22  Jun 22    W 24  weekeday  "
      ]
     },
     "execution_count": 118,
     "metadata": {},
     "output_type": "execute_result"
    }
   ],
   "source": [
    "df_june_22 = df[df[\"mmm yy\"]==\"Jun 22\"]\n",
    "df_june_22.head(4)"
   ]
  },
  {
   "cell_type": "code",
   "execution_count": 119,
   "id": "7c40eb6f-7681-41fb-b7ce-b19fa4a46615",
   "metadata": {},
   "outputs": [
    {
     "data": {
      "text/plain": [
       "city\n",
       "Delhi        62.47\n",
       "Hyderabad    58.46\n",
       "Mumbai       58.38\n",
       "Bangalore    56.58\n",
       "Name: occ_pct, dtype: float64"
      ]
     },
     "execution_count": 119,
     "metadata": {},
     "output_type": "execute_result"
    }
   ],
   "source": [
    "df_june_22.groupby('city')['occ_pct'].mean().round(2).sort_values(ascending=False)"
   ]
  },
  {
   "cell_type": "code",
   "execution_count": 120,
   "id": "9f2f7bbb-661e-42b4-b054-f8a087281fe3",
   "metadata": {},
   "outputs": [
    {
     "data": {
      "text/plain": [
       "<Axes: xlabel='city'>"
      ]
     },
     "execution_count": 120,
     "metadata": {},
     "output_type": "execute_result"
    },
    {
     "data": {
      "image/png": "[encoded data removed]",
      "text/plain": [
       "<Figure size 640x480 with 1 Axes>"
      ]
     },
     "metadata": {},
     "output_type": "display_data"
    }
   ],
   "source": [
    "df_june_22.groupby('city')['occ_pct'].mean().round(2).sort_values(ascending=False).plot(kind=\"bar\")"
   ]
  },
  {
   "cell_type": "markdown",
   "id": "c98bd891-c01a-4610-8db0-cbe3c567ea9b",
   "metadata": {},
   "source": [
    "**5: We got new data for the month of august. Append that to existing data**"
   ]
  },
  {
   "cell_type": "code",
   "execution_count": 121,
   "id": "f129e1d7-c9ef-4063-bd70-2b85c2336959",
   "metadata": {},
   "outputs": [
    {
     "data": {
      "text/html": [
       "<div>\n",
       "<style scoped>\n",
       "    .dataframe tbody tr th:only-of-type {\n",
       "        vertical-align: middle;\n",
       "    }\n",
       "\n",
       "    .dataframe tbody tr th {\n",
       "        vertical-align: top;\n",
       "    }\n",
       "\n",
       "    .dataframe thead th {\n",
       "        text-align: right;\n",
       "    }\n",
       "</style>\n",
       "<table border=\"1\" class=\"dataframe\">\n",
       "  <thead>\n",
       "    <tr style=\"text-align: right;\">\n",
       "      <th></th>\n",
       "      <th>property_id</th>\n",
       "      <th>property_name</th>\n",
       "      <th>category</th>\n",
       "      <th>city</th>\n",
       "      <th>room_category</th>\n",
       "      <th>room_class</th>\n",
       "      <th>check_in_date</th>\n",
       "      <th>mmm yy</th>\n",
       "      <th>week no</th>\n",
       "      <th>day_type</th>\n",
       "      <th>successful_bookings</th>\n",
       "      <th>capacity</th>\n",
       "      <th>occ%</th>\n",
       "    </tr>\n",
       "  </thead>\n",
       "  <tbody>\n",
       "    <tr>\n",
       "      <th>0</th>\n",
       "      <td>16559</td>\n",
       "      <td>Atliq Exotica</td>\n",
       "      <td>Luxury</td>\n",
       "      <td>Mumbai</td>\n",
       "      <td>RT1</td>\n",
       "      <td>Standard</td>\n",
       "      <td>01-Aug-22</td>\n",
       "      <td>Aug-22</td>\n",
       "      <td>W 32</td>\n",
       "      <td>weekeday</td>\n",
       "      <td>30</td>\n",
       "      <td>30</td>\n",
       "      <td>100.00</td>\n",
       "    </tr>\n",
       "    <tr>\n",
       "      <th>1</th>\n",
       "      <td>19562</td>\n",
       "      <td>Atliq Bay</td>\n",
       "      <td>Luxury</td>\n",
       "      <td>Bangalore</td>\n",
       "      <td>RT1</td>\n",
       "      <td>Standard</td>\n",
       "      <td>01-Aug-22</td>\n",
       "      <td>Aug-22</td>\n",
       "      <td>W 32</td>\n",
       "      <td>weekeday</td>\n",
       "      <td>21</td>\n",
       "      <td>30</td>\n",
       "      <td>70.00</td>\n",
       "    </tr>\n",
       "    <tr>\n",
       "      <th>2</th>\n",
       "      <td>19563</td>\n",
       "      <td>Atliq Palace</td>\n",
       "      <td>Business</td>\n",
       "      <td>Bangalore</td>\n",
       "      <td>RT1</td>\n",
       "      <td>Standard</td>\n",
       "      <td>01-Aug-22</td>\n",
       "      <td>Aug-22</td>\n",
       "      <td>W 32</td>\n",
       "      <td>weekeday</td>\n",
       "      <td>23</td>\n",
       "      <td>30</td>\n",
       "      <td>76.67</td>\n",
       "    </tr>\n",
       "  </tbody>\n",
       "</table>\n",
       "</div>"
      ],
      "text/plain": [
       "   property_id  property_name  category       city room_category room_class  \\\n",
       "0        16559  Atliq Exotica    Luxury     Mumbai           RT1   Standard   \n",
       "1        19562      Atliq Bay    Luxury  Bangalore           RT1   Standard   \n",
       "2        19563   Atliq Palace  Business  Bangalore           RT1   Standard   \n",
       "\n",
       "  check_in_date  mmm yy week no  day_type  successful_bookings  capacity  \\\n",
       "0     01-Aug-22  Aug-22    W 32  weekeday                   30        30   \n",
       "1     01-Aug-22  Aug-22    W 32  weekeday                   21        30   \n",
       "2     01-Aug-22  Aug-22    W 32  weekeday                   23        30   \n",
       "\n",
       "     occ%  \n",
       "0  100.00  \n",
       "1   70.00  \n",
       "2   76.67  "
      ]
     },
     "execution_count": 121,
     "metadata": {},
     "output_type": "execute_result"
    }
   ],
   "source": [
    "df_august = pd.read_csv(\"datasets/new_data_august.csv\")\n",
    "df_august.head(3)"
   ]
  },
  {
   "cell_type": "code",
   "execution_count": 122,
   "id": "eb009d8a-ef6f-47d6-a10f-50adde94475e",
   "metadata": {},
   "outputs": [
    {
     "data": {
      "text/plain": [
       "Index(['property_id', 'property_name', 'category', 'city', 'room_category',\n",
       "       'room_class', 'check_in_date', 'mmm yy', 'week no', 'day_type',\n",
       "       'successful_bookings', 'capacity', 'occ%'],\n",
       "      dtype='object')"
      ]
     },
     "execution_count": 122,
     "metadata": {},
     "output_type": "execute_result"
    }
   ],
   "source": [
    "df_august.columns"
   ]
  },
  {
   "cell_type": "code",
   "execution_count": 123,
   "id": "aca2d535-d318-4359-bce5-1429173b1dee",
   "metadata": {},
   "outputs": [
    {
     "data": {
      "text/plain": [
       "Index(['property_id', 'check_in_date', 'room_category', 'successful_bookings',\n",
       "       'capacity', 'occ_pct', 'room_id', 'room_class', 'property_name',\n",
       "       'category', 'city', 'date', 'mmm yy', 'week no', 'day_type'],\n",
       "      dtype='object')"
      ]
     },
     "execution_count": 123,
     "metadata": {},
     "output_type": "execute_result"
    }
   ],
   "source": [
    "df.columns"
   ]
  },
  {
   "cell_type": "code",
   "execution_count": 124,
   "id": "13cd4ffb-a7cb-498e-a17b-11d319043bf4",
   "metadata": {},
   "outputs": [
    {
     "data": {
      "text/plain": [
       "(7, 13)"
      ]
     },
     "execution_count": 124,
     "metadata": {},
     "output_type": "execute_result"
    }
   ],
   "source": [
    "df_august.shape"
   ]
  },
  {
   "cell_type": "code",
   "execution_count": 125,
   "id": "79a64d35-30ba-4556-8ed1-e3f494a794a2",
   "metadata": {},
   "outputs": [
    {
     "data": {
      "text/plain": [
       "(6500, 15)"
      ]
     },
     "execution_count": 125,
     "metadata": {},
     "output_type": "execute_result"
    }
   ],
   "source": [
    "df.shape"
   ]
  },
  {
   "cell_type": "code",
   "execution_count": 126,
   "id": "b129fd47-1720-4f47-838b-79931b9f6269",
   "metadata": {},
   "outputs": [
    {
     "data": {
      "text/html": [
       "<div>\n",
       "<style scoped>\n",
       "    .dataframe tbody tr th:only-of-type {\n",
       "        vertical-align: middle;\n",
       "    }\n",
       "\n",
       "    .dataframe tbody tr th {\n",
       "        vertical-align: top;\n",
       "    }\n",
       "\n",
       "    .dataframe thead th {\n",
       "        text-align: right;\n",
       "    }\n",
       "</style>\n",
       "<table border=\"1\" class=\"dataframe\">\n",
       "  <thead>\n",
       "    <tr style=\"text-align: right;\">\n",
       "      <th></th>\n",
       "      <th>property_id</th>\n",
       "      <th>check_in_date</th>\n",
       "      <th>room_category</th>\n",
       "      <th>successful_bookings</th>\n",
       "      <th>capacity</th>\n",
       "      <th>occ_pct</th>\n",
       "      <th>room_id</th>\n",
       "      <th>room_class</th>\n",
       "      <th>property_name</th>\n",
       "      <th>category</th>\n",
       "      <th>city</th>\n",
       "      <th>date</th>\n",
       "      <th>mmm yy</th>\n",
       "      <th>week no</th>\n",
       "      <th>day_type</th>\n",
       "      <th>occ%</th>\n",
       "    </tr>\n",
       "  </thead>\n",
       "  <tbody>\n",
       "    <tr>\n",
       "      <th>6497</th>\n",
       "      <td>17558</td>\n",
       "      <td>31-Jul-22</td>\n",
       "      <td>RT4</td>\n",
       "      <td>3</td>\n",
       "      <td>6.0</td>\n",
       "      <td>50.0</td>\n",
       "      <td>RT4</td>\n",
       "      <td>Presidential</td>\n",
       "      <td>Atliq Grands</td>\n",
       "      <td>Luxury</td>\n",
       "      <td>Mumbai</td>\n",
       "      <td>31-Jul-22</td>\n",
       "      <td>Jul 22</td>\n",
       "      <td>W 32</td>\n",
       "      <td>weekend</td>\n",
       "      <td>NaN</td>\n",
       "    </tr>\n",
       "    <tr>\n",
       "      <th>6498</th>\n",
       "      <td>19563</td>\n",
       "      <td>31-Jul-22</td>\n",
       "      <td>RT4</td>\n",
       "      <td>3</td>\n",
       "      <td>6.0</td>\n",
       "      <td>50.0</td>\n",
       "      <td>RT4</td>\n",
       "      <td>Presidential</td>\n",
       "      <td>Atliq Palace</td>\n",
       "      <td>Business</td>\n",
       "      <td>Bangalore</td>\n",
       "      <td>31-Jul-22</td>\n",
       "      <td>Jul 22</td>\n",
       "      <td>W 32</td>\n",
       "      <td>weekend</td>\n",
       "      <td>NaN</td>\n",
       "    </tr>\n",
       "    <tr>\n",
       "      <th>6499</th>\n",
       "      <td>17561</td>\n",
       "      <td>31-Jul-22</td>\n",
       "      <td>RT4</td>\n",
       "      <td>3</td>\n",
       "      <td>4.0</td>\n",
       "      <td>75.0</td>\n",
       "      <td>RT4</td>\n",
       "      <td>Presidential</td>\n",
       "      <td>Atliq Blu</td>\n",
       "      <td>Luxury</td>\n",
       "      <td>Mumbai</td>\n",
       "      <td>31-Jul-22</td>\n",
       "      <td>Jul 22</td>\n",
       "      <td>W 32</td>\n",
       "      <td>weekend</td>\n",
       "      <td>NaN</td>\n",
       "    </tr>\n",
       "    <tr>\n",
       "      <th>6500</th>\n",
       "      <td>16559</td>\n",
       "      <td>01-Aug-22</td>\n",
       "      <td>RT1</td>\n",
       "      <td>30</td>\n",
       "      <td>30.0</td>\n",
       "      <td>NaN</td>\n",
       "      <td>NaN</td>\n",
       "      <td>Standard</td>\n",
       "      <td>Atliq Exotica</td>\n",
       "      <td>Luxury</td>\n",
       "      <td>Mumbai</td>\n",
       "      <td>NaN</td>\n",
       "      <td>Aug-22</td>\n",
       "      <td>W 32</td>\n",
       "      <td>weekeday</td>\n",
       "      <td>100.00</td>\n",
       "    </tr>\n",
       "    <tr>\n",
       "      <th>6501</th>\n",
       "      <td>19562</td>\n",
       "      <td>01-Aug-22</td>\n",
       "      <td>RT1</td>\n",
       "      <td>21</td>\n",
       "      <td>30.0</td>\n",
       "      <td>NaN</td>\n",
       "      <td>NaN</td>\n",
       "      <td>Standard</td>\n",
       "      <td>Atliq Bay</td>\n",
       "      <td>Luxury</td>\n",
       "      <td>Bangalore</td>\n",
       "      <td>NaN</td>\n",
       "      <td>Aug-22</td>\n",
       "      <td>W 32</td>\n",
       "      <td>weekeday</td>\n",
       "      <td>70.00</td>\n",
       "    </tr>\n",
       "    <tr>\n",
       "      <th>6502</th>\n",
       "      <td>19563</td>\n",
       "      <td>01-Aug-22</td>\n",
       "      <td>RT1</td>\n",
       "      <td>23</td>\n",
       "      <td>30.0</td>\n",
       "      <td>NaN</td>\n",
       "      <td>NaN</td>\n",
       "      <td>Standard</td>\n",
       "      <td>Atliq Palace</td>\n",
       "      <td>Business</td>\n",
       "      <td>Bangalore</td>\n",
       "      <td>NaN</td>\n",
       "      <td>Aug-22</td>\n",
       "      <td>W 32</td>\n",
       "      <td>weekeday</td>\n",
       "      <td>76.67</td>\n",
       "    </tr>\n",
       "    <tr>\n",
       "      <th>6503</th>\n",
       "      <td>19558</td>\n",
       "      <td>01-Aug-22</td>\n",
       "      <td>RT1</td>\n",
       "      <td>30</td>\n",
       "      <td>40.0</td>\n",
       "      <td>NaN</td>\n",
       "      <td>NaN</td>\n",
       "      <td>Standard</td>\n",
       "      <td>Atliq Grands</td>\n",
       "      <td>Luxury</td>\n",
       "      <td>Bangalore</td>\n",
       "      <td>NaN</td>\n",
       "      <td>Aug-22</td>\n",
       "      <td>W 32</td>\n",
       "      <td>weekeday</td>\n",
       "      <td>75.00</td>\n",
       "    </tr>\n",
       "    <tr>\n",
       "      <th>6504</th>\n",
       "      <td>19560</td>\n",
       "      <td>01-Aug-22</td>\n",
       "      <td>RT1</td>\n",
       "      <td>20</td>\n",
       "      <td>26.0</td>\n",
       "      <td>NaN</td>\n",
       "      <td>NaN</td>\n",
       "      <td>Standard</td>\n",
       "      <td>Atliq City</td>\n",
       "      <td>Business</td>\n",
       "      <td>Bangalore</td>\n",
       "      <td>NaN</td>\n",
       "      <td>Aug-22</td>\n",
       "      <td>W 32</td>\n",
       "      <td>weekeday</td>\n",
       "      <td>76.92</td>\n",
       "    </tr>\n",
       "    <tr>\n",
       "      <th>6505</th>\n",
       "      <td>17561</td>\n",
       "      <td>01-Aug-22</td>\n",
       "      <td>RT1</td>\n",
       "      <td>18</td>\n",
       "      <td>26.0</td>\n",
       "      <td>NaN</td>\n",
       "      <td>NaN</td>\n",
       "      <td>Standard</td>\n",
       "      <td>Atliq Blu</td>\n",
       "      <td>Luxury</td>\n",
       "      <td>Mumbai</td>\n",
       "      <td>NaN</td>\n",
       "      <td>Aug-22</td>\n",
       "      <td>W 32</td>\n",
       "      <td>weekeday</td>\n",
       "      <td>69.23</td>\n",
       "    </tr>\n",
       "    <tr>\n",
       "      <th>6506</th>\n",
       "      <td>17564</td>\n",
       "      <td>01-Aug-22</td>\n",
       "      <td>RT1</td>\n",
       "      <td>10</td>\n",
       "      <td>16.0</td>\n",
       "      <td>NaN</td>\n",
       "      <td>NaN</td>\n",
       "      <td>Standard</td>\n",
       "      <td>Atliq Seasons</td>\n",
       "      <td>Business</td>\n",
       "      <td>Mumbai</td>\n",
       "      <td>NaN</td>\n",
       "      <td>Aug-22</td>\n",
       "      <td>W 32</td>\n",
       "      <td>weekeday</td>\n",
       "      <td>62.50</td>\n",
       "    </tr>\n",
       "  </tbody>\n",
       "</table>\n",
       "</div>"
      ],
      "text/plain": [
       "      property_id check_in_date room_category  successful_bookings  capacity  \\\n",
       "6497        17558     31-Jul-22           RT4                    3       6.0   \n",
       "6498        19563     31-Jul-22           RT4                    3       6.0   \n",
       "6499        17561     31-Jul-22           RT4                    3       4.0   \n",
       "6500        16559     01-Aug-22           RT1                   30      30.0   \n",
       "6501        19562     01-Aug-22           RT1                   21      30.0   \n",
       "6502        19563     01-Aug-22           RT1                   23      30.0   \n",
       "6503        19558     01-Aug-22           RT1                   30      40.0   \n",
       "6504        19560     01-Aug-22           RT1                   20      26.0   \n",
       "6505        17561     01-Aug-22           RT1                   18      26.0   \n",
       "6506        17564     01-Aug-22           RT1                   10      16.0   \n",
       "\n",
       "      occ_pct room_id    room_class  property_name  category       city  \\\n",
       "6497     50.0     RT4  Presidential   Atliq Grands    Luxury     Mumbai   \n",
       "6498     50.0     RT4  Presidential   Atliq Palace  Business  Bangalore   \n",
       "6499     75.0     RT4  Presidential      Atliq Blu    Luxury     Mumbai   \n",
       "6500      NaN     NaN      Standard  Atliq Exotica    Luxury     Mumbai   \n",
       "6501      NaN     NaN      Standard      Atliq Bay    Luxury  Bangalore   \n",
       "6502      NaN     NaN      Standard   Atliq Palace  Business  Bangalore   \n",
       "6503      NaN     NaN      Standard   Atliq Grands    Luxury  Bangalore   \n",
       "6504      NaN     NaN      Standard     Atliq City  Business  Bangalore   \n",
       "6505      NaN     NaN      Standard      Atliq Blu    Luxury     Mumbai   \n",
       "6506      NaN     NaN      Standard  Atliq Seasons  Business     Mumbai   \n",
       "\n",
       "           date  mmm yy week no  day_type    occ%  \n",
       "6497  31-Jul-22  Jul 22    W 32   weekend     NaN  \n",
       "6498  31-Jul-22  Jul 22    W 32   weekend     NaN  \n",
       "6499  31-Jul-22  Jul 22    W 32   weekend     NaN  \n",
       "6500        NaN  Aug-22    W 32  weekeday  100.00  \n",
       "6501        NaN  Aug-22    W 32  weekeday   70.00  \n",
       "6502        NaN  Aug-22    W 32  weekeday   76.67  \n",
       "6503        NaN  Aug-22    W 32  weekeday   75.00  \n",
       "6504        NaN  Aug-22    W 32  weekeday   76.92  \n",
       "6505        NaN  Aug-22    W 32  weekeday   69.23  \n",
       "6506        NaN  Aug-22    W 32  weekeday   62.50  "
      ]
     },
     "execution_count": 126,
     "metadata": {},
     "output_type": "execute_result"
    }
   ],
   "source": [
    "latest_df = pd.concat([df, df_august], ignore_index = True, axis = 0)\n",
    "latest_df.tail(10)"
   ]
  },
  {
   "cell_type": "code",
   "execution_count": 127,
   "id": "16a14d11-dc39-43ca-979d-217ffe3ea2b7",
   "metadata": {},
   "outputs": [
    {
     "data": {
      "text/plain": [
       "(6507, 16)"
      ]
     },
     "execution_count": 127,
     "metadata": {},
     "output_type": "execute_result"
    }
   ],
   "source": [
    "latest_df.shape"
   ]
  },
  {
   "cell_type": "markdown",
   "id": "78b6accb-7922-4752-bd48-b86962194527",
   "metadata": {},
   "source": [
    "**6. Print revenue realized per city**"
   ]
  },
  {
   "cell_type": "code",
   "execution_count": 128,
   "id": "75cf4173-e1a1-4b5f-81f4-cb658de493bb",
   "metadata": {},
   "outputs": [
    {
     "data": {
      "text/html": [
       "<div>\n",
       "<style scoped>\n",
       "    .dataframe tbody tr th:only-of-type {\n",
       "        vertical-align: middle;\n",
       "    }\n",
       "\n",
       "    .dataframe tbody tr th {\n",
       "        vertical-align: top;\n",
       "    }\n",
       "\n",
       "    .dataframe thead th {\n",
       "        text-align: right;\n",
       "    }\n",
       "</style>\n",
       "<table border=\"1\" class=\"dataframe\">\n",
       "  <thead>\n",
       "    <tr style=\"text-align: right;\">\n",
       "      <th></th>\n",
       "      <th>booking_id</th>\n",
       "      <th>property_id</th>\n",
       "      <th>booking_date</th>\n",
       "      <th>check_in_date</th>\n",
       "      <th>checkout_date</th>\n",
       "      <th>no_guests</th>\n",
       "      <th>room_category</th>\n",
       "      <th>booking_platform</th>\n",
       "      <th>ratings_given</th>\n",
       "      <th>booking_status</th>\n",
       "      <th>revenue_generated</th>\n",
       "      <th>revenue_realized</th>\n",
       "    </tr>\n",
       "  </thead>\n",
       "  <tbody>\n",
       "    <tr>\n",
       "      <th>1</th>\n",
       "      <td>May012216558RT12</td>\n",
       "      <td>16558</td>\n",
       "      <td>30-04-22</td>\n",
       "      <td>1/5/2022</td>\n",
       "      <td>2/5/2022</td>\n",
       "      <td>2.0</td>\n",
       "      <td>RT1</td>\n",
       "      <td>others</td>\n",
       "      <td>NaN</td>\n",
       "      <td>Cancelled</td>\n",
       "      <td>9100</td>\n",
       "      <td>3640</td>\n",
       "    </tr>\n",
       "    <tr>\n",
       "      <th>4</th>\n",
       "      <td>May012216558RT15</td>\n",
       "      <td>16558</td>\n",
       "      <td>27-04-22</td>\n",
       "      <td>1/5/2022</td>\n",
       "      <td>2/5/2022</td>\n",
       "      <td>4.0</td>\n",
       "      <td>RT1</td>\n",
       "      <td>direct online</td>\n",
       "      <td>5.0</td>\n",
       "      <td>Checked Out</td>\n",
       "      <td>10920</td>\n",
       "      <td>10920</td>\n",
       "    </tr>\n",
       "    <tr>\n",
       "      <th>5</th>\n",
       "      <td>May012216558RT16</td>\n",
       "      <td>16558</td>\n",
       "      <td>1/5/2022</td>\n",
       "      <td>1/5/2022</td>\n",
       "      <td>3/5/2022</td>\n",
       "      <td>2.0</td>\n",
       "      <td>RT1</td>\n",
       "      <td>others</td>\n",
       "      <td>4.0</td>\n",
       "      <td>Checked Out</td>\n",
       "      <td>9100</td>\n",
       "      <td>9100</td>\n",
       "    </tr>\n",
       "    <tr>\n",
       "      <th>6</th>\n",
       "      <td>May012216558RT17</td>\n",
       "      <td>16558</td>\n",
       "      <td>28-04-22</td>\n",
       "      <td>1/5/2022</td>\n",
       "      <td>6/5/2022</td>\n",
       "      <td>2.0</td>\n",
       "      <td>RT1</td>\n",
       "      <td>others</td>\n",
       "      <td>NaN</td>\n",
       "      <td>Cancelled</td>\n",
       "      <td>9100</td>\n",
       "      <td>3640</td>\n",
       "    </tr>\n",
       "    <tr>\n",
       "      <th>7</th>\n",
       "      <td>May012216558RT18</td>\n",
       "      <td>16558</td>\n",
       "      <td>26-04-22</td>\n",
       "      <td>1/5/2022</td>\n",
       "      <td>3/5/2022</td>\n",
       "      <td>2.0</td>\n",
       "      <td>RT1</td>\n",
       "      <td>logtrip</td>\n",
       "      <td>NaN</td>\n",
       "      <td>No Show</td>\n",
       "      <td>9100</td>\n",
       "      <td>9100</td>\n",
       "    </tr>\n",
       "  </tbody>\n",
       "</table>\n",
       "</div>"
      ],
      "text/plain": [
       "         booking_id  property_id booking_date check_in_date checkout_date  \\\n",
       "1  May012216558RT12        16558     30-04-22      1/5/2022      2/5/2022   \n",
       "4  May012216558RT15        16558     27-04-22      1/5/2022      2/5/2022   \n",
       "5  May012216558RT16        16558     1/5/2022      1/5/2022      3/5/2022   \n",
       "6  May012216558RT17        16558     28-04-22      1/5/2022      6/5/2022   \n",
       "7  May012216558RT18        16558     26-04-22      1/5/2022      3/5/2022   \n",
       "\n",
       "   no_guests room_category booking_platform  ratings_given booking_status  \\\n",
       "1        2.0           RT1           others            NaN      Cancelled   \n",
       "4        4.0           RT1    direct online            5.0    Checked Out   \n",
       "5        2.0           RT1           others            4.0    Checked Out   \n",
       "6        2.0           RT1           others            NaN      Cancelled   \n",
       "7        2.0           RT1          logtrip            NaN        No Show   \n",
       "\n",
       "   revenue_generated  revenue_realized  \n",
       "1               9100              3640  \n",
       "4              10920             10920  \n",
       "5               9100              9100  \n",
       "6               9100              3640  \n",
       "7               9100              9100  "
      ]
     },
     "execution_count": 128,
     "metadata": {},
     "output_type": "execute_result"
    }
   ],
   "source": [
    "df_bookings.head()"
   ]
  },
  {
   "cell_type": "code",
   "execution_count": 129,
   "id": "a92fbb58-d10f-4120-9cd1-58076887908c",
   "metadata": {},
   "outputs": [
    {
     "data": {
      "text/html": [
       "<div>\n",
       "<style scoped>\n",
       "    .dataframe tbody tr th:only-of-type {\n",
       "        vertical-align: middle;\n",
       "    }\n",
       "\n",
       "    .dataframe tbody tr th {\n",
       "        vertical-align: top;\n",
       "    }\n",
       "\n",
       "    .dataframe thead th {\n",
       "        text-align: right;\n",
       "    }\n",
       "</style>\n",
       "<table border=\"1\" class=\"dataframe\">\n",
       "  <thead>\n",
       "    <tr style=\"text-align: right;\">\n",
       "      <th></th>\n",
       "      <th>property_id</th>\n",
       "      <th>property_name</th>\n",
       "      <th>category</th>\n",
       "      <th>city</th>\n",
       "    </tr>\n",
       "  </thead>\n",
       "  <tbody>\n",
       "    <tr>\n",
       "      <th>0</th>\n",
       "      <td>16558</td>\n",
       "      <td>Atliq Grands</td>\n",
       "      <td>Luxury</td>\n",
       "      <td>Delhi</td>\n",
       "    </tr>\n",
       "    <tr>\n",
       "      <th>1</th>\n",
       "      <td>16559</td>\n",
       "      <td>Atliq Exotica</td>\n",
       "      <td>Luxury</td>\n",
       "      <td>Mumbai</td>\n",
       "    </tr>\n",
       "    <tr>\n",
       "      <th>2</th>\n",
       "      <td>16560</td>\n",
       "      <td>Atliq City</td>\n",
       "      <td>Business</td>\n",
       "      <td>Delhi</td>\n",
       "    </tr>\n",
       "  </tbody>\n",
       "</table>\n",
       "</div>"
      ],
      "text/plain": [
       "   property_id  property_name  category    city\n",
       "0        16558   Atliq Grands    Luxury   Delhi\n",
       "1        16559  Atliq Exotica    Luxury  Mumbai\n",
       "2        16560     Atliq City  Business   Delhi"
      ]
     },
     "execution_count": 129,
     "metadata": {},
     "output_type": "execute_result"
    }
   ],
   "source": [
    "df_hotels.head(3)"
   ]
  },
  {
   "cell_type": "code",
   "execution_count": 130,
   "id": "31ab1ac5-154e-4af3-b497-3320cb88c15d",
   "metadata": {},
   "outputs": [
    {
     "data": {
      "text/html": [
       "<div>\n",
       "<style scoped>\n",
       "    .dataframe tbody tr th:only-of-type {\n",
       "        vertical-align: middle;\n",
       "    }\n",
       "\n",
       "    .dataframe tbody tr th {\n",
       "        vertical-align: top;\n",
       "    }\n",
       "\n",
       "    .dataframe thead th {\n",
       "        text-align: right;\n",
       "    }\n",
       "</style>\n",
       "<table border=\"1\" class=\"dataframe\">\n",
       "  <thead>\n",
       "    <tr style=\"text-align: right;\">\n",
       "      <th></th>\n",
       "      <th>booking_id</th>\n",
       "      <th>property_id</th>\n",
       "      <th>booking_date</th>\n",
       "      <th>check_in_date</th>\n",
       "      <th>checkout_date</th>\n",
       "      <th>no_guests</th>\n",
       "      <th>room_category</th>\n",
       "      <th>booking_platform</th>\n",
       "      <th>ratings_given</th>\n",
       "      <th>booking_status</th>\n",
       "      <th>revenue_generated</th>\n",
       "      <th>revenue_realized</th>\n",
       "      <th>property_name</th>\n",
       "      <th>category</th>\n",
       "      <th>city</th>\n",
       "    </tr>\n",
       "  </thead>\n",
       "  <tbody>\n",
       "    <tr>\n",
       "      <th>0</th>\n",
       "      <td>May012216558RT12</td>\n",
       "      <td>16558</td>\n",
       "      <td>30-04-22</td>\n",
       "      <td>1/5/2022</td>\n",
       "      <td>2/5/2022</td>\n",
       "      <td>2.0</td>\n",
       "      <td>RT1</td>\n",
       "      <td>others</td>\n",
       "      <td>NaN</td>\n",
       "      <td>Cancelled</td>\n",
       "      <td>9100</td>\n",
       "      <td>3640</td>\n",
       "      <td>Atliq Grands</td>\n",
       "      <td>Luxury</td>\n",
       "      <td>Delhi</td>\n",
       "    </tr>\n",
       "    <tr>\n",
       "      <th>1</th>\n",
       "      <td>May012216558RT15</td>\n",
       "      <td>16558</td>\n",
       "      <td>27-04-22</td>\n",
       "      <td>1/5/2022</td>\n",
       "      <td>2/5/2022</td>\n",
       "      <td>4.0</td>\n",
       "      <td>RT1</td>\n",
       "      <td>direct online</td>\n",
       "      <td>5.0</td>\n",
       "      <td>Checked Out</td>\n",
       "      <td>10920</td>\n",
       "      <td>10920</td>\n",
       "      <td>Atliq Grands</td>\n",
       "      <td>Luxury</td>\n",
       "      <td>Delhi</td>\n",
       "    </tr>\n",
       "    <tr>\n",
       "      <th>2</th>\n",
       "      <td>May012216558RT16</td>\n",
       "      <td>16558</td>\n",
       "      <td>1/5/2022</td>\n",
       "      <td>1/5/2022</td>\n",
       "      <td>3/5/2022</td>\n",
       "      <td>2.0</td>\n",
       "      <td>RT1</td>\n",
       "      <td>others</td>\n",
       "      <td>4.0</td>\n",
       "      <td>Checked Out</td>\n",
       "      <td>9100</td>\n",
       "      <td>9100</td>\n",
       "      <td>Atliq Grands</td>\n",
       "      <td>Luxury</td>\n",
       "      <td>Delhi</td>\n",
       "    </tr>\n",
       "  </tbody>\n",
       "</table>\n",
       "</div>"
      ],
      "text/plain": [
       "         booking_id  property_id booking_date check_in_date checkout_date  \\\n",
       "0  May012216558RT12        16558     30-04-22      1/5/2022      2/5/2022   \n",
       "1  May012216558RT15        16558     27-04-22      1/5/2022      2/5/2022   \n",
       "2  May012216558RT16        16558     1/5/2022      1/5/2022      3/5/2022   \n",
       "\n",
       "   no_guests room_category booking_platform  ratings_given booking_status  \\\n",
       "0        2.0           RT1           others            NaN      Cancelled   \n",
       "1        4.0           RT1    direct online            5.0    Checked Out   \n",
       "2        2.0           RT1           others            4.0    Checked Out   \n",
       "\n",
       "   revenue_generated  revenue_realized property_name category   city  \n",
       "0               9100              3640  Atliq Grands   Luxury  Delhi  \n",
       "1              10920             10920  Atliq Grands   Luxury  Delhi  \n",
       "2               9100              9100  Atliq Grands   Luxury  Delhi  "
      ]
     },
     "execution_count": 130,
     "metadata": {},
     "output_type": "execute_result"
    }
   ],
   "source": [
    "df_bookings_all = pd.merge(df_bookings, df_hotels, on=\"property_id\")\n",
    "df_bookings_all.head(3)"
   ]
  },
  {
   "cell_type": "code",
   "execution_count": 131,
   "id": "a72887aa-21fe-41ee-8a15-67e776f54969",
   "metadata": {},
   "outputs": [
    {
     "data": {
      "text/plain": [
       "city\n",
       "Bangalore    420383550\n",
       "Delhi        294404488\n",
       "Hyderabad    325179310\n",
       "Mumbai       668569251\n",
       "Name: revenue_realized, dtype: int64"
      ]
     },
     "execution_count": 131,
     "metadata": {},
     "output_type": "execute_result"
    }
   ],
   "source": [
    "df_bookings_all.groupby(\"city\")[\"revenue_realized\"].sum()"
   ]
  },
  {
   "cell_type": "markdown",
   "id": "baa38835-4721-4b9c-a2b3-75fbd0741f4d",
   "metadata": {},
   "source": [
    "**7. Print month by month revenue**"
   ]
  },
  {
   "cell_type": "code",
   "execution_count": 132,
   "id": "3f3d80e3-c99b-4492-a4e1-f303dbdabd3d",
   "metadata": {},
   "outputs": [
    {
     "data": {
      "text/html": [
       "<div>\n",
       "<style scoped>\n",
       "    .dataframe tbody tr th:only-of-type {\n",
       "        vertical-align: middle;\n",
       "    }\n",
       "\n",
       "    .dataframe tbody tr th {\n",
       "        vertical-align: top;\n",
       "    }\n",
       "\n",
       "    .dataframe thead th {\n",
       "        text-align: right;\n",
       "    }\n",
       "</style>\n",
       "<table border=\"1\" class=\"dataframe\">\n",
       "  <thead>\n",
       "    <tr style=\"text-align: right;\">\n",
       "      <th></th>\n",
       "      <th>date</th>\n",
       "      <th>mmm yy</th>\n",
       "      <th>week no</th>\n",
       "      <th>day_type</th>\n",
       "    </tr>\n",
       "  </thead>\n",
       "  <tbody>\n",
       "    <tr>\n",
       "      <th>0</th>\n",
       "      <td>01-May-22</td>\n",
       "      <td>May 22</td>\n",
       "      <td>W 19</td>\n",
       "      <td>weekend</td>\n",
       "    </tr>\n",
       "    <tr>\n",
       "      <th>1</th>\n",
       "      <td>02-May-22</td>\n",
       "      <td>May 22</td>\n",
       "      <td>W 19</td>\n",
       "      <td>weekeday</td>\n",
       "    </tr>\n",
       "    <tr>\n",
       "      <th>2</th>\n",
       "      <td>03-May-22</td>\n",
       "      <td>May 22</td>\n",
       "      <td>W 19</td>\n",
       "      <td>weekeday</td>\n",
       "    </tr>\n",
       "  </tbody>\n",
       "</table>\n",
       "</div>"
      ],
      "text/plain": [
       "        date  mmm yy week no  day_type\n",
       "0  01-May-22  May 22    W 19   weekend\n",
       "1  02-May-22  May 22    W 19  weekeday\n",
       "2  03-May-22  May 22    W 19  weekeday"
      ]
     },
     "execution_count": 132,
     "metadata": {},
     "output_type": "execute_result"
    }
   ],
   "source": [
    "df_date.head(3)"
   ]
  },
  {
   "cell_type": "code",
   "execution_count": 133,
   "id": "76218249-ccc2-48ad-9bc2-0ea748afb7d5",
   "metadata": {},
   "outputs": [
    {
     "data": {
      "text/plain": [
       "array(['May 22', 'Jun 22', 'Jul 22'], dtype=object)"
      ]
     },
     "execution_count": 133,
     "metadata": {},
     "output_type": "execute_result"
    }
   ],
   "source": [
    "df_date[\"mmm yy\"].unique()"
   ]
  },
  {
   "cell_type": "code",
   "execution_count": 134,
   "id": "52c85082-0bf3-4d22-b82f-9abd12549605",
   "metadata": {},
   "outputs": [
    {
     "data": {
      "text/html": [
       "<div>\n",
       "<style scoped>\n",
       "    .dataframe tbody tr th:only-of-type {\n",
       "        vertical-align: middle;\n",
       "    }\n",
       "\n",
       "    .dataframe tbody tr th {\n",
       "        vertical-align: top;\n",
       "    }\n",
       "\n",
       "    .dataframe thead th {\n",
       "        text-align: right;\n",
       "    }\n",
       "</style>\n",
       "<table border=\"1\" class=\"dataframe\">\n",
       "  <thead>\n",
       "    <tr style=\"text-align: right;\">\n",
       "      <th></th>\n",
       "      <th>booking_id</th>\n",
       "      <th>property_id</th>\n",
       "      <th>booking_date</th>\n",
       "      <th>check_in_date</th>\n",
       "      <th>checkout_date</th>\n",
       "      <th>no_guests</th>\n",
       "      <th>room_category</th>\n",
       "      <th>booking_platform</th>\n",
       "      <th>ratings_given</th>\n",
       "      <th>booking_status</th>\n",
       "      <th>revenue_generated</th>\n",
       "      <th>revenue_realized</th>\n",
       "      <th>property_name</th>\n",
       "      <th>category</th>\n",
       "      <th>city</th>\n",
       "    </tr>\n",
       "  </thead>\n",
       "  <tbody>\n",
       "    <tr>\n",
       "      <th>0</th>\n",
       "      <td>May012216558RT12</td>\n",
       "      <td>16558</td>\n",
       "      <td>30-04-22</td>\n",
       "      <td>1/5/2022</td>\n",
       "      <td>2/5/2022</td>\n",
       "      <td>2.0</td>\n",
       "      <td>RT1</td>\n",
       "      <td>others</td>\n",
       "      <td>NaN</td>\n",
       "      <td>Cancelled</td>\n",
       "      <td>9100</td>\n",
       "      <td>3640</td>\n",
       "      <td>Atliq Grands</td>\n",
       "      <td>Luxury</td>\n",
       "      <td>Delhi</td>\n",
       "    </tr>\n",
       "    <tr>\n",
       "      <th>1</th>\n",
       "      <td>May012216558RT15</td>\n",
       "      <td>16558</td>\n",
       "      <td>27-04-22</td>\n",
       "      <td>1/5/2022</td>\n",
       "      <td>2/5/2022</td>\n",
       "      <td>4.0</td>\n",
       "      <td>RT1</td>\n",
       "      <td>direct online</td>\n",
       "      <td>5.0</td>\n",
       "      <td>Checked Out</td>\n",
       "      <td>10920</td>\n",
       "      <td>10920</td>\n",
       "      <td>Atliq Grands</td>\n",
       "      <td>Luxury</td>\n",
       "      <td>Delhi</td>\n",
       "    </tr>\n",
       "    <tr>\n",
       "      <th>2</th>\n",
       "      <td>May012216558RT16</td>\n",
       "      <td>16558</td>\n",
       "      <td>1/5/2022</td>\n",
       "      <td>1/5/2022</td>\n",
       "      <td>3/5/2022</td>\n",
       "      <td>2.0</td>\n",
       "      <td>RT1</td>\n",
       "      <td>others</td>\n",
       "      <td>4.0</td>\n",
       "      <td>Checked Out</td>\n",
       "      <td>9100</td>\n",
       "      <td>9100</td>\n",
       "      <td>Atliq Grands</td>\n",
       "      <td>Luxury</td>\n",
       "      <td>Delhi</td>\n",
       "    </tr>\n",
       "  </tbody>\n",
       "</table>\n",
       "</div>"
      ],
      "text/plain": [
       "         booking_id  property_id booking_date check_in_date checkout_date  \\\n",
       "0  May012216558RT12        16558     30-04-22      1/5/2022      2/5/2022   \n",
       "1  May012216558RT15        16558     27-04-22      1/5/2022      2/5/2022   \n",
       "2  May012216558RT16        16558     1/5/2022      1/5/2022      3/5/2022   \n",
       "\n",
       "   no_guests room_category booking_platform  ratings_given booking_status  \\\n",
       "0        2.0           RT1           others            NaN      Cancelled   \n",
       "1        4.0           RT1    direct online            5.0    Checked Out   \n",
       "2        2.0           RT1           others            4.0    Checked Out   \n",
       "\n",
       "   revenue_generated  revenue_realized property_name category   city  \n",
       "0               9100              3640  Atliq Grands   Luxury  Delhi  \n",
       "1              10920             10920  Atliq Grands   Luxury  Delhi  \n",
       "2               9100              9100  Atliq Grands   Luxury  Delhi  "
      ]
     },
     "execution_count": 134,
     "metadata": {},
     "output_type": "execute_result"
    }
   ],
   "source": [
    "df_bookings_all.head(3)"
   ]
  },
  {
   "cell_type": "code",
   "execution_count": 135,
   "id": "61dc9d96-ec5e-4296-b4bf-e16255addaa2",
   "metadata": {},
   "outputs": [
    {
     "name": "stdout",
     "output_type": "stream",
     "text": [
      "<class 'pandas.core.frame.DataFrame'>\n",
      "RangeIndex: 92 entries, 0 to 91\n",
      "Data columns (total 4 columns):\n",
      " #   Column    Non-Null Count  Dtype \n",
      "---  ------    --------------  ----- \n",
      " 0   date      92 non-null     object\n",
      " 1   mmm yy    92 non-null     object\n",
      " 2   week no   92 non-null     object\n",
      " 3   day_type  92 non-null     object\n",
      "dtypes: object(4)\n",
      "memory usage: 3.0+ KB\n"
     ]
    }
   ],
   "source": [
    "df_date.info()"
   ]
  },
  {
   "cell_type": "code",
   "execution_count": 137,
   "id": "d78d8f13-0503-41ba-b383-42a520dbe4b3",
   "metadata": {},
   "outputs": [
    {
     "data": {
      "text/html": [
       "<div>\n",
       "<style scoped>\n",
       "    .dataframe tbody tr th:only-of-type {\n",
       "        vertical-align: middle;\n",
       "    }\n",
       "\n",
       "    .dataframe tbody tr th {\n",
       "        vertical-align: top;\n",
       "    }\n",
       "\n",
       "    .dataframe thead th {\n",
       "        text-align: right;\n",
       "    }\n",
       "</style>\n",
       "<table border=\"1\" class=\"dataframe\">\n",
       "  <thead>\n",
       "    <tr style=\"text-align: right;\">\n",
       "      <th></th>\n",
       "      <th>date</th>\n",
       "      <th>mmm yy</th>\n",
       "      <th>week no</th>\n",
       "      <th>day_type</th>\n",
       "    </tr>\n",
       "  </thead>\n",
       "  <tbody>\n",
       "    <tr>\n",
       "      <th>0</th>\n",
       "      <td>2022-05-01</td>\n",
       "      <td>May 22</td>\n",
       "      <td>W 19</td>\n",
       "      <td>weekend</td>\n",
       "    </tr>\n",
       "    <tr>\n",
       "      <th>1</th>\n",
       "      <td>2022-05-02</td>\n",
       "      <td>May 22</td>\n",
       "      <td>W 19</td>\n",
       "      <td>weekeday</td>\n",
       "    </tr>\n",
       "    <tr>\n",
       "      <th>2</th>\n",
       "      <td>2022-05-03</td>\n",
       "      <td>May 22</td>\n",
       "      <td>W 19</td>\n",
       "      <td>weekeday</td>\n",
       "    </tr>\n",
       "  </tbody>\n",
       "</table>\n",
       "</div>"
      ],
      "text/plain": [
       "        date  mmm yy week no  day_type\n",
       "0 2022-05-01  May 22    W 19   weekend\n",
       "1 2022-05-02  May 22    W 19  weekeday\n",
       "2 2022-05-03  May 22    W 19  weekeday"
      ]
     },
     "execution_count": 137,
     "metadata": {},
     "output_type": "execute_result"
    }
   ],
   "source": [
    "df_date[\"date\"] = pd.to_datetime(df_date[\"date\"], errors = \"coerce\")\n",
    "df_date.head(3)"
   ]
  },
  {
   "cell_type": "code",
   "execution_count": 138,
   "id": "a6d803d6-b737-4939-b3fa-9ec01a0d2fd3",
   "metadata": {},
   "outputs": [
    {
     "name": "stdout",
     "output_type": "stream",
     "text": [
      "<class 'pandas.core.frame.DataFrame'>\n",
      "RangeIndex: 134573 entries, 0 to 134572\n",
      "Data columns (total 15 columns):\n",
      " #   Column             Non-Null Count   Dtype  \n",
      "---  ------             --------------   -----  \n",
      " 0   booking_id         134573 non-null  object \n",
      " 1   property_id        134573 non-null  int64  \n",
      " 2   booking_date       134573 non-null  object \n",
      " 3   check_in_date      134573 non-null  object \n",
      " 4   checkout_date      134573 non-null  object \n",
      " 5   no_guests          134573 non-null  float64\n",
      " 6   room_category      134573 non-null  object \n",
      " 7   booking_platform   134573 non-null  object \n",
      " 8   ratings_given      56676 non-null   float64\n",
      " 9   booking_status     134573 non-null  object \n",
      " 10  revenue_generated  134573 non-null  int64  \n",
      " 11  revenue_realized   134573 non-null  int64  \n",
      " 12  property_name      134573 non-null  object \n",
      " 13  category           134573 non-null  object \n",
      " 14  city               134573 non-null  object \n",
      "dtypes: float64(2), int64(3), object(10)\n",
      "memory usage: 15.4+ MB\n"
     ]
    }
   ],
   "source": [
    "df_bookings_all.info()"
   ]
  },
  {
   "cell_type": "code",
   "execution_count": 140,
   "id": "f5e7bd59-a084-4163-b158-664cec7b1bd5",
   "metadata": {},
   "outputs": [
    {
     "data": {
      "text/html": [
       "<div>\n",
       "<style scoped>\n",
       "    .dataframe tbody tr th:only-of-type {\n",
       "        vertical-align: middle;\n",
       "    }\n",
       "\n",
       "    .dataframe tbody tr th {\n",
       "        vertical-align: top;\n",
       "    }\n",
       "\n",
       "    .dataframe thead th {\n",
       "        text-align: right;\n",
       "    }\n",
       "</style>\n",
       "<table border=\"1\" class=\"dataframe\">\n",
       "  <thead>\n",
       "    <tr style=\"text-align: right;\">\n",
       "      <th></th>\n",
       "      <th>booking_id</th>\n",
       "      <th>property_id</th>\n",
       "      <th>booking_date</th>\n",
       "      <th>check_in_date</th>\n",
       "      <th>checkout_date</th>\n",
       "      <th>no_guests</th>\n",
       "      <th>room_category</th>\n",
       "      <th>booking_platform</th>\n",
       "      <th>ratings_given</th>\n",
       "      <th>booking_status</th>\n",
       "      <th>revenue_generated</th>\n",
       "      <th>revenue_realized</th>\n",
       "      <th>property_name</th>\n",
       "      <th>category</th>\n",
       "      <th>city</th>\n",
       "    </tr>\n",
       "  </thead>\n",
       "  <tbody>\n",
       "    <tr>\n",
       "      <th>0</th>\n",
       "      <td>May012216558RT12</td>\n",
       "      <td>16558</td>\n",
       "      <td>30-04-22</td>\n",
       "      <td>2022-01-05</td>\n",
       "      <td>2/5/2022</td>\n",
       "      <td>2.0</td>\n",
       "      <td>RT1</td>\n",
       "      <td>others</td>\n",
       "      <td>NaN</td>\n",
       "      <td>Cancelled</td>\n",
       "      <td>9100</td>\n",
       "      <td>3640</td>\n",
       "      <td>Atliq Grands</td>\n",
       "      <td>Luxury</td>\n",
       "      <td>Delhi</td>\n",
       "    </tr>\n",
       "    <tr>\n",
       "      <th>1</th>\n",
       "      <td>May012216558RT15</td>\n",
       "      <td>16558</td>\n",
       "      <td>27-04-22</td>\n",
       "      <td>2022-01-05</td>\n",
       "      <td>2/5/2022</td>\n",
       "      <td>4.0</td>\n",
       "      <td>RT1</td>\n",
       "      <td>direct online</td>\n",
       "      <td>5.0</td>\n",
       "      <td>Checked Out</td>\n",
       "      <td>10920</td>\n",
       "      <td>10920</td>\n",
       "      <td>Atliq Grands</td>\n",
       "      <td>Luxury</td>\n",
       "      <td>Delhi</td>\n",
       "    </tr>\n",
       "    <tr>\n",
       "      <th>2</th>\n",
       "      <td>May012216558RT16</td>\n",
       "      <td>16558</td>\n",
       "      <td>1/5/2022</td>\n",
       "      <td>2022-01-05</td>\n",
       "      <td>3/5/2022</td>\n",
       "      <td>2.0</td>\n",
       "      <td>RT1</td>\n",
       "      <td>others</td>\n",
       "      <td>4.0</td>\n",
       "      <td>Checked Out</td>\n",
       "      <td>9100</td>\n",
       "      <td>9100</td>\n",
       "      <td>Atliq Grands</td>\n",
       "      <td>Luxury</td>\n",
       "      <td>Delhi</td>\n",
       "    </tr>\n",
       "    <tr>\n",
       "      <th>3</th>\n",
       "      <td>May012216558RT17</td>\n",
       "      <td>16558</td>\n",
       "      <td>28-04-22</td>\n",
       "      <td>2022-01-05</td>\n",
       "      <td>6/5/2022</td>\n",
       "      <td>2.0</td>\n",
       "      <td>RT1</td>\n",
       "      <td>others</td>\n",
       "      <td>NaN</td>\n",
       "      <td>Cancelled</td>\n",
       "      <td>9100</td>\n",
       "      <td>3640</td>\n",
       "      <td>Atliq Grands</td>\n",
       "      <td>Luxury</td>\n",
       "      <td>Delhi</td>\n",
       "    </tr>\n",
       "  </tbody>\n",
       "</table>\n",
       "</div>"
      ],
      "text/plain": [
       "         booking_id  property_id booking_date check_in_date checkout_date  \\\n",
       "0  May012216558RT12        16558     30-04-22    2022-01-05      2/5/2022   \n",
       "1  May012216558RT15        16558     27-04-22    2022-01-05      2/5/2022   \n",
       "2  May012216558RT16        16558     1/5/2022    2022-01-05      3/5/2022   \n",
       "3  May012216558RT17        16558     28-04-22    2022-01-05      6/5/2022   \n",
       "\n",
       "   no_guests room_category booking_platform  ratings_given booking_status  \\\n",
       "0        2.0           RT1           others            NaN      Cancelled   \n",
       "1        4.0           RT1    direct online            5.0    Checked Out   \n",
       "2        2.0           RT1           others            4.0    Checked Out   \n",
       "3        2.0           RT1           others            NaN      Cancelled   \n",
       "\n",
       "   revenue_generated  revenue_realized property_name category   city  \n",
       "0               9100              3640  Atliq Grands   Luxury  Delhi  \n",
       "1              10920             10920  Atliq Grands   Luxury  Delhi  \n",
       "2               9100              9100  Atliq Grands   Luxury  Delhi  \n",
       "3               9100              3640  Atliq Grands   Luxury  Delhi  "
      ]
     },
     "execution_count": 140,
     "metadata": {},
     "output_type": "execute_result"
    }
   ],
   "source": [
    "df_bookings_all[\"check_in_date\"] = pd.to_datetime(df_bookings_all[\"check_in_date\"], errors= \"coerce\")\n",
    "df_bookings_all.head(4)"
   ]
  },
  {
   "cell_type": "code",
   "execution_count": 141,
   "id": "fc49d250-3438-49a8-82c1-682a5f450c6e",
   "metadata": {},
   "outputs": [
    {
     "data": {
      "text/html": [
       "<div>\n",
       "<style scoped>\n",
       "    .dataframe tbody tr th:only-of-type {\n",
       "        vertical-align: middle;\n",
       "    }\n",
       "\n",
       "    .dataframe tbody tr th {\n",
       "        vertical-align: top;\n",
       "    }\n",
       "\n",
       "    .dataframe thead th {\n",
       "        text-align: right;\n",
       "    }\n",
       "</style>\n",
       "<table border=\"1\" class=\"dataframe\">\n",
       "  <thead>\n",
       "    <tr style=\"text-align: right;\">\n",
       "      <th></th>\n",
       "      <th>booking_id</th>\n",
       "      <th>property_id</th>\n",
       "      <th>booking_date</th>\n",
       "      <th>check_in_date</th>\n",
       "      <th>checkout_date</th>\n",
       "      <th>no_guests</th>\n",
       "      <th>room_category</th>\n",
       "      <th>booking_platform</th>\n",
       "      <th>ratings_given</th>\n",
       "      <th>booking_status</th>\n",
       "      <th>revenue_generated</th>\n",
       "      <th>revenue_realized</th>\n",
       "      <th>property_name</th>\n",
       "      <th>category</th>\n",
       "      <th>city</th>\n",
       "      <th>date</th>\n",
       "      <th>mmm yy</th>\n",
       "      <th>week no</th>\n",
       "      <th>day_type</th>\n",
       "    </tr>\n",
       "  </thead>\n",
       "  <tbody>\n",
       "    <tr>\n",
       "      <th>0</th>\n",
       "      <td>May052216558RT11</td>\n",
       "      <td>16558</td>\n",
       "      <td>15-04-22</td>\n",
       "      <td>2022-05-05</td>\n",
       "      <td>7/5/2022</td>\n",
       "      <td>3.0</td>\n",
       "      <td>RT1</td>\n",
       "      <td>tripster</td>\n",
       "      <td>5.0</td>\n",
       "      <td>Checked Out</td>\n",
       "      <td>10010</td>\n",
       "      <td>10010</td>\n",
       "      <td>Atliq Grands</td>\n",
       "      <td>Luxury</td>\n",
       "      <td>Delhi</td>\n",
       "      <td>2022-05-05</td>\n",
       "      <td>May 22</td>\n",
       "      <td>W 19</td>\n",
       "      <td>weekeday</td>\n",
       "    </tr>\n",
       "    <tr>\n",
       "      <th>1</th>\n",
       "      <td>May052216558RT12</td>\n",
       "      <td>16558</td>\n",
       "      <td>30-04-22</td>\n",
       "      <td>2022-05-05</td>\n",
       "      <td>7/5/2022</td>\n",
       "      <td>2.0</td>\n",
       "      <td>RT1</td>\n",
       "      <td>others</td>\n",
       "      <td>NaN</td>\n",
       "      <td>Cancelled</td>\n",
       "      <td>9100</td>\n",
       "      <td>3640</td>\n",
       "      <td>Atliq Grands</td>\n",
       "      <td>Luxury</td>\n",
       "      <td>Delhi</td>\n",
       "      <td>2022-05-05</td>\n",
       "      <td>May 22</td>\n",
       "      <td>W 19</td>\n",
       "      <td>weekeday</td>\n",
       "    </tr>\n",
       "    <tr>\n",
       "      <th>2</th>\n",
       "      <td>May052216558RT13</td>\n",
       "      <td>16558</td>\n",
       "      <td>1/5/2022</td>\n",
       "      <td>2022-05-05</td>\n",
       "      <td>6/5/2022</td>\n",
       "      <td>3.0</td>\n",
       "      <td>RT1</td>\n",
       "      <td>direct offline</td>\n",
       "      <td>5.0</td>\n",
       "      <td>Checked Out</td>\n",
       "      <td>10010</td>\n",
       "      <td>10010</td>\n",
       "      <td>Atliq Grands</td>\n",
       "      <td>Luxury</td>\n",
       "      <td>Delhi</td>\n",
       "      <td>2022-05-05</td>\n",
       "      <td>May 22</td>\n",
       "      <td>W 19</td>\n",
       "      <td>weekeday</td>\n",
       "    </tr>\n",
       "  </tbody>\n",
       "</table>\n",
       "</div>"
      ],
      "text/plain": [
       "         booking_id  property_id booking_date check_in_date checkout_date  \\\n",
       "0  May052216558RT11        16558     15-04-22    2022-05-05      7/5/2022   \n",
       "1  May052216558RT12        16558     30-04-22    2022-05-05      7/5/2022   \n",
       "2  May052216558RT13        16558     1/5/2022    2022-05-05      6/5/2022   \n",
       "\n",
       "   no_guests room_category booking_platform  ratings_given booking_status  \\\n",
       "0        3.0           RT1         tripster            5.0    Checked Out   \n",
       "1        2.0           RT1           others            NaN      Cancelled   \n",
       "2        3.0           RT1   direct offline            5.0    Checked Out   \n",
       "\n",
       "   revenue_generated  revenue_realized property_name category   city  \\\n",
       "0              10010             10010  Atliq Grands   Luxury  Delhi   \n",
       "1               9100              3640  Atliq Grands   Luxury  Delhi   \n",
       "2              10010             10010  Atliq Grands   Luxury  Delhi   \n",
       "\n",
       "        date  mmm yy week no  day_type  \n",
       "0 2022-05-05  May 22    W 19  weekeday  \n",
       "1 2022-05-05  May 22    W 19  weekeday  \n",
       "2 2022-05-05  May 22    W 19  weekeday  "
      ]
     },
     "execution_count": 141,
     "metadata": {},
     "output_type": "execute_result"
    }
   ],
   "source": [
    "df_bookings_all = pd.merge(df_bookings_all, df_date, left_on=\"check_in_date\", right_on=\"date\")\n",
    "df_bookings_all.head(3)"
   ]
  },
  {
   "cell_type": "code",
   "execution_count": 142,
   "id": "a233e0b7-d927-4b46-add3-1e318cd5b717",
   "metadata": {},
   "outputs": [
    {
     "data": {
      "text/plain": [
       "mmm yy\n",
       "Jul 22    60278496\n",
       "Jun 22    52903014\n",
       "May 22    60961428\n",
       "Name: revenue_realized, dtype: int64"
      ]
     },
     "execution_count": 142,
     "metadata": {},
     "output_type": "execute_result"
    }
   ],
   "source": [
    "df_bookings_all.groupby(\"mmm yy\")[\"revenue_realized\"].sum()"
   ]
  },
  {
   "cell_type": "markdown",
   "id": "ead3a2e0-b542-44f3-892e-699f37776453",
   "metadata": {},
   "source": [
    "# Excercise:-"
   ]
  },
  {
   "cell_type": "markdown",
   "id": "be7d29ad-406b-4d26-8b56-cd6c2c3bf65c",
   "metadata": {},
   "source": [
    "**1. Print revenue realized per hotel type**"
   ]
  },
  {
   "cell_type": "markdown",
   "id": "fdbc0969-937b-4bc7-8156-466a3f70cc09",
   "metadata": {},
   "source": [
    "df_bookings_all.property_name.unique()"
   ]
  },
  {
   "cell_type": "code",
   "execution_count": 144,
   "id": "ee8f4d62-be17-4be0-b81a-69eec3cfd9bf",
   "metadata": {},
   "outputs": [
    {
     "data": {
      "text/plain": [
       "property_name\n",
       "Atliq Seasons     6672245\n",
       "Atliq Grands     21644446\n",
       "Atliq Blu        26459751\n",
       "Atliq Bay        26936115\n",
       "Atliq City       29047727\n",
       "Atliq Palace     30945855\n",
       "Atliq Exotica    32436799\n",
       "Name: revenue_realized, dtype: int64"
      ]
     },
     "execution_count": 144,
     "metadata": {},
     "output_type": "execute_result"
    }
   ],
   "source": [
    "df_bookings_all.groupby(\"property_name\")[\"revenue_realized\"].sum().round(2).sort_values()"
   ]
  },
  {
   "cell_type": "code",
   "execution_count": null,
   "id": "91eeee94-8176-4638-a6ef-aa0e07d15c39",
   "metadata": {},
   "outputs": [],
   "source": []
  },
  {
   "cell_type": "markdown",
   "id": "8b1c592b-d2f0-40cb-a797-638f5e410306",
   "metadata": {},
   "source": [
    "**2. Print average rating per city**"
   ]
  },
  {
   "cell_type": "code",
   "execution_count": 145,
   "id": "15ea4205-7189-47bc-8ca5-7b0f10605873",
   "metadata": {},
   "outputs": [
    {
     "data": {
      "text/plain": [
       "city\n",
       "Bangalore    3.41\n",
       "Delhi        3.79\n",
       "Hyderabad    3.65\n",
       "Mumbai       3.63\n",
       "Name: ratings_given, dtype: float64"
      ]
     },
     "execution_count": 145,
     "metadata": {},
     "output_type": "execute_result"
    }
   ],
   "source": [
    "df_bookings_all.groupby(\"city\")[\"ratings_given\"].mean().round(2)"
   ]
  },
  {
   "cell_type": "markdown",
   "id": "322752fb-6268-45b1-bc05-0fdb3cba45c0",
   "metadata": {},
   "source": [
    "**3. Print a pie chart of revenue realized per booking platform**"
   ]
  },
  {
   "cell_type": "code",
   "execution_count": 146,
   "id": "8855c46d-74cf-4463-aeab-2b98ed487bd7",
   "metadata": {},
   "outputs": [
    {
     "data": {
      "text/plain": [
       "<Axes: ylabel='revenue_realized'>"
      ]
     },
     "execution_count": 146,
     "metadata": {},
     "output_type": "execute_result"
    },
    {
     "data": {
      "image/png": "[encoded data removed]",
      "text/plain": [
       "<Figure size 640x480 with 1 Axes>"
      ]
     },
     "metadata": {},
     "output_type": "display_data"
    }
   ],
   "source": [
    "df_bookings_all.groupby(\"booking_platform\")[\"revenue_realized\"].sum().plot(kind=\"pie\")"
   ]
  },
  {
   "cell_type": "code",
   "execution_count": null,
   "id": "54e6aca9-952a-4636-9355-d229bffb3c6e",
   "metadata": {},
   "outputs": [],
   "source": []
  }
 ],
 "metadata": {
  "kernelspec": {
   "display_name": "Python 3 (ipykernel)",
   "language": "python",
   "name": "python3"
  },
  "language_info": {
   "codemirror_mode": {
    "name": "ipython",
    "version": 3
   },
   "file_extension": ".py",
   "mimetype": "text/x-python",
   "name": "python",
   "nbconvert_exporter": "python",
   "pygments_lexer": "ipython3",
   "version": "3.12.4"
  }
 },
 "nbformat": 4,
 "nbformat_minor": 5
}
